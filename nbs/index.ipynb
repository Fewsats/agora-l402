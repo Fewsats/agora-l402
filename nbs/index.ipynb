{
 "cells": [
  {
   "cell_type": "code",
   "execution_count": null,
   "metadata": {},
   "outputs": [],
   "source": [
    "#| hide\n",
    "from agora_l402.core import *"
   ]
  },
  {
   "cell_type": "markdown",
   "metadata": {},
   "source": [
    "# agora-l402\n",
    "\n",
    "> agora-l402 exposes agora API as an MCP server and toolset for AI agents"
   ]
  },
  {
   "cell_type": "markdown",
   "metadata": {},
   "source": [
    "**See Agora MCP in action**:\n",
    "\n",
    " Check out this [example conversation with Claude](https://claude.ai/share/4e26c031-07df-430f-9e78-8168f6db94da) where Agora and Fewsats MCPs work together to let users search for products and complete purchases.\n",
    "\n",
    "# ![Agora and Fewsats integration with Claude](agora-fewsats-claude-chat.png)\n",
    "\n",
    "## Overview\n",
    "\n",
    "Agora L402 is an SDK for integrating with the Agora E-commerce API, enabling AI assistants to use the API either as tools or through MCP.\n",
    "\n",
    "It works with the [Fewsats library](https://github.com/Fewsats/fewsats-python) to allow any product to be purchased through the Fewsats payment system.\n",
    "\n",
    "The project provides a Python library exposed as tools for AI agents and an MCP server for seamless integration with AI assistants like Claude.\n"
   ]
  },
  {
   "cell_type": "markdown",
   "metadata": {},
   "source": [
    "\n",
    "## MCP Server Integration\n",
    "\n",
    "One of the most powerful features of Agora L402 is its Machine Communication Protocol (MCP) server, which enables AI assistants to interact with e-commerce functionality directly.\n",
    "\n",
    "The repository includes a ready-to-use MCP server in the `fastmcp` directory. This allows AI assistants like Claude to:\n",
    "\n",
    "1. Search for products with filtering and sorting\n",
    "2. View detailed product information\n",
    "3. Create shopping carts and add items\n",
    "4. Generate payment intents\n",
    "\n",
    "For detailed setup instructions, see the [FastMCP README](./fastmcp/README.md).\n",
    "\n",
    "### Quick Setup\n",
    "\n",
    "1. Navigate to FastMCP folder `cd fastmcp`\n",
    "2. Copy `.env.example` to `.env` and fill in the values.\n",
    "3. Install FastMCP server with `fastmcp install main.py -f .env`\n",
    "\n",
    "### Payment Flow with Fewsats\n",
    "\n",
    "When a payment is required, the Agora MCP server creates a payment intent; however, this intent must be fulfilled by the [Fewsats MCP server](https://github.com/Fewsats/fewsats-python). This separation of concerns allows for a more secure and modular approach to e-commerce transactions:\n",
    "\n",
    "1. Agora MCP: Product search and discovery\n",
    "2. Fewsats MCP: Payment processing and fulfillment\n",
    "\n",
    "To see this workflow in action, check out this [conversation with Claude](https://claude.ai/share/4e26c031-07df-430f-9e78-8168f6db94da) where both MCPs are used together to create a complete shopping experience.\n",
    "\n",
    "\n",
    "## Python SDK\n",
    "\n",
    "The API is also exposed as a python SDK. Below you can see how to search and generate payment intents:\n",
    "\n",
    "### Installation\n",
    "\n",
    "```bash\n",
    "pip install agora-l402\n",
    "```"
   ]
  },
  {
   "cell_type": "code",
   "execution_count": null,
   "metadata": {},
   "outputs": [
    {
     "data": {
      "text/plain": [
       "{'name': 'Summer Dress',\n",
       " 'storeName': 'Jenni Kayne',\n",
       " 'brand': 'Jenni Kayne',\n",
       " '_id': '6669a49ce5ae459b041cedbf',\n",
       " 'slug': 'summer-dress-ink-stripe-1237cfdf-f7de-4a7f-88cf-a24b977495c1-1718199452733',\n",
       " 'price': 445,\n",
       " 'isVerified': False,\n",
       " 'isBoosted': False,\n",
       " 'source': 'shopify',\n",
       " 'images': ['https://cdn.shopify.com/s/files/1/0565/1234/8333/products/summer-dress-ink-stripe-01_5f8d8e35-7b04-4d3e-ac1e-f7fecfba809e.jpg?v=1677108275',\n",
       "  'https://cdn.shopify.com/s/files/1/0565/1234/8333/products/summer-dress-ink-stripe-5.jpg?v=1677602057',\n",
       "  'https://cdn.shopify.com/s/files/1/0565/1234/8333/products/summer-dress-ink-stripe-03.jpg?v=1677602057',\n",
       "  'https://cdn.shopify.com/s/files/1/0565/1234/8333/products/summer-dress-ink-stripe-04.jpg?v=1677602057'],\n",
       " 'url': 'https://jennikayne.com/products/summer-dress-ink-stripe',\n",
       " 'agoraScore': 100,\n",
       " 'priceHistory': [{'price': 445,\n",
       "   'date': '2024-06-12T13:44:27.912Z',\n",
       "   '_id': '671466656ca0a1804aaa99bf'}],\n",
       " 'discountVal': 0}"
      ]
     },
     "execution_count": null,
     "metadata": {},
     "output_type": "execute_result"
    }
   ],
   "source": [
    "agora = Agora()\n",
    "\n",
    "# Search for products with Agora\n",
    "search_results = agora.search_trial(query=\"summer dress\")\n",
    "product = search_results.json()['Products'][0]\n",
    "product"
   ]
  },
  {
   "cell_type": "code",
   "execution_count": null,
   "metadata": {},
   "outputs": [
    {
     "data": {
      "text/plain": [
       "{'offers': [{'offer_id': '6669a49ce5ae459b041cedbf',\n",
       "   'amount': 445,\n",
       "   'currency': 'USD',\n",
       "   'description': 'Summer Dress',\n",
       "   'title': 'Summer Dress',\n",
       "   'payment_methods': ['lightning', 'credit_card'],\n",
       "   'type': 'one-off'}],\n",
       " 'payment_context_token': '39016b6b-46e9-44fa-910c-0f06e2fc1c85',\n",
       " 'payment_request_url': 'https://api.fewsats.com/v0/l402/payment-request',\n",
       " 'version': '0.2.2'}"
      ]
     },
     "execution_count": null,
     "metadata": {},
     "output_type": "execute_result"
    }
   ],
   "source": [
    "\n",
    "# Generate payment intent (handled by Agora MCP)\n",
    "payment_intent = agora.create_payment_intent(title=product['name'], amount=product['price'], currency='USD', offer_id=product['_id'], description=product['name']).json()\n",
    "payment_intent"
   ]
  },
  {
   "cell_type": "markdown",
   "metadata": {},
   "source": [
    "## AI Agents\n",
    " \n",
    "The SDK is exposed as a list of tools that AI agents can use directly without MCP. The example below shows showcases this using [Claudette library](https://claudette.answer.ai/core.html), a very convenient wrapper for Claude."
   ]
  },
  {
   "cell_type": "code",
   "execution_count": null,
   "metadata": {},
   "outputs": [
    {
     "name": "stdout",
     "output_type": "stream",
     "text": [
      "search_trial\n",
      "get_product_detail\n",
      "create_cart\n",
      "add_to_cart\n",
      "create_order\n",
      "track_order\n",
      "refresh_token\n",
      "create_payment_intent\n"
     ]
    }
   ],
   "source": [
    "from agora_l402.core import Agora\n",
    "\n",
    "agora = Agora()\n",
    "for tool in agora.as_tools():\n",
    "    print(tool.__name__)"
   ]
  },
  {
   "cell_type": "code",
   "execution_count": null,
   "metadata": {},
   "outputs": [],
   "source": [
    "from claudette import Chat, models\n",
    "\n",
    "model = models[1]; model\n",
    "\n",
    "system_prompt = 'You are a helpful assistant that has access to a domain purchase API.'\n",
    "chat = Chat(model, sp=system_prompt, tools=agora.as_tools())\n",
    "\n",
    "chat.run('Find me the most expensive glasses you can.')"
   ]
  }
 ],
 "metadata": {
  "kernelspec": {
   "display_name": "python3",
   "language": "python",
   "name": "python3"
  }
 },
 "nbformat": 4,
 "nbformat_minor": 4
}
