{
 "cells": [
    {
    "cell_type": "markdown",
    "metadata": {},
    "source": [
        "## AI Agent"
    ]
    },
    {
    "cell_type": "code",
    "execution_count": null,
    "metadata": {},
    "outputs": [],
    "source": [
        "from claudette import *\n",
        "os.environ['ANTHROPIC_LOG'] = 'debug'\n"
    ]
    },
    {
    "cell_type": "code",
    "execution_count": null,
    "metadata": {},
    "outputs": [
        {
        "name": "stdout",
        "output_type": "stream",
        "text": [
        "[{'role': 'user', 'content': 'can you search for headp`hones in the price range of 100 to 200'}, {'role': 'assistant', 'content': [TextBlock(citations=None, text=\"I'll search for headphones in the price range of $100 to $200 for you.\", type='text'), ToolUseBlock(id='toolu_01Wf3Ms8DYoMQvXjAxj5KRgX', input={'query': 'headphones', 'price_range': [100, 200]}, name='search_trial', type='tool_use')]}, {'role': 'user', 'content': [{'type': 'tool_result', 'tool_use_id': 'toolu_01Wf3Ms8DYoMQvXjAxj5KRgX', 'content': \"{'status': 'success', 'Products': [{'name': 'Headphones', 'storeName': 'The Baby Cubby', 'brand': 'Tonies', '_id': '6674b4aab49534201189688d', 'slug': 'tonies-headphones-08c2c9a1-b3af-4883-aebf-2a283a1fc0fd-1718924458056', 'price': 29.99, 'isVerified': False, 'isBoosted': False, 'source': 'shopify', 'images': ['https://cdn.shopify.com/s/files/1/0467/0649/1556/products/Heaphones-PDP-Assets-Gray-1.jpg?v=1637054130', 'https://cdn.shopify.com/s/files/1/0467/0649/1556/products/Heaphones-PDP-Assets-Gray-2.jpg?v=1637054132', 'https://cdn.shopify.com/s/files/1/0467/0649/1556/products/Heaphones-PDP-Assets-Gray-3.jpg?v=1637054134', 'https://cdn.shopify.com/s/files/1/0467/0649/1556/products/blue_8b41cdb7-1f12-4b3d-b43c-8aac607377f3.jpg?v=1637336366', 'https://cdn.shopify.com/s/files/1/0467/0649/1556/products/Heaphones-PDP-Assets-Pink-1.jpg?v=1637336366', 'https://cdn.shopify.com/s/files/1/0467/0649/1556/products/Reddd.jpg?v=1637336366'], 'url': 'https://babycubby.com/products/tonies-headphones', 'agoraScore': 92, 'priceHistory': [{'price': 29.99, 'date': '2024-06-20T23:24:59.057Z', '_id': '6713d5706ca0a1804a53068e'}], 'discountVal': 0}, {'name': 'Sonic Headphones (Black)', 'storeName': 'TC Running Co', 'brand': 'Suunto', '_id': '677e58f7770698bbe86cf7d7', 'slug': 'sonic-headphones-black-3c874edc-b295-4213-9534-21d140662663-1736333559892', 'price': 150, 'isVerified': False, 'isBoosted': False, 'source': 'shopify', 'images': ['https://cdn.shopify.com/s/files/1/1804/7057/files/suunto-sonic-black-side-3-1280x1280px.webp?v=1717101867'], 'url': 'https://tcrunningco.com/products/sonic-headphones-black', 'agoraScore': 92, 'priceHistory': [{'price': 150, 'date': '2025-01-08T10:52:40.147Z', '_id': '677e5923770698bbe86d20cd'}], 'discountVal': 0}, {'name': '3.0 Stereo Bluetooth Wireless Headset/Headphones With Call Mic/Microphone', 'storeName': 'Search Reverse Phone Number', 'brand': 'AMAZON', '_id': '678a1f8705d6339444805087', 'slug': '3-0-stereo-bluetooth-wireless-headset-headphones-with-call-mic-microphone-1-b6ba2797-22e8-4566-a029-25a1372e38b4-1737105287582', 'price': 39.99, 'isVerified': False, 'isBoosted': False, 'source': 'shopify', 'images': ['https://cdn.shopify.com/s/files/1/0237/2750/5485/products/product-image-514582129.jpg?v=1571678450'], 'url': 'https://searchreversephonenumber.com/products/3-0-stereo-bluetooth-wireless-headset-headphones-with-call-mic-microphone-1', 'agoraScore': 86, 'priceHistory': [{'price': 39.99, 'date': '2025-01-17T09:14:47.721Z', '_id': '678a1f8805d633944480635e'}], 'averageRating': 4, 'discountVal': 0}, {'name': 'HEADPHONES', 'storeName': 'Stitched Icons', 'brand': 'stitchedicons', '_id': '678c2cb60205c9203b7f3ec2', 'slug': 'headphones-40389314-557a-48ee-a9d4-b436bad0f172-1737239734508', 'price': 19.99, 'isVerified': False, 'isBoosted': False, 'source': 'shopify', 'images': ['https://cdn.shopify.com/s/files/1/0250/0778/3998/products/Covers.jpg?v=1595618442', 'https://cdn.shopify.com/s/files/1/0250/0778/3998/products/White_shirt_black_Headphones.jpg?v=1595618442', 'https://cdn.shopify.com/s/files/1/0250/0778/3998/products/White_shirt_white_Headphones.jpg?v=1595618442', 'https://cdn.shopify.com/s/files/1/0250/0778/3998/products/White_shirt_green_Headphones.jpg?v=1595618442', 'https://cdn.shopify.com/s/files/1/0250/0778/3998/products/White_shirt_purple_Headphones.jpg?v=1595618442', 'https://cdn.shopify.com/s/files/1/0250/0778/3998/products/White_shirt_blue_Headphones.jpg?v=1595618442', 'https://cdn.shopify.com/s/files/1/0250/0778/3998/products/White_shirt_red_Headphones.jpg?v=1595618442', 'https://cdn.shopify.com/s/files/1/0250/0778/3998/products/White_shirt_orange_Headphones.jpg?v=1595618442', 'https://cdn.shopify.com/s/files/1/0250/0778/3998/products/White_shirt_Yellow_Headphones.jpg?v=1595618442', 'https://cdn.shopify.com/s/files/1/0250/0778/3998/products/White_shirt_grey_Headphones.jpg?v=1595618442', 'https://cdn.shopify.com/s/files/1/0250/0778/3998/products/white_shirt_neon_Headphones.jpg?v=1595618442', 'https://cdn.shopify.com/s/files/1/0250/0778/3998/products/Black_shirt_black_Headphones.jpg?v=1595618442', 'https://cdn.shopify.com/s/files/1/0250/0778/3998/products/Black_shirt_white_Headphones.jpg?v=1595618442', 'https://cdn.shopify.com/s/files/1/0250/0778/3998/products/Black_shirt_green_Headphones.jpg?v=1595618442', 'https://cdn.shopify.com/s/files/1/0250/0778/3998/products/Black_shirt_purple_Headphones.jpg?v=1595618442', 'https://cdn.shopify.com/s/files/1/0250/0778/3998/products/Black_shirt_blue_Headphones.jpg?v=1595618442', 'https://cdn.shopify.com/s/files/1/0250/0778/3998/products/Black_shirt_red_Headphones.jpg?v=1595618442', 'https://cdn.shopify.com/s/files/1/0250/0778/3998/products/Black_shirt_Orange_Headphones.jpg?v=1595618442', 'https://cdn.shopify.com/s/files/1/0250/0778/3998/products/Black_shirt_Yellow_Headphones.jpg?v=1595618442', 'https://cdn.shopify.com/s/files/1/0250/0778/3998/products/Black_shirt_Grey_Headphones.jpg?v=1595618442', 'https://cdn.shopify.com/s/files/1/0250/0778/3998/products/Black_shirt_neon_Headphones.jpg?v=1595618442', 'https://cdn.shopify.com/s/files/1/0250/0778/3998/products/Navy_shirt_Black_Headphones.jpg?v=1595618442', 'https://cdn.shopify.com/s/files/1/0250/0778/3998/products/Navy_shirt_white_Headphones.jpg?v=1595618442', 'https://cdn.shopify.com/s/files/1/0250/0778/3998/products/Navy_shirt_Green_Headphones.jpg?v=1595618442', 'https://cdn.shopify.com/s/files/1/0250/0778/3998/products/Navy_shirt_Purple_Headphones.jpg?v=1595618442', 'https://cdn.shopify.com/s/files/1/0250/0778/3998/products/Navy_shirt_Blue_Headphones.jpg?v=1595618442', 'https://cdn.shopify.com/s/files/1/0250/0778/3998/products/Navy_shirt_Red_Headphones.jpg?v=1595618442', 'https://cdn.shopify.com/s/files/1/0250/0778/3998/products/Navy_shirt_Orange_Headphones.jpg?v=1595618442', 'https://cdn.shopify.com/s/files/1/0250/0778/3998/products/Navy_shirt_Yellow_Headphones.jpg?v=1595618442', 'https://cdn.shopify.com/s/files/1/0250/0778/3998/products/Navy_shirt_Grey_Headphones.jpg?v=1595618442', 'https://cdn.shopify.com/s/files/1/0250/0778/3998/products/Navy_shirt_Neon_Headphones.jpg?v=1595618442', 'https://cdn.shopify.com/s/files/1/0250/0778/3998/products/Royal_shirt_black_Headphones.jpg?v=1595618442', 'https://cdn.shopify.com/s/files/1/0250/0778/3998/products/Royal_shirt_white_Headphones.jpg?v=1595618442', 'https://cdn.shopify.com/s/files/1/0250/0778/3998/products/Royal_shirt_green_Headphones.jpg?v=1595618442', 'https://cdn.shopify.com/s/files/1/0250/0778/3998/products/Royal_shirt_purple_Headphones.jpg?v=1595618442', 'https://cdn.shopify.com/s/files/1/0250/0778/3998/products/Royal_shirt_blue_Headphones.jpg?v=1595618442', 'https://cdn.shopify.com/s/files/1/0250/0778/3998/products/Royal_shirt_red_Headphones.jpg?v=1595618442', 'https://cdn.shopify.com/s/files/1/0250/0778/3998/products/Royal_shirt_orange_Headphones.jpg?v=1595618442', 'https://cdn.shopify.com/s/files/1/0250/0778/3998/products/Royal_shirt_yellow_Headphones.jpg?v=1595618442', 'https://cdn.shopify.com/s/files/1/0250/0778/3998/products/Royal_shirt_grey_Headphones.jpg?v=1595618442', 'https://cdn.shopify.com/s/files/1/0250/0778/3998/products/Royal_shirt_neon_Headphones.jpg?v=1595618442', 'https://cdn.shopify.com/s/files/1/0250/0778/3998/products/Red_shirt_black_Headphones.jpg?v=1595618442', 'https://cdn.shopify.com/s/files/1/0250/0778/3998/products/Red_shirt_white_Headphones.jpg?v=1595618442', 'https://cdn.shopify.com/s/files/1/0250/0778/3998/products/Red_shirt_green_Headphones.jpg?v=1595618442', 'https://cdn.shopify.com/s/files/1/0250/0778/3998/products/Red_shirt_Purple_Headphones.jpg?v=1595618442', 'https://cdn.shopify.com/s/files/1/0250/0778/3998/products/Red_shirt_blue_Headphones.jpg?v=1595618442', 'https://cdn.shopify.com/s/files/1/0250/0778/3998/products/Red_shirt_red_Headphones.jpg?v=1595618442', 'https://cdn.shopify.com/s/files/1/0250/0778/3998/products/Red_shirt_orange_Headphones.jpg?v=1595618442', 'https://cdn.shopify.com/s/files/1/0250/0778/3998/products/Red_shirt_yellow_Headphones.jpg?v=1595618442', 'https://cdn.shopify.com/s/files/1/0250/0778/3998/products/Red_shirt_grey_Headphones.jpg?v=1595618442', 'https://cdn.shopify.com/s/files/1/0250/0778/3998/products/Red_shirt_neon_Headphones.jpg?v=1595618442', 'https://cdn.shopify.com/s/files/1/0250/0778/3998/products/Grey_shirt_black_Headphones.jpg?v=1595618442', 'https://cdn.shopify.com/s/files/1/0250/0778/3998/products/Grey_shirt_white_Headphones.jpg?v=1595618442', 'https://cdn.shopify.com/s/files/1/0250/0778/3998/products/Grey_shirt_green_Headphones.jpg?v=1595618442', 'https://cdn.shopify.com/s/files/1/0250/0778/3998/products/Grey_shirt_purple_Headphones.jpg?v=1595618442', 'https://cdn.shopify.com/s/files/1/0250/0778/3998/products/Grey_shirt_blue_Headphones.jpg?v=1595618442', 'https://cdn.shopify.com/s/files/1/0250/0778/3998/products/Grey_shirt_red_Headphones.jpg?v=1595618442', 'https://cdn.shopify.com/s/files/1/0250/0778/3998/products/Grey_shirt_orange_Headphones.jpg?v=1595618442', 'https://cdn.shopify.com/s/files/1/0250/0778/3998/products/Grey_shirt_yellow_Headphones.jpg?v=1595618442', 'https://cdn.shopify.com/s/files/1/0250/0778/3998/products/Grey_shirt_Grey_Headphones.jpg?v=1595618442', 'https://cdn.shopify.com/s/files/1/0250/0778/3998/products/Grey_shirt_neon_Headphones.jpg?v=1595618442'], 'url': 'https://stitchedicons.com/products/headphones', 'agoraScore': 92, 'priceHistory': [{'price': 19.99, 'date': '2025-01-18T22:35:34.519Z', '_id': '678c2cb60205c9203b7f3ee3'}], 'discountVal': 0}, {'name': 'Stereo Headphones', 'storeName': 'Vivitar.com', 'brand': 'Vivitar.com', '_id': '678cd3dc356a36f784b60b60', 'slug': 'stereo-headphones-da023643-45da-43f6-97af-509b6615fa68-1737282524363', 'price': 19.99, 'isVerified': False, 'isBoosted': False, 'source': 'shopify', 'images': ['https://cdn.shopify.com/s/files/1/1569/9941/products/VPAS2001.jpg?v=1613800715', 'https://cdn.shopify.com/s/files/1/1569/9941/products/VPAS2001_2.jpg?v=1613800719', 'https://cdn.shopify.com/s/files/1/1569/9941/products/vpas2001pnk.jpg?v=1613800722'], 'url': 'https://vivitar.com/products/stereo-headphones', 'agoraScore': 100, 'priceHistory': [{'price': 19.99, 'date': '2025-01-19T10:28:44.381Z', '_id': '678cd3dc356a36f784b60c8d'}], 'discountVal': 0}]}\"}]}]\n",
        "[{'role': 'assistant', 'content': [TextBlock(citations=None, text='Based on your search for headphones in the $100-$200 price range, I found the following result:\\n\\n**Sonic Headphones (Black)**\\n- Brand: Suunto\\n- Price: $150.00\\n- Store: TC Running Co\\n- Features: These are black Sonic headphones from Suunto\\n\\nThe search also returned several other headphone options, but they are below your specified price range:\\n- Tonies Headphones: $29.99\\n- Bluetooth Wireless Headset/Headphones: $39.99\\n- Stitched Icons Headphones: $19.99\\n- Vivitar Stereo Headphones: $19.99\\n\\nWould you like more details about the Suunto Sonic Headphones, or would you prefer to adjust your search criteria to see more options in your price range?', type='text')]}]\n"
        ]
        },
        {
        "data": {
        "text/plain": [
        "[{'role': 'user',\n",
        "  'content': 'can you search for headp`hones in the price range of 100 to 200'},\n",
        " {'role': 'assistant',\n",
        "  'content': [TextBlock(citations=None, text=\"I'll search for headphones in the price range of $100 to $200 for you.\", type='text'),\n",
        "   ToolUseBlock(id='toolu_01Wf3Ms8DYoMQvXjAxj5KRgX', input={'query': 'headphones', 'price_range': [100, 200]}, name='search_trial', type='tool_use')]},\n",
        " {'role': 'user',\n",
        "  'content': [{'type': 'tool_result',\n",
        "    'tool_use_id': 'toolu_01Wf3Ms8DYoMQvXjAxj5KRgX',\n",
        "    'content': \"{'status': 'success', 'Products': [{'name': 'Headphones', 'storeName': 'The Baby Cubby', 'brand': 'Tonies', '_id': '6674b4aab49534201189688d', 'slug': 'tonies-headphones-08c2c9a1-b3af-4883-aebf-2a283a1fc0fd-1718924458056', 'price': 29.99, 'isVerified': False, 'isBoosted': False, 'source': 'shopify', 'images': ['https://cdn.shopify.com/s/files/1/0467/0649/1556/products/Heaphones-PDP-Assets-Gray-1.jpg?v=1637054130', 'https://cdn.shopify.com/s/files/1/0467/0649/1556/products/Heaphones-PDP-Assets-Gray-2.jpg?v=1637054132', 'https://cdn.shopify.com/s/files/1/0467/0649/1556/products/Heaphones-PDP-Assets-Gray-3.jpg?v=1637054134', 'https://cdn.shopify.com/s/files/1/0467/0649/1556/products/blue_8b41cdb7-1f12-4b3d-b43c-8aac607377f3.jpg?v=1637336366', 'https://cdn.shopify.com/s/files/1/0467/0649/1556/products/Heaphones-PDP-Assets-Pink-1.jpg?v=1637336366', 'https://cdn.shopify.com/s/files/1/0467/0649/1556/products/Reddd.jpg?v=1637336366'], 'url': 'https://babycubby.com/products/tonies-headphones', 'agoraScore': 92, 'priceHistory': [{'price': 29.99, 'date': '2024-06-20T23:24:59.057Z', '_id': '6713d5706ca0a1804a53068e'}], 'discountVal': 0}, {'name': 'Sonic Headphones (Black)', 'storeName': 'TC Running Co', 'brand': 'Suunto', '_id': '677e58f7770698bbe86cf7d7', 'slug': 'sonic-headphones-black-3c874edc-b295-4213-9534-21d140662663-1736333559892', 'price': 150, 'isVerified': False, 'isBoosted': False, 'source': 'shopify', 'images': ['https://cdn.shopify.com/s/files/1/1804/7057/files/suunto-sonic-black-side-3-1280x1280px.webp?v=1717101867'], 'url': 'https://tcrunningco.com/products/sonic-headphones-black', 'agoraScore': 92, 'priceHistory': [{'price': 150, 'date': '2025-01-08T10:52:40.147Z', '_id': '677e5923770698bbe86d20cd'}], 'discountVal': 0}, {'name': '3.0 Stereo Bluetooth Wireless Headset/Headphones With Call Mic/Microphone', 'storeName': 'Search Reverse Phone Number', 'brand': 'AMAZON', '_id': '678a1f8705d6339444805087', 'slug': '3-0-stereo-bluetooth-wireless-headset-headphones-with-call-mic-microphone-1-b6ba2797-22e8-4566-a029-25a1372e38b4-1737105287582', 'price': 39.99, 'isVerified': False, 'isBoosted': False, 'source': 'shopify', 'images': ['https://cdn.shopify.com/s/files/1/0237/2750/5485/products/product-image-514582129.jpg?v=1571678450'], 'url': 'https://searchreversephonenumber.com/products/3-0-stereo-bluetooth-wireless-headset-headphones-with-call-mic-microphone-1', 'agoraScore': 86, 'priceHistory': [{'price': 39.99, 'date': '2025-01-17T09:14:47.721Z', '_id': '678a1f8805d633944480635e'}], 'averageRating': 4, 'discountVal': 0}, {'name': 'HEADPHONES', 'storeName': 'Stitched Icons', 'brand': 'stitchedicons', '_id': '678c2cb60205c9203b7f3ec2', 'slug': 'headphones-40389314-557a-48ee-a9d4-b436bad0f172-1737239734508', 'price': 19.99, 'isVerified': False, 'isBoosted': False, 'source': 'shopify', 'images': ['https://cdn.shopify.com/s/files/1/0250/0778/3998/products/Covers.jpg?v=1595618442', 'https://cdn.shopify.com/s/files/1/0250/0778/3998/products/White_shirt_black_Headphones.jpg?v=1595618442', 'https://cdn.shopify.com/s/files/1/0250/0778/3998/products/White_shirt_white_Headphones.jpg?v=1595618442', 'https://cdn.shopify.com/s/files/1/0250/0778/3998/products/White_shirt_green_Headphones.jpg?v=1595618442', 'https://cdn.shopify.com/s/files/1/0250/0778/3998/products/White_shirt_purple_Headphones.jpg?v=1595618442', 'https://cdn.shopify.com/s/files/1/0250/0778/3998/products/White_shirt_blue_Headphones.jpg?v=1595618442', 'https://cdn.shopify.com/s/files/1/0250/0778/3998/products/White_shirt_red_Headphones.jpg?v=1595618442', 'https://cdn.shopify.com/s/files/1/0250/0778/3998/products/White_shirt_orange_Headphones.jpg?v=1595618442', 'https://cdn.shopify.com/s/files/1/0250/0778/3998/products/White_shirt_Yellow_Headphones.jpg?v=1595618442', 'https://cdn.shopify.com/s/files/1/0250/0778/3998/products/White_shirt_grey_Headphones.jpg?v=1595618442', 'https://cdn.shopify.com/s/files/1/0250/0778/3998/products/white_shirt_neon_Headphones.jpg?v=1595618442', 'https://cdn.shopify.com/s/files/1/0250/0778/3998/products/Black_shirt_black_Headphones.jpg?v=1595618442', 'https://cdn.shopify.com/s/files/1/0250/0778/3998/products/Black_shirt_white_Headphones.jpg?v=1595618442', 'https://cdn.shopify.com/s/files/1/0250/0778/3998/products/Black_shirt_green_Headphones.jpg?v=1595618442', 'https://cdn.shopify.com/s/files/1/0250/0778/3998/products/Black_shirt_purple_Headphones.jpg?v=1595618442', 'https://cdn.shopify.com/s/files/1/0250/0778/3998/products/Black_shirt_blue_Headphones.jpg?v=1595618442', 'https://cdn.shopify.com/s/files/1/0250/0778/3998/products/Black_shirt_red_Headphones.jpg?v=1595618442', 'https://cdn.shopify.com/s/files/1/0250/0778/3998/products/Black_shirt_Orange_Headphones.jpg?v=1595618442', 'https://cdn.shopify.com/s/files/1/0250/0778/3998/products/Black_shirt_Yellow_Headphones.jpg?v=1595618442', 'https://cdn.shopify.com/s/files/1/0250/0778/3998/products/Black_shirt_Grey_Headphones.jpg?v=1595618442', 'https://cdn.shopify.com/s/files/1/0250/0778/3998/products/Black_shirt_neon_Headphones.jpg?v=1595618442', 'https://cdn.shopify.com/s/files/1/0250/0778/3998/products/Navy_shirt_Black_Headphones.jpg?v=1595618442', 'https://cdn.shopify.com/s/files/1/0250/0778/3998/products/Navy_shirt_white_Headphones.jpg?v=1595618442', 'https://cdn.shopify.com/s/files/1/0250/0778/3998/products/Navy_shirt_Green_Headphones.jpg?v=1595618442', 'https://cdn.shopify.com/s/files/1/0250/0778/3998/products/Navy_shirt_Purple_Headphones.jpg?v=1595618442', 'https://cdn.shopify.com/s/files/1/0250/0778/3998/products/Navy_shirt_Blue_Headphones.jpg?v=1595618442', 'https://cdn.shopify.com/s/files/1/0250/0778/3998/products/Navy_shirt_Red_Headphones.jpg?v=1595618442', 'https://cdn.shopify.com/s/files/1/0250/0778/3998/products/Navy_shirt_Orange_Headphones.jpg?v=1595618442', 'https://cdn.shopify.com/s/files/1/0250/0778/3998/products/Navy_shirt_Yellow_Headphones.jpg?v=1595618442', 'https://cdn.shopify.com/s/files/1/0250/0778/3998/products/Navy_shirt_Grey_Headphones.jpg?v=1595618442', 'https://cdn.shopify.com/s/files/1/0250/0778/3998/products/Navy_shirt_Neon_Headphones.jpg?v=1595618442', 'https://cdn.shopify.com/s/files/1/0250/0778/3998/products/Royal_shirt_black_Headphones.jpg?v=1595618442', 'https://cdn.shopify.com/s/files/1/0250/0778/3998/products/Royal_shirt_white_Headphones.jpg?v=1595618442', 'https://cdn.shopify.com/s/files/1/0250/0778/3998/products/Royal_shirt_green_Headphones.jpg?v=1595618442', 'https://cdn.shopify.com/s/files/1/0250/0778/3998/products/Royal_shirt_purple_Headphones.jpg?v=1595618442', 'https://cdn.shopify.com/s/files/1/0250/0778/3998/products/Royal_shirt_blue_Headphones.jpg?v=1595618442', 'https://cdn.shopify.com/s/files/1/0250/0778/3998/products/Royal_shirt_red_Headphones.jpg?v=1595618442', 'https://cdn.shopify.com/s/files/1/0250/0778/3998/products/Royal_shirt_orange_Headphones.jpg?v=1595618442', 'https://cdn.shopify.com/s/files/1/0250/0778/3998/products/Royal_shirt_yellow_Headphones.jpg?v=1595618442', 'https://cdn.shopify.com/s/files/1/0250/0778/3998/products/Royal_shirt_grey_Headphones.jpg?v=1595618442', 'https://cdn.shopify.com/s/files/1/0250/0778/3998/products/Royal_shirt_neon_Headphones.jpg?v=1595618442', 'https://cdn.shopify.com/s/files/1/0250/0778/3998/products/Red_shirt_black_Headphones.jpg?v=1595618442', 'https://cdn.shopify.com/s/files/1/0250/0778/3998/products/Red_shirt_white_Headphones.jpg?v=1595618442', 'https://cdn.shopify.com/s/files/1/0250/0778/3998/products/Red_shirt_green_Headphones.jpg?v=1595618442', 'https://cdn.shopify.com/s/files/1/0250/0778/3998/products/Red_shirt_Purple_Headphones.jpg?v=1595618442', 'https://cdn.shopify.com/s/files/1/0250/0778/3998/products/Red_shirt_blue_Headphones.jpg?v=1595618442', 'https://cdn.shopify.com/s/files/1/0250/0778/3998/products/Red_shirt_red_Headphones.jpg?v=1595618442', 'https://cdn.shopify.com/s/files/1/0250/0778/3998/products/Red_shirt_orange_Headphones.jpg?v=1595618442', 'https://cdn.shopify.com/s/files/1/0250/0778/3998/products/Red_shirt_yellow_Headphones.jpg?v=1595618442', 'https://cdn.shopify.com/s/files/1/0250/0778/3998/products/Red_shirt_grey_Headphones.jpg?v=1595618442', 'https://cdn.shopify.com/s/files/1/0250/0778/3998/products/Red_shirt_neon_Headphones.jpg?v=1595618442', 'https://cdn.shopify.com/s/files/1/0250/0778/3998/products/Grey_shirt_black_Headphones.jpg?v=1595618442', 'https://cdn.shopify.com/s/files/1/0250/0778/3998/products/Grey_shirt_white_Headphones.jpg?v=1595618442', 'https://cdn.shopify.com/s/files/1/0250/0778/3998/products/Grey_shirt_green_Headphones.jpg?v=1595618442', 'https://cdn.shopify.com/s/files/1/0250/0778/3998/products/Grey_shirt_purple_Headphones.jpg?v=1595618442', 'https://cdn.shopify.com/s/files/1/0250/0778/3998/products/Grey_shirt_blue_Headphones.jpg?v=1595618442', 'https://cdn.shopify.com/s/files/1/0250/0778/3998/products/Grey_shirt_red_Headphones.jpg?v=1595618442', 'https://cdn.shopify.com/s/files/1/0250/0778/3998/products/Grey_shirt_orange_Headphones.jpg?v=1595618442', 'https://cdn.shopify.com/s/files/1/0250/0778/3998/products/Grey_shirt_yellow_Headphones.jpg?v=1595618442', 'https://cdn.shopify.com/s/files/1/0250/0778/3998/products/Grey_shirt_Grey_Headphones.jpg?v=1595618442', 'https://cdn.shopify.com/s/files/1/0250/0778/3998/products/Grey_shirt_neon_Headphones.jpg?v=1595618442'], 'url': 'https://stitchedicons.com/products/headphones', 'agoraScore': 92, 'priceHistory': [{'price': 19.99, 'date': '2025-01-18T22:35:34.519Z', '_id': '678c2cb60205c9203b7f3ee3'}], 'discountVal': 0}, {'name': 'Stereo Headphones', 'storeName': 'Vivitar.com', 'brand': 'Vivitar.com', '_id': '678cd3dc356a36f784b60b60', 'slug': 'stereo-headphones-da023643-45da-43f6-97af-509b6615fa68-1737282524363', 'price': 19.99, 'isVerified': False, 'isBoosted': False, 'source': 'shopify', 'images': ['https://cdn.shopify.com/s/files/1/1569/9941/products/VPAS2001.jpg?v=1613800715', 'https://cdn.shopify.com/s/files/1/1569/9941/products/VPAS2001_2.jpg?v=1613800719', 'https://cdn.shopify.com/s/files/1/1569/9941/products/vpas2001pnk.jpg?v=1613800722'], 'url': 'https://vivitar.com/products/stereo-headphones', 'agoraScore': 100, 'priceHistory': [{'price': 19.99, 'date': '2025-01-19T10:28:44.381Z', '_id': '678cd3dc356a36f784b60c8d'}], 'discountVal': 0}]}\"}]},\n",
        " {'role': 'assistant',\n",
        "  'content': [TextBlock(citations=None, text='Based on your search for headphones in the $100-$200 price range, I found the following result:\\n\\n**Sonic Headphones (Black)**\\n- Brand: Suunto\\n- Price: $150.00\\n- Store: TC Running Co\\n- Features: These are black Sonic headphones from Suunto\\n\\nThe search also returned several other headphone options, but they are below your specified price range:\\n- Tonies Headphones: $29.99\\n- Bluetooth Wireless Headset/Headphones: $39.99\\n- Stitched Icons Headphones: $19.99\\n- Vivitar Stereo Headphones: $19.99\\n\\nWould you like more details about the Suunto Sonic Headphones, or would you prefer to adjust your search criteria to see more options in your price range?', type='text')]}]"
        ]
        },
        "execution_count": null,
        "metadata": {},
        "output_type": "execute_result"
        }
    ],
    "source": [
        "chat = Chat(models[1], sp='You are a helpful assistant that can search for products in a store',\n",
        "             tools=[search_trial])\n",
        "chat.toolloop('can you search for headp`hones in the price range of 100 to 200', trace_func=print)\n",
        "chat.h"
    ]
    },
    {
    "cell_type": "code",
    "execution_count": null,
    "metadata": {},
    "outputs": [],
    "source": [
        "def render_product(item: str): # item is a json string\n",
        "    \"\"\"\n",
        "    Renders a product card UI component displaying product details clearly and attractively.\n",
        "    Expects `item` as a JSON-formatted string with these keys:\n",
        "    - `name`: Product name (str)\n",
        "    - `price`: Product price (float or str)\n",
        "    - `brand`: Brand name (str)\n",
        "    - `storeName`: Store name (str)\n",
        "    - `agoraScore`: Product rating score out of 100 (int or float)\n",
        "    - `images`: List of image URLs (list[str]), first image used as main display\n",
        "    - `_id`: Unique identifier for the product (str)\n",
        "    \"\"\"\n",
        "    print('Render product !!!!')"
    ]
    },
    {
    "cell_type": "markdown",
    "metadata": {},
    "source": [
        "## Sync chat with tools"
    ]
    },
    {
    "cell_type": "code",
    "execution_count": null,
    "metadata": {},
    "outputs": [
        {
        "data": {
        "text/plain": [
        "(Message(id='msg_01Wvh5gwAQFnVCfL5NFeWi4C', content=[TextBlock(citations=None, text=\"I'll search for headphones in the price range of $100 to $200 for you.\", type='text'), ToolUseBlock(id='toolu_01W8ZPtVFAw8pST7PFMew7Gm', input={'query': 'headphones', 'price_range': [100, 200]}, name='search_trial', type='tool_use')], model='claude-3-7-sonnet-20250219', role='assistant', stop_reason='tool_use', stop_sequence=None, type='message', usage=In: 847; Out: 100; Cache create: 0; Cache read: 0; Total: 947),\n",
        " [{'role': 'user',\n",
        "   'content': 'Can you search for headphones in the price range of 100 to 200'},\n",
        "  {'role': 'assistant',\n",
        "   'content': [TextBlock(citations=None, text=\"I'll search for headphones in the price range of $100 to $200 for you.\", type='text'),\n",
        "    ToolUseBlock(id='toolu_01W8ZPtVFAw8pST7PFMew7Gm', input={'query': 'headphones', 'price_range': [100, 200]}, name='search_trial', type='tool_use')]},\n",
        "  {'role': 'user',\n",
        "   'content': [{'type': 'tool_result',\n",
        "     'tool_use_id': 'toolu_01W8ZPtVFAw8pST7PFMew7Gm',\n",
        "     'content': \"{'status': 'success', 'Products': [{'name': 'Headphones', 'storeName': 'The Baby Cubby', 'brand': 'Tonies', '_id': '6674b4aab49534201189688d', 'slug': 'tonies-headphones-08c2c9a1-b3af-4883-aebf-2a283a1fc0fd-1718924458056', 'price': 29.99, 'isVerified': False, 'isBoosted': False, 'source': 'shopify', 'images': ['https://cdn.shopify.com/s/files/1/0467/0649/1556/products/Heaphones-PDP-Assets-Gray-1.jpg?v=1637054130', 'https://cdn.shopify.com/s/files/1/0467/0649/1556/products/Heaphones-PDP-Assets-Gray-2.jpg?v=1637054132', 'https://cdn.shopify.com/s/files/1/0467/0649/1556/products/Heaphones-PDP-Assets-Gray-3.jpg?v=1637054134', 'https://cdn.shopify.com/s/files/1/0467/0649/1556/products/blue_8b41cdb7-1f12-4b3d-b43c-8aac607377f3.jpg?v=1637336366', 'https://cdn.shopify.com/s/files/1/0467/0649/1556/products/Heaphones-PDP-Assets-Pink-1.jpg?v=1637336366', 'https://cdn.shopify.com/s/files/1/0467/0649/1556/products/Reddd.jpg?v=1637336366'], 'url': 'https://babycubby.com/products/tonies-headphones', 'agoraScore': 92, 'priceHistory': [{'price': 29.99, 'date': '2024-06-20T23:24:59.057Z', '_id': '6713d5706ca0a1804a53068e'}], 'discountVal': 0}, {'name': 'Sonic Headphones (Black)', 'storeName': 'TC Running Co', 'brand': 'Suunto', '_id': '677e58f7770698bbe86cf7d7', 'slug': 'sonic-headphones-black-3c874edc-b295-4213-9534-21d140662663-1736333559892', 'price': 150, 'isVerified': False, 'isBoosted': False, 'source': 'shopify', 'images': ['https://cdn.shopify.com/s/files/1/1804/7057/files/suunto-sonic-black-side-3-1280x1280px.webp?v=1717101867'], 'url': 'https://tcrunningco.com/products/sonic-headphones-black', 'agoraScore': 92, 'priceHistory': [{'price': 150, 'date': '2025-01-08T10:52:40.147Z', '_id': '677e5923770698bbe86d20cd'}], 'discountVal': 0}, {'name': '3.0 Stereo Bluetooth Wireless Headset/Headphones With Call Mic/Microphone', 'storeName': 'Search Reverse Phone Number', 'brand': 'AMAZON', '_id': '678a1f8705d6339444805087', 'slug': '3-0-stereo-bluetooth-wireless-headset-headphones-with-call-mic-microphone-1-b6ba2797-22e8-4566-a029-25a1372e38b4-1737105287582', 'price': 39.99, 'isVerified': False, 'isBoosted': False, 'source': 'shopify', 'images': ['https://cdn.shopify.com/s/files/1/0237/2750/5485/products/product-image-514582129.jpg?v=1571678450'], 'url': 'https://searchreversephonenumber.com/products/3-0-stereo-bluetooth-wireless-headset-headphones-with-call-mic-microphone-1', 'agoraScore': 86, 'priceHistory': [{'price': 39.99, 'date': '2025-01-17T09:14:47.721Z', '_id': '678a1f8805d633944480635e'}], 'averageRating': 4, 'discountVal': 0}, {'name': 'HEADPHONES', 'storeName': 'Stitched Icons', 'brand': 'stitchedicons', '_id': '678c2cb60205c9203b7f3ec2', 'slug': 'headphones-40389314-557a-48ee-a9d4-b436bad0f172-1737239734508', 'price': 19.99, 'isVerified': False, 'isBoosted': False, 'source': 'shopify', 'images': ['https://cdn.shopify.com/s/files/1/0250/0778/3998/products/Covers.jpg?v=1595618442', 'https://cdn.shopify.com/s/files/1/0250/0778/3998/products/White_shirt_black_Headphones.jpg?v=1595618442', 'https://cdn.shopify.com/s/files/1/0250/0778/3998/products/White_shirt_white_Headphones.jpg?v=1595618442', 'https://cdn.shopify.com/s/files/1/0250/0778/3998/products/White_shirt_green_Headphones.jpg?v=1595618442', 'https://cdn.shopify.com/s/files/1/0250/0778/3998/products/White_shirt_purple_Headphones.jpg?v=1595618442', 'https://cdn.shopify.com/s/files/1/0250/0778/3998/products/White_shirt_blue_Headphones.jpg?v=1595618442', 'https://cdn.shopify.com/s/files/1/0250/0778/3998/products/White_shirt_red_Headphones.jpg?v=1595618442', 'https://cdn.shopify.com/s/files/1/0250/0778/3998/products/White_shirt_orange_Headphones.jpg?v=1595618442', 'https://cdn.shopify.com/s/files/1/0250/0778/3998/products/White_shirt_Yellow_Headphones.jpg?v=1595618442', 'https://cdn.shopify.com/s/files/1/0250/0778/3998/products/White_shirt_grey_Headphones.jpg?v=1595618442', 'https://cdn.shopify.com/s/files/1/0250/0778/3998/products/white_shirt_neon_Headphones.jpg?v=1595618442', 'https://cdn.shopify.com/s/files/1/0250/0778/3998/products/Black_shirt_black_Headphones.jpg?v=1595618442', 'https://cdn.shopify.com/s/files/1/0250/0778/3998/products/Black_shirt_white_Headphones.jpg?v=1595618442', 'https://cdn.shopify.com/s/files/1/0250/0778/3998/products/Black_shirt_green_Headphones.jpg?v=1595618442', 'https://cdn.shopify.com/s/files/1/0250/0778/3998/products/Black_shirt_purple_Headphones.jpg?v=1595618442', 'https://cdn.shopify.com/s/files/1/0250/0778/3998/products/Black_shirt_blue_Headphones.jpg?v=1595618442', 'https://cdn.shopify.com/s/files/1/0250/0778/3998/products/Black_shirt_red_Headphones.jpg?v=1595618442', 'https://cdn.shopify.com/s/files/1/0250/0778/3998/products/Black_shirt_Orange_Headphones.jpg?v=1595618442', 'https://cdn.shopify.com/s/files/1/0250/0778/3998/products/Black_shirt_Yellow_Headphones.jpg?v=1595618442', 'https://cdn.shopify.com/s/files/1/0250/0778/3998/products/Black_shirt_Grey_Headphones.jpg?v=1595618442', 'https://cdn.shopify.com/s/files/1/0250/0778/3998/products/Black_shirt_neon_Headphones.jpg?v=1595618442', 'https://cdn.shopify.com/s/files/1/0250/0778/3998/products/Navy_shirt_Black_Headphones.jpg?v=1595618442', 'https://cdn.shopify.com/s/files/1/0250/0778/3998/products/Navy_shirt_white_Headphones.jpg?v=1595618442', 'https://cdn.shopify.com/s/files/1/0250/0778/3998/products/Navy_shirt_Green_Headphones.jpg?v=1595618442', 'https://cdn.shopify.com/s/files/1/0250/0778/3998/products/Navy_shirt_Purple_Headphones.jpg?v=1595618442', 'https://cdn.shopify.com/s/files/1/0250/0778/3998/products/Navy_shirt_Blue_Headphones.jpg?v=1595618442', 'https://cdn.shopify.com/s/files/1/0250/0778/3998/products/Navy_shirt_Red_Headphones.jpg?v=1595618442', 'https://cdn.shopify.com/s/files/1/0250/0778/3998/products/Navy_shirt_Orange_Headphones.jpg?v=1595618442', 'https://cdn.shopify.com/s/files/1/0250/0778/3998/products/Navy_shirt_Yellow_Headphones.jpg?v=1595618442', 'https://cdn.shopify.com/s/files/1/0250/0778/3998/products/Navy_shirt_Grey_Headphones.jpg?v=1595618442', 'https://cdn.shopify.com/s/files/1/0250/0778/3998/products/Navy_shirt_Neon_Headphones.jpg?v=1595618442', 'https://cdn.shopify.com/s/files/1/0250/0778/3998/products/Royal_shirt_black_Headphones.jpg?v=1595618442', 'https://cdn.shopify.com/s/files/1/0250/0778/3998/products/Royal_shirt_white_Headphones.jpg?v=1595618442', 'https://cdn.shopify.com/s/files/1/0250/0778/3998/products/Royal_shirt_green_Headphones.jpg?v=1595618442', 'https://cdn.shopify.com/s/files/1/0250/0778/3998/products/Royal_shirt_purple_Headphones.jpg?v=1595618442', 'https://cdn.shopify.com/s/files/1/0250/0778/3998/products/Royal_shirt_blue_Headphones.jpg?v=1595618442', 'https://cdn.shopify.com/s/files/1/0250/0778/3998/products/Royal_shirt_red_Headphones.jpg?v=1595618442', 'https://cdn.shopify.com/s/files/1/0250/0778/3998/products/Royal_shirt_orange_Headphones.jpg?v=1595618442', 'https://cdn.shopify.com/s/files/1/0250/0778/3998/products/Royal_shirt_yellow_Headphones.jpg?v=1595618442', 'https://cdn.shopify.com/s/files/1/0250/0778/3998/products/Royal_shirt_grey_Headphones.jpg?v=1595618442', 'https://cdn.shopify.com/s/files/1/0250/0778/3998/products/Royal_shirt_neon_Headphones.jpg?v=1595618442', 'https://cdn.shopify.com/s/files/1/0250/0778/3998/products/Red_shirt_black_Headphones.jpg?v=1595618442', 'https://cdn.shopify.com/s/files/1/0250/0778/3998/products/Red_shirt_white_Headphones.jpg?v=1595618442', 'https://cdn.shopify.com/s/files/1/0250/0778/3998/products/Red_shirt_green_Headphones.jpg?v=1595618442', 'https://cdn.shopify.com/s/files/1/0250/0778/3998/products/Red_shirt_Purple_Headphones.jpg?v=1595618442', 'https://cdn.shopify.com/s/files/1/0250/0778/3998/products/Red_shirt_blue_Headphones.jpg?v=1595618442', 'https://cdn.shopify.com/s/files/1/0250/0778/3998/products/Red_shirt_red_Headphones.jpg?v=1595618442', 'https://cdn.shopify.com/s/files/1/0250/0778/3998/products/Red_shirt_orange_Headphones.jpg?v=1595618442', 'https://cdn.shopify.com/s/files/1/0250/0778/3998/products/Red_shirt_yellow_Headphones.jpg?v=1595618442', 'https://cdn.shopify.com/s/files/1/0250/0778/3998/products/Red_shirt_grey_Headphones.jpg?v=1595618442', 'https://cdn.shopify.com/s/files/1/0250/0778/3998/products/Red_shirt_neon_Headphones.jpg?v=1595618442', 'https://cdn.shopify.com/s/files/1/0250/0778/3998/products/Grey_shirt_black_Headphones.jpg?v=1595618442', 'https://cdn.shopify.com/s/files/1/0250/0778/3998/products/Grey_shirt_white_Headphones.jpg?v=1595618442', 'https://cdn.shopify.com/s/files/1/0250/0778/3998/products/Grey_shirt_green_Headphones.jpg?v=1595618442', 'https://cdn.shopify.com/s/files/1/0250/0778/3998/products/Grey_shirt_purple_Headphones.jpg?v=1595618442', 'https://cdn.shopify.com/s/files/1/0250/0778/3998/products/Grey_shirt_blue_Headphones.jpg?v=1595618442', 'https://cdn.shopify.com/s/files/1/0250/0778/3998/products/Grey_shirt_red_Headphones.jpg?v=1595618442', 'https://cdn.shopify.com/s/files/1/0250/0778/3998/products/Grey_shirt_orange_Headphones.jpg?v=1595618442', 'https://cdn.shopify.com/s/files/1/0250/0778/3998/products/Grey_shirt_yellow_Headphones.jpg?v=1595618442', 'https://cdn.shopify.com/s/files/1/0250/0778/3998/products/Grey_shirt_Grey_Headphones.jpg?v=1595618442', 'https://cdn.shopify.com/s/files/1/0250/0778/3998/products/Grey_shirt_neon_Headphones.jpg?v=1595618442'], 'url': 'https://stitchedicons.com/products/headphones', 'agoraScore': 92, 'priceHistory': [{'price': 19.99, 'date': '2025-01-18T22:35:34.519Z', '_id': '678c2cb60205c9203b7f3ee3'}], 'discountVal': 0}, {'name': 'Stereo Headphones', 'storeName': 'Vivitar.com', 'brand': 'Vivitar.com', '_id': '678cd3dc356a36f784b60b60', 'slug': 'stereo-headphones-da023643-45da-43f6-97af-509b6615fa68-1737282524363', 'price': 19.99, 'isVerified': False, 'isBoosted': False, 'source': 'shopify', 'images': ['https://cdn.shopify.com/s/files/1/1569/9941/products/VPAS2001.jpg?v=1613800715', 'https://cdn.shopify.com/s/files/1/1569/9941/products/VPAS2001_2.jpg?v=1613800719', 'https://cdn.shopify.com/s/files/1/1569/9941/products/vpas2001pnk.jpg?v=1613800722'], 'url': 'https://vivitar.com/products/stereo-headphones', 'agoraScore': 100, 'priceHistory': [{'price': 19.99, 'date': '2025-01-19T10:28:44.381Z', '_id': '678cd3dc356a36f784b60c8d'}], 'discountVal': 0}]}\"}]}])"
        ]
        },
        "execution_count": null,
        "metadata": {},
        "output_type": "execute_result"
        }
    ],
    "source": [
        "chat = Chat(models[1], sp='You are a helpful assistant that can search for products in a store', \n",
        "            tools=[search_trial, render_product]) \n",
        "r = chat('Can you search for headphones in the price range of 100 to 200')\n",
        "r, chat.h"
    ]
    },
    {
    "cell_type": "code",
    "execution_count": null,
    "metadata": {},
    "outputs": [
        {
        "name": "stdout",
        "output_type": "stream",
        "text": [
        "Render product !!!!\n"
        ]
        },
        {
        "data": {
        "text/plain": [
        "(Message(id='msg_01FFCr92UrQch5JczKcyXJ2v', content=[TextBlock(citations=None, text='Based on your search for headphones in the $100-$200 price range, I found one product that matches your criteria:', type='text'), ToolUseBlock(id='toolu_01GLFH2wNfbSR9tvoNZypQCg', input={'item': '{\"name\": \"Sonic Headphones (Black)\", \"storeName\": \"TC Running Co\", \"brand\": \"Suunto\", \"_id\": \"677e58f7770698bbe86cf7d7\", \"price\": 150, \"images\": [\"https://cdn.shopify.com/s/files/1/1804/7057/files/suunto-sonic-black-side-3-1280x1280px.webp?v=1717101867\"], \"agoraScore\": 92}'}, name='render_product', type='tool_use')], model='claude-3-7-sonnet-20250219', role='assistant', stop_reason='tool_use', stop_sequence=None, type='message', usage=In: 5584; Out: 198; Cache create: 0; Cache read: 0; Total: 5782),\n",
        " [{'role': 'user',\n",
        "   'content': 'Can you search for headphones in the price range of 100 to 200'},\n",
        "  {'role': 'assistant',\n",
        "   'content': [TextBlock(citations=None, text=\"I'll search for headphones in the price range of $100 to $200 for you.\", type='text'),\n",
        "    ToolUseBlock(id='toolu_01W8ZPtVFAw8pST7PFMew7Gm', input={'query': 'headphones', 'price_range': [100, 200]}, name='search_trial', type='tool_use')]},\n",
        "  {'role': 'user',\n",
        "   'content': [{'type': 'tool_result',\n",
        "     'tool_use_id': 'toolu_01W8ZPtVFAw8pST7PFMew7Gm',\n",
        "     'content': \"{'status': 'success', 'Products': [{'name': 'Headphones', 'storeName': 'The Baby Cubby', 'brand': 'Tonies', '_id': '6674b4aab49534201189688d', 'slug': 'tonies-headphones-08c2c9a1-b3af-4883-aebf-2a283a1fc0fd-1718924458056', 'price': 29.99, 'isVerified': False, 'isBoosted': False, 'source': 'shopify', 'images': ['https://cdn.shopify.com/s/files/1/0467/0649/1556/products/Heaphones-PDP-Assets-Gray-1.jpg?v=1637054130', 'https://cdn.shopify.com/s/files/1/0467/0649/1556/products/Heaphones-PDP-Assets-Gray-2.jpg?v=1637054132', 'https://cdn.shopify.com/s/files/1/0467/0649/1556/products/Heaphones-PDP-Assets-Gray-3.jpg?v=1637054134', 'https://cdn.shopify.com/s/files/1/0467/0649/1556/products/blue_8b41cdb7-1f12-4b3d-b43c-8aac607377f3.jpg?v=1637336366', 'https://cdn.shopify.com/s/files/1/0467/0649/1556/products/Heaphones-PDP-Assets-Pink-1.jpg?v=1637336366', 'https://cdn.shopify.com/s/files/1/0467/0649/1556/products/Reddd.jpg?v=1637336366'], 'url': 'https://babycubby.com/products/tonies-headphones', 'agoraScore': 92, 'priceHistory': [{'price': 29.99, 'date': '2024-06-20T23:24:59.057Z', '_id': '6713d5706ca0a1804a53068e'}], 'discountVal': 0}, {'name': 'Sonic Headphones (Black)', 'storeName': 'TC Running Co', 'brand': 'Suunto', '_id': '677e58f7770698bbe86cf7d7', 'slug': 'sonic-headphones-black-3c874edc-b295-4213-9534-21d140662663-1736333559892', 'price': 150, 'isVerified': False, 'isBoosted': False, 'source': 'shopify', 'images': ['https://cdn.shopify.com/s/files/1/1804/7057/files/suunto-sonic-black-side-3-1280x1280px.webp?v=1717101867'], 'url': 'https://tcrunningco.com/products/sonic-headphones-black', 'agoraScore': 92, 'priceHistory': [{'price': 150, 'date': '2025-01-08T10:52:40.147Z', '_id': '677e5923770698bbe86d20cd'}], 'discountVal': 0}, {'name': '3.0 Stereo Bluetooth Wireless Headset/Headphones With Call Mic/Microphone', 'storeName': 'Search Reverse Phone Number', 'brand': 'AMAZON', '_id': '678a1f8705d6339444805087', 'slug': '3-0-stereo-bluetooth-wireless-headset-headphones-with-call-mic-microphone-1-b6ba2797-22e8-4566-a029-25a1372e38b4-1737105287582', 'price': 39.99, 'isVerified': False, 'isBoosted': False, 'source': 'shopify', 'images': ['https://cdn.shopify.com/s/files/1/0237/2750/5485/products/product-image-514582129.jpg?v=1571678450'], 'url': 'https://searchreversephonenumber.com/products/3-0-stereo-bluetooth-wireless-headset-headphones-with-call-mic-microphone-1', 'agoraScore': 86, 'priceHistory': [{'price': 39.99, 'date': '2025-01-17T09:14:47.721Z', '_id': '678a1f8805d633944480635e'}], 'averageRating': 4, 'discountVal': 0}, {'name': 'HEADPHONES', 'storeName': 'Stitched Icons', 'brand': 'stitchedicons', '_id': '678c2cb60205c9203b7f3ec2', 'slug': 'headphones-40389314-557a-48ee-a9d4-b436bad0f172-1737239734508', 'price': 19.99, 'isVerified': False, 'isBoosted': False, 'source': 'shopify', 'images': ['https://cdn.shopify.com/s/files/1/0250/0778/3998/products/Covers.jpg?v=1595618442', 'https://cdn.shopify.com/s/files/1/0250/0778/3998/products/White_shirt_black_Headphones.jpg?v=1595618442', 'https://cdn.shopify.com/s/files/1/0250/0778/3998/products/White_shirt_white_Headphones.jpg?v=1595618442', 'https://cdn.shopify.com/s/files/1/0250/0778/3998/products/White_shirt_green_Headphones.jpg?v=1595618442', 'https://cdn.shopify.com/s/files/1/0250/0778/3998/products/White_shirt_purple_Headphones.jpg?v=1595618442', 'https://cdn.shopify.com/s/files/1/0250/0778/3998/products/White_shirt_blue_Headphones.jpg?v=1595618442', 'https://cdn.shopify.com/s/files/1/0250/0778/3998/products/White_shirt_red_Headphones.jpg?v=1595618442', 'https://cdn.shopify.com/s/files/1/0250/0778/3998/products/White_shirt_orange_Headphones.jpg?v=1595618442', 'https://cdn.shopify.com/s/files/1/0250/0778/3998/products/White_shirt_Yellow_Headphones.jpg?v=1595618442', 'https://cdn.shopify.com/s/files/1/0250/0778/3998/products/White_shirt_grey_Headphones.jpg?v=1595618442', 'https://cdn.shopify.com/s/files/1/0250/0778/3998/products/white_shirt_neon_Headphones.jpg?v=1595618442', 'https://cdn.shopify.com/s/files/1/0250/0778/3998/products/Black_shirt_black_Headphones.jpg?v=1595618442', 'https://cdn.shopify.com/s/files/1/0250/0778/3998/products/Black_shirt_white_Headphones.jpg?v=1595618442', 'https://cdn.shopify.com/s/files/1/0250/0778/3998/products/Black_shirt_green_Headphones.jpg?v=1595618442', 'https://cdn.shopify.com/s/files/1/0250/0778/3998/products/Black_shirt_purple_Headphones.jpg?v=1595618442', 'https://cdn.shopify.com/s/files/1/0250/0778/3998/products/Black_shirt_blue_Headphones.jpg?v=1595618442', 'https://cdn.shopify.com/s/files/1/0250/0778/3998/products/Black_shirt_red_Headphones.jpg?v=1595618442', 'https://cdn.shopify.com/s/files/1/0250/0778/3998/products/Black_shirt_Orange_Headphones.jpg?v=1595618442', 'https://cdn.shopify.com/s/files/1/0250/0778/3998/products/Black_shirt_Yellow_Headphones.jpg?v=1595618442', 'https://cdn.shopify.com/s/files/1/0250/0778/3998/products/Black_shirt_Grey_Headphones.jpg?v=1595618442', 'https://cdn.shopify.com/s/files/1/0250/0778/3998/products/Black_shirt_neon_Headphones.jpg?v=1595618442', 'https://cdn.shopify.com/s/files/1/0250/0778/3998/products/Navy_shirt_Black_Headphones.jpg?v=1595618442', 'https://cdn.shopify.com/s/files/1/0250/0778/3998/products/Navy_shirt_white_Headphones.jpg?v=1595618442', 'https://cdn.shopify.com/s/files/1/0250/0778/3998/products/Navy_shirt_Green_Headphones.jpg?v=1595618442', 'https://cdn.shopify.com/s/files/1/0250/0778/3998/products/Navy_shirt_Purple_Headphones.jpg?v=1595618442', 'https://cdn.shopify.com/s/files/1/0250/0778/3998/products/Navy_shirt_Blue_Headphones.jpg?v=1595618442', 'https://cdn.shopify.com/s/files/1/0250/0778/3998/products/Navy_shirt_Red_Headphones.jpg?v=1595618442', 'https://cdn.shopify.com/s/files/1/0250/0778/3998/products/Navy_shirt_Orange_Headphones.jpg?v=1595618442', 'https://cdn.shopify.com/s/files/1/0250/0778/3998/products/Navy_shirt_Yellow_Headphones.jpg?v=1595618442', 'https://cdn.shopify.com/s/files/1/0250/0778/3998/products/Navy_shirt_Grey_Headphones.jpg?v=1595618442', 'https://cdn.shopify.com/s/files/1/0250/0778/3998/products/Navy_shirt_Neon_Headphones.jpg?v=1595618442', 'https://cdn.shopify.com/s/files/1/0250/0778/3998/products/Royal_shirt_black_Headphones.jpg?v=1595618442', 'https://cdn.shopify.com/s/files/1/0250/0778/3998/products/Royal_shirt_white_Headphones.jpg?v=1595618442', 'https://cdn.shopify.com/s/files/1/0250/0778/3998/products/Royal_shirt_green_Headphones.jpg?v=1595618442', 'https://cdn.shopify.com/s/files/1/0250/0778/3998/products/Royal_shirt_purple_Headphones.jpg?v=1595618442', 'https://cdn.shopify.com/s/files/1/0250/0778/3998/products/Royal_shirt_blue_Headphones.jpg?v=1595618442', 'https://cdn.shopify.com/s/files/1/0250/0778/3998/products/Royal_shirt_red_Headphones.jpg?v=1595618442', 'https://cdn.shopify.com/s/files/1/0250/0778/3998/products/Royal_shirt_orange_Headphones.jpg?v=1595618442', 'https://cdn.shopify.com/s/files/1/0250/0778/3998/products/Royal_shirt_yellow_Headphones.jpg?v=1595618442', 'https://cdn.shopify.com/s/files/1/0250/0778/3998/products/Royal_shirt_grey_Headphones.jpg?v=1595618442', 'https://cdn.shopify.com/s/files/1/0250/0778/3998/products/Royal_shirt_neon_Headphones.jpg?v=1595618442', 'https://cdn.shopify.com/s/files/1/0250/0778/3998/products/Red_shirt_black_Headphones.jpg?v=1595618442', 'https://cdn.shopify.com/s/files/1/0250/0778/3998/products/Red_shirt_white_Headphones.jpg?v=1595618442', 'https://cdn.shopify.com/s/files/1/0250/0778/3998/products/Red_shirt_green_Headphones.jpg?v=1595618442', 'https://cdn.shopify.com/s/files/1/0250/0778/3998/products/Red_shirt_Purple_Headphones.jpg?v=1595618442', 'https://cdn.shopify.com/s/files/1/0250/0778/3998/products/Red_shirt_blue_Headphones.jpg?v=1595618442', 'https://cdn.shopify.com/s/files/1/0250/0778/3998/products/Red_shirt_red_Headphones.jpg?v=1595618442', 'https://cdn.shopify.com/s/files/1/0250/0778/3998/products/Red_shirt_orange_Headphones.jpg?v=1595618442', 'https://cdn.shopify.com/s/files/1/0250/0778/3998/products/Red_shirt_yellow_Headphones.jpg?v=1595618442', 'https://cdn.shopify.com/s/files/1/0250/0778/3998/products/Red_shirt_grey_Headphones.jpg?v=1595618442', 'https://cdn.shopify.com/s/files/1/0250/0778/3998/products/Red_shirt_neon_Headphones.jpg?v=1595618442', 'https://cdn.shopify.com/s/files/1/0250/0778/3998/products/Grey_shirt_black_Headphones.jpg?v=1595618442', 'https://cdn.shopify.com/s/files/1/0250/0778/3998/products/Grey_shirt_white_Headphones.jpg?v=1595618442', 'https://cdn.shopify.com/s/files/1/0250/0778/3998/products/Grey_shirt_green_Headphones.jpg?v=1595618442', 'https://cdn.shopify.com/s/files/1/0250/0778/3998/products/Grey_shirt_purple_Headphones.jpg?v=1595618442', 'https://cdn.shopify.com/s/files/1/0250/0778/3998/products/Grey_shirt_blue_Headphones.jpg?v=1595618442', 'https://cdn.shopify.com/s/files/1/0250/0778/3998/products/Grey_shirt_red_Headphones.jpg?v=1595618442', 'https://cdn.shopify.com/s/files/1/0250/0778/3998/products/Grey_shirt_orange_Headphones.jpg?v=1595618442', 'https://cdn.shopify.com/s/files/1/0250/0778/3998/products/Grey_shirt_yellow_Headphones.jpg?v=1595618442', 'https://cdn.shopify.com/s/files/1/0250/0778/3998/products/Grey_shirt_Grey_Headphones.jpg?v=1595618442', 'https://cdn.shopify.com/s/files/1/0250/0778/3998/products/Grey_shirt_neon_Headphones.jpg?v=1595618442'], 'url': 'https://stitchedicons.com/products/headphones', 'agoraScore': 92, 'priceHistory': [{'price': 19.99, 'date': '2025-01-18T22:35:34.519Z', '_id': '678c2cb60205c9203b7f3ee3'}], 'discountVal': 0}, {'name': 'Stereo Headphones', 'storeName': 'Vivitar.com', 'brand': 'Vivitar.com', '_id': '678cd3dc356a36f784b60b60', 'slug': 'stereo-headphones-da023643-45da-43f6-97af-509b6615fa68-1737282524363', 'price': 19.99, 'isVerified': False, 'isBoosted': False, 'source': 'shopify', 'images': ['https://cdn.shopify.com/s/files/1/1569/9941/products/VPAS2001.jpg?v=1613800715', 'https://cdn.shopify.com/s/files/1/1569/9941/products/VPAS2001_2.jpg?v=1613800719', 'https://cdn.shopify.com/s/files/1/1569/9941/products/vpas2001pnk.jpg?v=1613800722'], 'url': 'https://vivitar.com/products/stereo-headphones', 'agoraScore': 100, 'priceHistory': [{'price': 19.99, 'date': '2025-01-19T10:28:44.381Z', '_id': '678cd3dc356a36f784b60c8d'}], 'discountVal': 0}]}\"}]},\n",
        "  {'role': 'assistant',\n",
        "   'content': [TextBlock(citations=None, text='Based on your search for headphones in the $100-$200 price range, I found one product that matches your criteria:', type='text'),\n",
        "    ToolUseBlock(id='toolu_01GLFH2wNfbSR9tvoNZypQCg', input={'item': '{\"name\": \"Sonic Headphones (Black)\", \"storeName\": \"TC Running Co\", \"brand\": \"Suunto\", \"_id\": \"677e58f7770698bbe86cf7d7\", \"price\": 150, \"images\": [\"https://cdn.shopify.com/s/files/1/1804/7057/files/suunto-sonic-black-side-3-1280x1280px.webp?v=1717101867\"], \"agoraScore\": 92}'}, name='render_product', type='tool_use')]},\n",
        "  {'role': 'user',\n",
        "   'content': [{'type': 'tool_result',\n",
        "     'tool_use_id': 'toolu_01GLFH2wNfbSR9tvoNZypQCg',\n",
        "     'content': 'None'}]}])"
        ]
        },
        "execution_count": null,
        "metadata": {},
        "output_type": "execute_result"
        }
    ],
    "source": [
        "r = chat()\n",
        "r, chat.h"
    ]
    },
    {
    "cell_type": "code",
    "execution_count": null,
    "metadata": {},
    "outputs": [
        {
        "data": {
        "text/plain": [
        "(Message(id='msg_01F29q9U8h9qZdZxYC2MHowE', content=[TextBlock(citations=None, text='I found one product that matches your price range of $100-$200:\\n\\n**Sonic Headphones (Black)**\\n- Brand: Suunto\\n- Price: $150.00\\n- Store: TC Running Co\\n- Rating: 92/100\\n\\nThese are the only headphones currently available in your specified price range. Would you like me to search for headphones in a different price range, or would you like more information about this particular model?', type='text')], model='claude-3-7-sonnet-20250219', role='assistant', stop_reason='end_turn', stop_sequence=None, type='message', usage=In: 5794; Out: 101; Cache create: 0; Cache read: 0; Total: 5895),\n",
        " [{'role': 'user',\n",
        "   'content': 'Can you search for headphones in the price range of 100 to 200'},\n",
        "  {'role': 'assistant',\n",
        "   'content': [TextBlock(citations=None, text=\"I'll search for headphones in the price range of $100 to $200 for you.\", type='text'),\n",
        "    ToolUseBlock(id='toolu_01W8ZPtVFAw8pST7PFMew7Gm', input={'query': 'headphones', 'price_range': [100, 200]}, name='search_trial', type='tool_use')]},\n",
        "  {'role': 'user',\n",
        "   'content': [{'type': 'tool_result',\n",
        "     'tool_use_id': 'toolu_01W8ZPtVFAw8pST7PFMew7Gm',\n",
        "     'content': \"{'status': 'success', 'Products': [{'name': 'Headphones', 'storeName': 'The Baby Cubby', 'brand': 'Tonies', '_id': '6674b4aab49534201189688d', 'slug': 'tonies-headphones-08c2c9a1-b3af-4883-aebf-2a283a1fc0fd-1718924458056', 'price': 29.99, 'isVerified': False, 'isBoosted': False, 'source': 'shopify', 'images': ['https://cdn.shopify.com/s/files/1/0467/0649/1556/products/Heaphones-PDP-Assets-Gray-1.jpg?v=1637054130', 'https://cdn.shopify.com/s/files/1/0467/0649/1556/products/Heaphones-PDP-Assets-Gray-2.jpg?v=1637054132', 'https://cdn.shopify.com/s/files/1/0467/0649/1556/products/Heaphones-PDP-Assets-Gray-3.jpg?v=1637054134', 'https://cdn.shopify.com/s/files/1/0467/0649/1556/products/blue_8b41cdb7-1f12-4b3d-b43c-8aac607377f3.jpg?v=1637336366', 'https://cdn.shopify.com/s/files/1/0467/0649/1556/products/Heaphones-PDP-Assets-Pink-1.jpg?v=1637336366', 'https://cdn.shopify.com/s/files/1/0467/0649/1556/products/Reddd.jpg?v=1637336366'], 'url': 'https://babycubby.com/products/tonies-headphones', 'agoraScore': 92, 'priceHistory': [{'price': 29.99, 'date': '2024-06-20T23:24:59.057Z', '_id': '6713d5706ca0a1804a53068e'}], 'discountVal': 0}, {'name': 'Sonic Headphones (Black)', 'storeName': 'TC Running Co', 'brand': 'Suunto', '_id': '677e58f7770698bbe86cf7d7', 'slug': 'sonic-headphones-black-3c874edc-b295-4213-9534-21d140662663-1736333559892', 'price': 150, 'isVerified': False, 'isBoosted': False, 'source': 'shopify', 'images': ['https://cdn.shopify.com/s/files/1/1804/7057/files/suunto-sonic-black-side-3-1280x1280px.webp?v=1717101867'], 'url': 'https://tcrunningco.com/products/sonic-headphones-black', 'agoraScore': 92, 'priceHistory': [{'price': 150, 'date': '2025-01-08T10:52:40.147Z', '_id': '677e5923770698bbe86d20cd'}], 'discountVal': 0}, {'name': '3.0 Stereo Bluetooth Wireless Headset/Headphones With Call Mic/Microphone', 'storeName': 'Search Reverse Phone Number', 'brand': 'AMAZON', '_id': '678a1f8705d6339444805087', 'slug': '3-0-stereo-bluetooth-wireless-headset-headphones-with-call-mic-microphone-1-b6ba2797-22e8-4566-a029-25a1372e38b4-1737105287582', 'price': 39.99, 'isVerified': False, 'isBoosted': False, 'source': 'shopify', 'images': ['https://cdn.shopify.com/s/files/1/0237/2750/5485/products/product-image-514582129.jpg?v=1571678450'], 'url': 'https://searchreversephonenumber.com/products/3-0-stereo-bluetooth-wireless-headset-headphones-with-call-mic-microphone-1', 'agoraScore': 86, 'priceHistory': [{'price': 39.99, 'date': '2025-01-17T09:14:47.721Z', '_id': '678a1f8805d633944480635e'}], 'averageRating': 4, 'discountVal': 0}, {'name': 'HEADPHONES', 'storeName': 'Stitched Icons', 'brand': 'stitchedicons', '_id': '678c2cb60205c9203b7f3ec2', 'slug': 'headphones-40389314-557a-48ee-a9d4-b436bad0f172-1737239734508', 'price': 19.99, 'isVerified': False, 'isBoosted': False, 'source': 'shopify', 'images': ['https://cdn.shopify.com/s/files/1/0250/0778/3998/products/Covers.jpg?v=1595618442', 'https://cdn.shopify.com/s/files/1/0250/0778/3998/products/White_shirt_black_Headphones.jpg?v=1595618442', 'https://cdn.shopify.com/s/files/1/0250/0778/3998/products/White_shirt_white_Headphones.jpg?v=1595618442', 'https://cdn.shopify.com/s/files/1/0250/0778/3998/products/White_shirt_green_Headphones.jpg?v=1595618442', 'https://cdn.shopify.com/s/files/1/0250/0778/3998/products/White_shirt_purple_Headphones.jpg?v=1595618442', 'https://cdn.shopify.com/s/files/1/0250/0778/3998/products/White_shirt_blue_Headphones.jpg?v=1595618442', 'https://cdn.shopify.com/s/files/1/0250/0778/3998/products/White_shirt_red_Headphones.jpg?v=1595618442', 'https://cdn.shopify.com/s/files/1/0250/0778/3998/products/White_shirt_orange_Headphones.jpg?v=1595618442', 'https://cdn.shopify.com/s/files/1/0250/0778/3998/products/White_shirt_Yellow_Headphones.jpg?v=1595618442', 'https://cdn.shopify.com/s/files/1/0250/0778/3998/products/White_shirt_grey_Headphones.jpg?v=1595618442', 'https://cdn.shopify.com/s/files/1/0250/0778/3998/products/white_shirt_neon_Headphones.jpg?v=1595618442', 'https://cdn.shopify.com/s/files/1/0250/0778/3998/products/Black_shirt_black_Headphones.jpg?v=1595618442', 'https://cdn.shopify.com/s/files/1/0250/0778/3998/products/Black_shirt_white_Headphones.jpg?v=1595618442', 'https://cdn.shopify.com/s/files/1/0250/0778/3998/products/Black_shirt_green_Headphones.jpg?v=1595618442', 'https://cdn.shopify.com/s/files/1/0250/0778/3998/products/Black_shirt_purple_Headphones.jpg?v=1595618442', 'https://cdn.shopify.com/s/files/1/0250/0778/3998/products/Black_shirt_blue_Headphones.jpg?v=1595618442', 'https://cdn.shopify.com/s/files/1/0250/0778/3998/products/Black_shirt_red_Headphones.jpg?v=1595618442', 'https://cdn.shopify.com/s/files/1/0250/0778/3998/products/Black_shirt_Orange_Headphones.jpg?v=1595618442', 'https://cdn.shopify.com/s/files/1/0250/0778/3998/products/Black_shirt_Yellow_Headphones.jpg?v=1595618442', 'https://cdn.shopify.com/s/files/1/0250/0778/3998/products/Black_shirt_Grey_Headphones.jpg?v=1595618442', 'https://cdn.shopify.com/s/files/1/0250/0778/3998/products/Black_shirt_neon_Headphones.jpg?v=1595618442', 'https://cdn.shopify.com/s/files/1/0250/0778/3998/products/Navy_shirt_Black_Headphones.jpg?v=1595618442', 'https://cdn.shopify.com/s/files/1/0250/0778/3998/products/Navy_shirt_white_Headphones.jpg?v=1595618442', 'https://cdn.shopify.com/s/files/1/0250/0778/3998/products/Navy_shirt_Green_Headphones.jpg?v=1595618442', 'https://cdn.shopify.com/s/files/1/0250/0778/3998/products/Navy_shirt_Purple_Headphones.jpg?v=1595618442', 'https://cdn.shopify.com/s/files/1/0250/0778/3998/products/Navy_shirt_Blue_Headphones.jpg?v=1595618442', 'https://cdn.shopify.com/s/files/1/0250/0778/3998/products/Navy_shirt_Red_Headphones.jpg?v=1595618442', 'https://cdn.shopify.com/s/files/1/0250/0778/3998/products/Navy_shirt_Orange_Headphones.jpg?v=1595618442', 'https://cdn.shopify.com/s/files/1/0250/0778/3998/products/Navy_shirt_Yellow_Headphones.jpg?v=1595618442', 'https://cdn.shopify.com/s/files/1/0250/0778/3998/products/Navy_shirt_Grey_Headphones.jpg?v=1595618442', 'https://cdn.shopify.com/s/files/1/0250/0778/3998/products/Navy_shirt_Neon_Headphones.jpg?v=1595618442', 'https://cdn.shopify.com/s/files/1/0250/0778/3998/products/Royal_shirt_black_Headphones.jpg?v=1595618442', 'https://cdn.shopify.com/s/files/1/0250/0778/3998/products/Royal_shirt_white_Headphones.jpg?v=1595618442', 'https://cdn.shopify.com/s/files/1/0250/0778/3998/products/Royal_shirt_green_Headphones.jpg?v=1595618442', 'https://cdn.shopify.com/s/files/1/0250/0778/3998/products/Royal_shirt_purple_Headphones.jpg?v=1595618442', 'https://cdn.shopify.com/s/files/1/0250/0778/3998/products/Royal_shirt_blue_Headphones.jpg?v=1595618442', 'https://cdn.shopify.com/s/files/1/0250/0778/3998/products/Royal_shirt_red_Headphones.jpg?v=1595618442', 'https://cdn.shopify.com/s/files/1/0250/0778/3998/products/Royal_shirt_orange_Headphones.jpg?v=1595618442', 'https://cdn.shopify.com/s/files/1/0250/0778/3998/products/Royal_shirt_yellow_Headphones.jpg?v=1595618442', 'https://cdn.shopify.com/s/files/1/0250/0778/3998/products/Royal_shirt_grey_Headphones.jpg?v=1595618442', 'https://cdn.shopify.com/s/files/1/0250/0778/3998/products/Royal_shirt_neon_Headphones.jpg?v=1595618442', 'https://cdn.shopify.com/s/files/1/0250/0778/3998/products/Red_shirt_black_Headphones.jpg?v=1595618442', 'https://cdn.shopify.com/s/files/1/0250/0778/3998/products/Red_shirt_white_Headphones.jpg?v=1595618442', 'https://cdn.shopify.com/s/files/1/0250/0778/3998/products/Red_shirt_green_Headphones.jpg?v=1595618442', 'https://cdn.shopify.com/s/files/1/0250/0778/3998/products/Red_shirt_Purple_Headphones.jpg?v=1595618442', 'https://cdn.shopify.com/s/files/1/0250/0778/3998/products/Red_shirt_blue_Headphones.jpg?v=1595618442', 'https://cdn.shopify.com/s/files/1/0250/0778/3998/products/Red_shirt_red_Headphones.jpg?v=1595618442', 'https://cdn.shopify.com/s/files/1/0250/0778/3998/products/Red_shirt_orange_Headphones.jpg?v=1595618442', 'https://cdn.shopify.com/s/files/1/0250/0778/3998/products/Red_shirt_yellow_Headphones.jpg?v=1595618442', 'https://cdn.shopify.com/s/files/1/0250/0778/3998/products/Red_shirt_grey_Headphones.jpg?v=1595618442', 'https://cdn.shopify.com/s/files/1/0250/0778/3998/products/Red_shirt_neon_Headphones.jpg?v=1595618442', 'https://cdn.shopify.com/s/files/1/0250/0778/3998/products/Grey_shirt_black_Headphones.jpg?v=1595618442', 'https://cdn.shopify.com/s/files/1/0250/0778/3998/products/Grey_shirt_white_Headphones.jpg?v=1595618442', 'https://cdn.shopify.com/s/files/1/0250/0778/3998/products/Grey_shirt_green_Headphones.jpg?v=1595618442', 'https://cdn.shopify.com/s/files/1/0250/0778/3998/products/Grey_shirt_purple_Headphones.jpg?v=1595618442', 'https://cdn.shopify.com/s/files/1/0250/0778/3998/products/Grey_shirt_blue_Headphones.jpg?v=1595618442', 'https://cdn.shopify.com/s/files/1/0250/0778/3998/products/Grey_shirt_red_Headphones.jpg?v=1595618442', 'https://cdn.shopify.com/s/files/1/0250/0778/3998/products/Grey_shirt_orange_Headphones.jpg?v=1595618442', 'https://cdn.shopify.com/s/files/1/0250/0778/3998/products/Grey_shirt_yellow_Headphones.jpg?v=1595618442', 'https://cdn.shopify.com/s/files/1/0250/0778/3998/products/Grey_shirt_Grey_Headphones.jpg?v=1595618442', 'https://cdn.shopify.com/s/files/1/0250/0778/3998/products/Grey_shirt_neon_Headphones.jpg?v=1595618442'], 'url': 'https://stitchedicons.com/products/headphones', 'agoraScore': 92, 'priceHistory': [{'price': 19.99, 'date': '2025-01-18T22:35:34.519Z', '_id': '678c2cb60205c9203b7f3ee3'}], 'discountVal': 0}, {'name': 'Stereo Headphones', 'storeName': 'Vivitar.com', 'brand': 'Vivitar.com', '_id': '678cd3dc356a36f784b60b60', 'slug': 'stereo-headphones-da023643-45da-43f6-97af-509b6615fa68-1737282524363', 'price': 19.99, 'isVerified': False, 'isBoosted': False, 'source': 'shopify', 'images': ['https://cdn.shopify.com/s/files/1/1569/9941/products/VPAS2001.jpg?v=1613800715', 'https://cdn.shopify.com/s/files/1/1569/9941/products/VPAS2001_2.jpg?v=1613800719', 'https://cdn.shopify.com/s/files/1/1569/9941/products/vpas2001pnk.jpg?v=1613800722'], 'url': 'https://vivitar.com/products/stereo-headphones', 'agoraScore': 100, 'priceHistory': [{'price': 19.99, 'date': '2025-01-19T10:28:44.381Z', '_id': '678cd3dc356a36f784b60c8d'}], 'discountVal': 0}]}\"}]},\n",
        "  {'role': 'assistant',\n",
        "   'content': [TextBlock(citations=None, text='Based on your search for headphones in the $100-$200 price range, I found one product that matches your criteria:', type='text'),\n",
        "    ToolUseBlock(id='toolu_01GLFH2wNfbSR9tvoNZypQCg', input={'item': '{\"name\": \"Sonic Headphones (Black)\", \"storeName\": \"TC Running Co\", \"brand\": \"Suunto\", \"_id\": \"677e58f7770698bbe86cf7d7\", \"price\": 150, \"images\": [\"https://cdn.shopify.com/s/files/1/1804/7057/files/suunto-sonic-black-side-3-1280x1280px.webp?v=1717101867\"], \"agoraScore\": 92}'}, name='render_product', type='tool_use')]},\n",
        "  {'role': 'user',\n",
        "   'content': [{'type': 'tool_result',\n",
        "     'tool_use_id': 'toolu_01GLFH2wNfbSR9tvoNZypQCg',\n",
        "     'content': 'None'}]},\n",
        "  {'role': 'assistant',\n",
        "   'content': [TextBlock(citations=None, text='I found one product that matches your price range of $100-$200:\\n\\n**Sonic Headphones (Black)**\\n- Brand: Suunto\\n- Price: $150.00\\n- Store: TC Running Co\\n- Rating: 92/100\\n\\nThese are the only headphones currently available in your specified price range. Would you like me to search for headphones in a different price range, or would you like more information about this particular model?', type='text')]}])"
        ]
        },
        "execution_count": null,
        "metadata": {},
        "output_type": "execute_result"
        }
    ],
    "source": [
        "r = chat()\n",
        "r, chat.h"
    ]
    },
    {
    "cell_type": "markdown",
    "metadata": {},
    "source": [
        "## Async chat with tools"
    ]
    },
    {
    "cell_type": "code",
    "execution_count": null,
    "metadata": {},
    "outputs": [
        {
        "ename": "AttributeError",
        "evalue": "'AsyncClient' object has no attribute 'toolloop'",
        "output_type": "error",
        "traceback": [
        "\u001b[31m---------------------------------------------------------------------------\u001b[39m",
        "\u001b[31mAttributeError\u001b[39m                            Traceback (most recent call last)",
        "\u001b[36mCell\u001b[39m\u001b[36m \u001b[39m\u001b[32mIn[47]\u001b[39m\u001b[32m, line 2\u001b[39m\n\u001b[32m      1\u001b[39m chat = AsyncClient(models[\u001b[32m1\u001b[39m])\n\u001b[32m----> \u001b[39m\u001b[32m2\u001b[39m \u001b[38;5;28;01mawait\u001b[39;00m \u001b[43mchat\u001b[49m\u001b[43m.\u001b[49m\u001b[43mtoolloop\u001b[49m(\u001b[33m'\u001b[39m\u001b[33mCan you search for headphones in the price range of 100 to 200\u001b[39m\u001b[33m'\u001b[39m, sp=\u001b[33m'\u001b[39m\u001b[33mYou are a helpful assistant that can search for products in a store\u001b[39m\u001b[33m'\u001b[39m,tools=[search_trial, render_product])\n",
        "\u001b[31mAttributeError\u001b[39m: 'AsyncClient' object has no attribute 'toolloop'"
        ]
        }
    ],
    "source": [
        "chat = AsyncClient(models[1])\n",
        "await chat('Can you search for headphones in the price range of 100 to 200', sp='You are a helpful assistant that can search for products in a store',tools=[search_trial, render_product])"
    ]
    },
    {
    "cell_type": "code",
    "execution_count": null,
    "metadata": {},
    "outputs": [],
    "source": [
        "import json\n",
        "from fasthtml.common import *\n",
        "from monsterui.all import *"
    ]
    },
    {
    "cell_type": "code",
    "execution_count": null,
    "metadata": {},
    "outputs": [],
    "source": [
        "from fasthtml.jupyter import *"
    ]
    },
    {
    "cell_type": "code",
    "execution_count": null,
    "metadata": {},
    "outputs": [],
    "source": [
        "def ProductCard(\n",
        "    item: str # JSON string containing product details (`name`, `price`, `brand`, `storeName`, `agoraScore`, `images`, `_id`)\n",
        "):\n",
        "    \"\"\"\n",
        "    Renders a product card UI component displaying product details clearly and attractively.\n",
        "    Expects `item` as a JSON-formatted string with these keys:\n",
        "    - `name`: Product name (str)\n",
        "    - `price`: Product price (float or str)\n",
        "    - `brand`: Brand name (str)\n",
        "    - `storeName`: Store name (str)\n",
        "    - `agoraScore`: Product rating score out of 100 (int or float)\n",
        "    - `images`: List of image URLs (list[str]), first image used as main display\n",
        "    - `_id`: Unique identifier for the product (str)\n",
        "    \"\"\"\n",
        "    item = dict2obj(json.loads(item))\n",
        "    return to_xml(\n",
        "        Card(\n",
        "            DivHStacked(\n",
        "                # Left column with image\n",
        "                Div(\n",
        "                    Img(src=item.images[0], alt=item.name, cls=\"max-h-52 object-contain\")\n",
        "                ),\n",
        "                # Right column with product details\n",
        "                DivVStacked(\n",
        "                    H3(item.name),\n",
        "                    Strong(f\"${item.price}\"),\n",
        "                    Div(f\"Brand: {item.brand}\"),\n",
        "                    Div(f\"Store: {item.storeName}\"),\n",
        "                    Div(f\"Rating: {item.agoraScore}/100\"),\n",
        "                    Button(\"View Details\", id=f\"view-{item._id}\")\n",
        "                )\n",
        "            )\n",
        "        )\n",
        "    )"
    ]
    },
    {
    "cell_type": "code",
    "execution_count": null,
    "metadata": {},
    "outputs": [
        {
        "data": {
        "text/html": [
        "\n",
        "<script>\n",
        "document.body.addEventListener('htmx:configRequest', (event) => {\n",
        "    if(event.detail.path.includes('://')) return;\n",
        "    htmx.config.selfRequestsOnly=false;\n",
        "    event.detail.path = `${location.protocol}//${location.hostname}:8001${event.detail.path}`;\n",
        "});\n",
        "</script>"
        ],
        "text/plain": [
        "<IPython.core.display.HTML object>"
        ]
        },
        "metadata": {},
        "output_type": "display_data"
        },
        {
        "data": {
        "text/markdown": [
        "```html\n",
        "<div class=\"uk-card \">\n",
        "  <div class=\"uk-card-body space-y-6\">\n",
        "    <div class=\"flex flex-row items-center space-x-4\">\n",
        "      <div>\n",
        "<img src=\"https://cdn.shopify.com/s/files/1/0467/0649/1556/products/Heaphones-PDP-Assets-Gray-1.jpg?v=1637054130\" alt=\"Headphones\" class=\"max-h-52 object-contain\">      </div>\n",
        "      <div class=\"flex flex-col items-center space-y-4\">\n",
        "        <h3 class=\"uk-h3 \">Headphones</h3>\n",
        "<strong class=\"font-bold \">$29.99</strong>        <div>Brand: Tonies</div>\n",
        "        <div>Store: The Baby Cubby</div>\n",
        "        <div>Rating: 92/100</div>\n",
        "<button type=\"submit\" id=\"view-6674b4aab49534201189688d\" class=\"uk-btn uk-btn-default\" name=\"view-6674b4aab49534201189688d\">View Details</button>      </div>\n",
        "    </div>\n",
        "  </div>\n",
        "</div>\n",
        "\n",
        "```"
        ],
        "text/plain": [
        "div((div((div((div((img((),{'src': 'https://cdn.shopify.com/s/files/1/0467/0649/1556/products/Heaphones-PDP-Assets-Gray-1.jpg?v=1637054130', 'alt': 'Headphones', 'class': 'max-h-52 object-contain'}),),{}), div((h3(('Headphones',),{'class': 'uk-h3 '}), strong(('$29.99',),{'class': 'font-bold '}), div(('Brand: Tonies',),{}), div(('Store: The Baby Cubby',),{}), div(('Rating: 92/100',),{}), button(('View Details',),{'type': 'submit', 'id': 'view-6674b4aab49534201189688d', 'class': 'uk-btn uk-btn-default', 'name': 'view-6674b4aab49534201189688d'})),{'class': 'flex flex-col items-center space-y-4'})),{'class': 'flex flex-row items-center space-x-4'}),),{'class': 'uk-card-body space-y-6'}),),{'class': 'uk-card '})"
        ]
        },
        "execution_count": null,
        "metadata": {},
        "output_type": "execute_result"
        }
    ],
    "source": [
        "from functools import partial\n",
        "app, rt = fast_app(hdrs=Theme.blue.headers())\n",
        "Show = partial(HTMX, app=app, link=True)\n",
        "server = JupyUvi(app, port=8001)\n",
        "data = search_trial('headphones', price_range=[100, 200])\n",
        "item = data['Products'][0]\n",
        "ProductCard(json.dumps(item))"
    ]
    },
    {
    "cell_type": "code",
    "execution_count": null,
    "metadata": {},
    "outputs": [
        {
        "data": {
        "text/html": [
        "<a href=\"http://localhost:8000/_sJF6Y2C0SziIPa_TFulIKw\" target=\"_blank\">Open in new tab</a>"
        ],
        "text/plain": [
        "<IPython.core.display.HTML object>"
        ]
        },
        "metadata": {},
        "output_type": "display_data"
        },
        {
        "data": {
        "text/html": [
        "<iframe src=\"http://localhost:8000/_sJF6Y2C0SziIPa_TFulIKw\" style=\"width: 100%; height: auto; border: none;\" onload=\"{\n",
        "        let frame = this;\n",
        "        window.addEventListener('message', function(e) {\n",
        "            if (e.source !== frame.contentWindow) return; // Only proceed if the message is from this iframe\n",
        "            if (e.data.height) frame.style.height = (e.data.height+1) + 'px';\n",
        "        }, false);\n",
        "    }\" allow=\"accelerometer; autoplay; camera; clipboard-read; clipboard-write; display-capture; encrypted-media; fullscreen; gamepad; geolocation; gyroscope; hid; identity-credentials-get; idle-detection; magnetometer; microphone; midi; payment; picture-in-picture; publickey-credentials-get; screen-wake-lock; serial; usb; web-share; xr-spatial-tracking\"></iframe> "
        ],
        "text/plain": [
        "<IPython.core.display.HTML object>"
        ]
        },
        "execution_count": null,
        "metadata": {},
        "output_type": "execute_result"
        }
    ],
    "source": [
        "Show(ProductCard(json.dumps(item)))"
    ]
    },
    {
    "cell_type": "code",
    "execution_count": null,
    "metadata": {},
    "outputs": [
        {
        "name": "stdout",
        "output_type": "stream",
        "text": [
        "[{'role': 'user', 'content': 'can you search for headphones in the price range of 100 to 200'}, {'role': 'assistant', 'content': [TextBlock(citations=None, text=\"I'll search for headphones in the price range of $100 to $200 for you.\", type='text'), ToolUseBlock(id='toolu_01PyPi77BGYsWt8B7ugdpNUN', input={'query': 'headphones', 'price_range': [100, 200]}, name='search_trial', type='tool_use')]}, {'role': 'user', 'content': [{'type': 'tool_result', 'tool_use_id': 'toolu_01PyPi77BGYsWt8B7ugdpNUN', 'content': \"{'status': 'success', 'Products': [{'name': 'Headphones', 'storeName': 'The Baby Cubby', 'brand': 'Tonies', '_id': '6674b4aab49534201189688d', 'slug': 'tonies-headphones-08c2c9a1-b3af-4883-aebf-2a283a1fc0fd-1718924458056', 'price': 29.99, 'isVerified': False, 'isBoosted': False, 'source': 'shopify', 'images': ['https://cdn.shopify.com/s/files/1/0467/0649/1556/products/Heaphones-PDP-Assets-Gray-1.jpg?v=1637054130', 'https://cdn.shopify.com/s/files/1/0467/0649/1556/products/Heaphones-PDP-Assets-Gray-2.jpg?v=1637054132', 'https://cdn.shopify.com/s/files/1/0467/0649/1556/products/Heaphones-PDP-Assets-Gray-3.jpg?v=1637054134', 'https://cdn.shopify.com/s/files/1/0467/0649/1556/products/blue_8b41cdb7-1f12-4b3d-b43c-8aac607377f3.jpg?v=1637336366', 'https://cdn.shopify.com/s/files/1/0467/0649/1556/products/Heaphones-PDP-Assets-Pink-1.jpg?v=1637336366', 'https://cdn.shopify.com/s/files/1/0467/0649/1556/products/Reddd.jpg?v=1637336366'], 'url': 'https://babycubby.com/products/tonies-headphones', 'agoraScore': 92, 'priceHistory': [{'price': 29.99, 'date': '2024-06-20T23:24:59.057Z', '_id': '6713d5706ca0a1804a53068e'}], 'discountVal': 0}, {'name': 'Sonic Headphones (Black)', 'storeName': 'TC Running Co', 'brand': 'Suunto', '_id': '677e58f7770698bbe86cf7d7', 'slug': 'sonic-headphones-black-3c874edc-b295-4213-9534-21d140662663-1736333559892', 'price': 150, 'isVerified': False, 'isBoosted': False, 'source': 'shopify', 'images': ['https://cdn.shopify.com/s/files/1/1804/7057/files/suunto-sonic-black-side-3-1280x1280px.webp?v=1717101867'], 'url': 'https://tcrunningco.com/products/sonic-headphones-black', 'agoraScore': 92, 'priceHistory': [{'price': 150, 'date': '2025-01-08T10:52:40.147Z', '_id': '677e5923770698bbe86d20cd'}], 'discountVal': 0}, {'name': '3.0 Stereo Bluetooth Wireless Headset/Headphones With Call Mic/Microphone', 'storeName': 'Search Reverse Phone Number', 'brand': 'AMAZON', '_id': '678a1f8705d6339444805087', 'slug': '3-0-stereo-bluetooth-wireless-headset-headphones-with-call-mic-microphone-1-b6ba2797-22e8-4566-a029-25a1372e38b4-1737105287582', 'price': 39.99, 'isVerified': False, 'isBoosted': False, 'source': 'shopify', 'images': ['https://cdn.shopify.com/s/files/1/0237/2750/5485/products/product-image-514582129.jpg?v=1571678450'], 'url': 'https://searchreversephonenumber.com/products/3-0-stereo-bluetooth-wireless-headset-headphones-with-call-mic-microphone-1', 'agoraScore': 86, 'priceHistory': [{'price': 39.99, 'date': '2025-01-17T09:14:47.721Z', '_id': '678a1f8805d633944480635e'}], 'averageRating': 4, 'discountVal': 0}, {'name': 'HEADPHONES', 'storeName': 'Stitched Icons', 'brand': 'stitchedicons', '_id': '678c2cb60205c9203b7f3ec2', 'slug': 'headphones-40389314-557a-48ee-a9d4-b436bad0f172-1737239734508', 'price': 19.99, 'isVerified': False, 'isBoosted': False, 'source': 'shopify', 'images': ['https://cdn.shopify.com/s/files/1/0250/0778/3998/products/Covers.jpg?v=1595618442', 'https://cdn.shopify.com/s/files/1/0250/0778/3998/products/White_shirt_black_Headphones.jpg?v=1595618442', 'https://cdn.shopify.com/s/files/1/0250/0778/3998/products/White_shirt_white_Headphones.jpg?v=1595618442', 'https://cdn.shopify.com/s/files/1/0250/0778/3998/products/White_shirt_green_Headphones.jpg?v=1595618442', 'https://cdn.shopify.com/s/files/1/0250/0778/3998/products/White_shirt_purple_Headphones.jpg?v=1595618442', 'https://cdn.shopify.com/s/files/1/0250/0778/3998/products/White_shirt_blue_Headphones.jpg?v=1595618442', 'https://cdn.shopify.com/s/files/1/0250/0778/3998/products/White_shirt_red_Headphones.jpg?v=1595618442', 'https://cdn.shopify.com/s/files/1/0250/0778/3998/products/White_shirt_orange_Headphones.jpg?v=1595618442', 'https://cdn.shopify.com/s/files/1/0250/0778/3998/products/White_shirt_Yellow_Headphones.jpg?v=1595618442', 'https://cdn.shopify.com/s/files/1/0250/0778/3998/products/White_shirt_grey_Headphones.jpg?v=1595618442', 'https://cdn.shopify.com/s/files/1/0250/0778/3998/products/white_shirt_neon_Headphones.jpg?v=1595618442', 'https://cdn.shopify.com/s/files/1/0250/0778/3998/products/Black_shirt_black_Headphones.jpg?v=1595618442', 'https://cdn.shopify.com/s/files/1/0250/0778/3998/products/Black_shirt_white_Headphones.jpg?v=1595618442', 'https://cdn.shopify.com/s/files/1/0250/0778/3998/products/Black_shirt_green_Headphones.jpg?v=1595618442', 'https://cdn.shopify.com/s/files/1/0250/0778/3998/products/Black_shirt_purple_Headphones.jpg?v=1595618442', 'https://cdn.shopify.com/s/files/1/0250/0778/3998/products/Black_shirt_blue_Headphones.jpg?v=1595618442', 'https://cdn.shopify.com/s/files/1/0250/0778/3998/products/Black_shirt_red_Headphones.jpg?v=1595618442', 'https://cdn.shopify.com/s/files/1/0250/0778/3998/products/Black_shirt_Orange_Headphones.jpg?v=1595618442', 'https://cdn.shopify.com/s/files/1/0250/0778/3998/products/Black_shirt_Yellow_Headphones.jpg?v=1595618442', 'https://cdn.shopify.com/s/files/1/0250/0778/3998/products/Black_shirt_Grey_Headphones.jpg?v=1595618442', 'https://cdn.shopify.com/s/files/1/0250/0778/3998/products/Black_shirt_neon_Headphones.jpg?v=1595618442', 'https://cdn.shopify.com/s/files/1/0250/0778/3998/products/Navy_shirt_Black_Headphones.jpg?v=1595618442', 'https://cdn.shopify.com/s/files/1/0250/0778/3998/products/Navy_shirt_white_Headphones.jpg?v=1595618442', 'https://cdn.shopify.com/s/files/1/0250/0778/3998/products/Navy_shirt_Green_Headphones.jpg?v=1595618442', 'https://cdn.shopify.com/s/files/1/0250/0778/3998/products/Navy_shirt_Purple_Headphones.jpg?v=1595618442', 'https://cdn.shopify.com/s/files/1/0250/0778/3998/products/Navy_shirt_Blue_Headphones.jpg?v=1595618442', 'https://cdn.shopify.com/s/files/1/0250/0778/3998/products/Navy_shirt_Red_Headphones.jpg?v=1595618442', 'https://cdn.shopify.com/s/files/1/0250/0778/3998/products/Navy_shirt_Orange_Headphones.jpg?v=1595618442', 'https://cdn.shopify.com/s/files/1/0250/0778/3998/products/Navy_shirt_Yellow_Headphones.jpg?v=1595618442', 'https://cdn.shopify.com/s/files/1/0250/0778/3998/products/Navy_shirt_Grey_Headphones.jpg?v=1595618442', 'https://cdn.shopify.com/s/files/1/0250/0778/3998/products/Navy_shirt_Neon_Headphones.jpg?v=1595618442', 'https://cdn.shopify.com/s/files/1/0250/0778/3998/products/Royal_shirt_black_Headphones.jpg?v=1595618442', 'https://cdn.shopify.com/s/files/1/0250/0778/3998/products/Royal_shirt_white_Headphones.jpg?v=1595618442', 'https://cdn.shopify.com/s/files/1/0250/0778/3998/products/Royal_shirt_green_Headphones.jpg?v=1595618442', 'https://cdn.shopify.com/s/files/1/0250/0778/3998/products/Royal_shirt_purple_Headphones.jpg?v=1595618442', 'https://cdn.shopify.com/s/files/1/0250/0778/3998/products/Royal_shirt_blue_Headphones.jpg?v=1595618442', 'https://cdn.shopify.com/s/files/1/0250/0778/3998/products/Royal_shirt_red_Headphones.jpg?v=1595618442', 'https://cdn.shopify.com/s/files/1/0250/0778/3998/products/Royal_shirt_orange_Headphones.jpg?v=1595618442', 'https://cdn.shopify.com/s/files/1/0250/0778/3998/products/Royal_shirt_yellow_Headphones.jpg?v=1595618442', 'https://cdn.shopify.com/s/files/1/0250/0778/3998/products/Royal_shirt_grey_Headphones.jpg?v=1595618442', 'https://cdn.shopify.com/s/files/1/0250/0778/3998/products/Royal_shirt_neon_Headphones.jpg?v=1595618442', 'https://cdn.shopify.com/s/files/1/0250/0778/3998/products/Red_shirt_black_Headphones.jpg?v=1595618442', 'https://cdn.shopify.com/s/files/1/0250/0778/3998/products/Red_shirt_white_Headphones.jpg?v=1595618442', 'https://cdn.shopify.com/s/files/1/0250/0778/3998/products/Red_shirt_green_Headphones.jpg?v=1595618442', 'https://cdn.shopify.com/s/files/1/0250/0778/3998/products/Red_shirt_Purple_Headphones.jpg?v=1595618442', 'https://cdn.shopify.com/s/files/1/0250/0778/3998/products/Red_shirt_blue_Headphones.jpg?v=1595618442', 'https://cdn.shopify.com/s/files/1/0250/0778/3998/products/Red_shirt_red_Headphones.jpg?v=1595618442', 'https://cdn.shopify.com/s/files/1/0250/0778/3998/products/Red_shirt_orange_Headphones.jpg?v=1595618442', 'https://cdn.shopify.com/s/files/1/0250/0778/3998/products/Red_shirt_yellow_Headphones.jpg?v=1595618442', 'https://cdn.shopify.com/s/files/1/0250/0778/3998/products/Red_shirt_grey_Headphones.jpg?v=1595618442', 'https://cdn.shopify.com/s/files/1/0250/0778/3998/products/Red_shirt_neon_Headphones.jpg?v=1595618442', 'https://cdn.shopify.com/s/files/1/0250/0778/3998/products/Grey_shirt_black_Headphones.jpg?v=1595618442', 'https://cdn.shopify.com/s/files/1/0250/0778/3998/products/Grey_shirt_white_Headphones.jpg?v=1595618442', 'https://cdn.shopify.com/s/files/1/0250/0778/3998/products/Grey_shirt_green_Headphones.jpg?v=1595618442', 'https://cdn.shopify.com/s/files/1/0250/0778/3998/products/Grey_shirt_purple_Headphones.jpg?v=1595618442', 'https://cdn.shopify.com/s/files/1/0250/0778/3998/products/Grey_shirt_blue_Headphones.jpg?v=1595618442', 'https://cdn.shopify.com/s/files/1/0250/0778/3998/products/Grey_shirt_red_Headphones.jpg?v=1595618442', 'https://cdn.shopify.com/s/files/1/0250/0778/3998/products/Grey_shirt_orange_Headphones.jpg?v=1595618442', 'https://cdn.shopify.com/s/files/1/0250/0778/3998/products/Grey_shirt_yellow_Headphones.jpg?v=1595618442', 'https://cdn.shopify.com/s/files/1/0250/0778/3998/products/Grey_shirt_Grey_Headphones.jpg?v=1595618442', 'https://cdn.shopify.com/s/files/1/0250/0778/3998/products/Grey_shirt_neon_Headphones.jpg?v=1595618442'], 'url': 'https://stitchedicons.com/products/headphones', 'agoraScore': 92, 'priceHistory': [{'price': 19.99, 'date': '2025-01-18T22:35:34.519Z', '_id': '678c2cb60205c9203b7f3ee3'}], 'discountVal': 0}, {'name': 'Stereo Headphones', 'storeName': 'Vivitar.com', 'brand': 'Vivitar.com', '_id': '678cd3dc356a36f784b60b60', 'slug': 'stereo-headphones-da023643-45da-43f6-97af-509b6615fa68-1737282524363', 'price': 19.99, 'isVerified': False, 'isBoosted': False, 'source': 'shopify', 'images': ['https://cdn.shopify.com/s/files/1/1569/9941/products/VPAS2001.jpg?v=1613800715', 'https://cdn.shopify.com/s/files/1/1569/9941/products/VPAS2001_2.jpg?v=1613800719', 'https://cdn.shopify.com/s/files/1/1569/9941/products/vpas2001pnk.jpg?v=1613800722'], 'url': 'https://vivitar.com/products/stereo-headphones', 'agoraScore': 100, 'priceHistory': [{'price': 19.99, 'date': '2025-01-19T10:28:44.381Z', '_id': '678cd3dc356a36f784b60c8d'}], 'discountVal': 0}]}\"}]}]\n",
        "[{'role': 'assistant', 'content': [TextBlock(citations=None, text='Based on your search for headphones in the $100-$200 price range, I found one product that matches your criteria. Here it is:', type='text'), ToolUseBlock(id='toolu_01Xv98ZHEZRhirgMS1AjaR4L', input={'item': '{\"name\": \"Sonic Headphones (Black)\", \"storeName\": \"TC Running Co\", \"brand\": \"Suunto\", \"_id\": \"677e58f7770698bbe86cf7d7\", \"price\": 150, \"images\": [\"https://cdn.shopify.com/s/files/1/1804/7057/files/suunto-sonic-black-side-3-1280x1280px.webp?v=1717101867\"], \"agoraScore\": 92}'}, name='ProductCard', type='tool_use')]}, {'role': 'user', 'content': [{'type': 'tool_result', 'tool_use_id': 'toolu_01Xv98ZHEZRhirgMS1AjaR4L', 'content': \"div((div((div((div((img((),{'src': 'https://cdn.shopify.com/s/files/1/1804/7057/files/suunto-sonic-black-side-3-1280x1280px.webp?v=1717101867', 'alt': 'Sonic Headphones (Black)', 'class': 'max-h-52 object-contain'}),),{}), div((h3(('Sonic Headphones (Black)',),{'class': 'uk-h3 '}), strong(('$150',),{'class': 'font-bold '}), div(('Brand: Suunto',),{}), div(('Store: TC Running Co',),{}), div(('Rating: 92/100',),{}), button(('View Details',),{'type': 'submit', 'id': 'view-677e58f7770698bbe86cf7d7', 'class': 'uk-btn uk-btn-default', 'name': 'view-677e58f7770698bbe86cf7d7'})),{'class': 'flex flex-col items-center space-y-4'})),{'class': 'flex flex-row items-center space-x-4'}),),{'class': 'uk-card-body space-y-6'}),),{'class': 'uk-card '})\"}]}]\n",
        "[{'role': 'assistant', 'content': [TextBlock(citations=None, text='I only found one headphone option within your specified price range of $100-$200:\\n\\n- Sonic Headphones (Black) by Suunto\\n- Price: $150\\n- Store: TC Running Co\\n- Rating: 92/100\\n\\nWould you like me to search for more headphone options with different price ranges, or would you like more information about this particular model?', type='text')]}]\n"
        ]
        },
        {
        "data": {
        "text/markdown": [
        "I only found one headphone option within your specified price range of &#36;100-&#36;200:\n",
        "\n",
        "- Sonic Headphones (Black) by Suunto\n",
        "- Price: &#36;150\n",
        "- Store: TC Running Co\n",
        "- Rating: 92/100\n",
        "\n",
        "Would you like me to search for more headphone options with different price ranges, or would you like more information about this particular model?\n",
        "\n",
        "<details>\n",
        "\n",
        "- id: `msg_01G79UST3iu3kJj4h91ankYk`\n",
        "- content: `[{'citations': None, 'text': 'I only found one headphone option within your specified price range of $100-$200:\\n\\n- Sonic Headphones (Black) by Suunto\\n- Price: $150\\n- Store: TC Running Co\\n- Rating: 92/100\\n\\nWould you like me to search for more headphone options with different price ranges, or would you like more information about this particular model?', 'type': 'text'}]`\n",
        "- model: `claude-3-7-sonnet-20250219`\n",
        "- role: `assistant`\n",
        "- stop_reason: `end_turn`\n",
        "- stop_sequence: `None`\n",
        "- type: `message`\n",
        "- usage: `{'cache_creation_input_tokens': 0, 'cache_read_input_tokens': 0, 'input_tokens': 6167, 'output_tokens': 86}`\n",
        "\n",
        "</details>"
        ],
        "text/plain": [
        "Message(id='msg_01G79UST3iu3kJj4h91ankYk', content=[TextBlock(citations=None, text='I only found one headphone option within your specified price range of $100-$200:\\n\\n- Sonic Headphones (Black) by Suunto\\n- Price: $150\\n- Store: TC Running Co\\n- Rating: 92/100\\n\\nWould you like me to search for more headphone options with different price ranges, or would you like more information about this particular model?', type='text')], model='claude-3-7-sonnet-20250219', role='assistant', stop_reason='end_turn', stop_sequence=None, type='message', usage=In: 6167; Out: 86; Cache create: 0; Cache read: 0; Total: 6253)"
        ]
        },
        "execution_count": null,
        "metadata": {},
        "output_type": "execute_result"
        }
    ],
    "source": [
        "chat = Chat(models[1], sp='''You are a helpful assistant that can search for products in a store. \n",
        "            Whenever you need to display a product, use the ProductCard tool.''',\n",
        "             tools=[search_trial, ProductCard])\n",
        "chat.toolloop('can you search for headphones in the price range of 100 to 200', trace_func=print)"
    ]
    },
    {
    "cell_type": "code",
    "execution_count": null,
    "metadata": {},
    "outputs": [
        {
        "data": {
        "text/plain": [
        "[{'role': 'user',\n",
        "  'content': 'can you search for headphones in the price range of 100 to 200'},\n",
        " {'role': 'assistant',\n",
        "  'content': [TextBlock(citations=None, text=\"I'll search for headphones in the price range of $100 to $200 for you.\", type='text'),\n",
        "   ToolUseBlock(id='toolu_01PyPi77BGYsWt8B7ugdpNUN', input={'query': 'headphones', 'price_range': [100, 200]}, name='search_trial', type='tool_use')]},\n",
        " {'role': 'user',\n",
        "  'content': [{'type': 'tool_result',\n",
        "    'tool_use_id': 'toolu_01PyPi77BGYsWt8B7ugdpNUN',\n",
        "    'content': \"{'status': 'success', 'Products': [{'name': 'Headphones', 'storeName': 'The Baby Cubby', 'brand': 'Tonies', '_id': '6674b4aab49534201189688d', 'slug': 'tonies-headphones-08c2c9a1-b3af-4883-aebf-2a283a1fc0fd-1718924458056', 'price': 29.99, 'isVerified': False, 'isBoosted': False, 'source': 'shopify', 'images': ['https://cdn.shopify.com/s/files/1/0467/0649/1556/products/Heaphones-PDP-Assets-Gray-1.jpg?v=1637054130', 'https://cdn.shopify.com/s/files/1/0467/0649/1556/products/Heaphones-PDP-Assets-Gray-2.jpg?v=1637054132', 'https://cdn.shopify.com/s/files/1/0467/0649/1556/products/Heaphones-PDP-Assets-Gray-3.jpg?v=1637054134', 'https://cdn.shopify.com/s/files/1/0467/0649/1556/products/blue_8b41cdb7-1f12-4b3d-b43c-8aac607377f3.jpg?v=1637336366', 'https://cdn.shopify.com/s/files/1/0467/0649/1556/products/Heaphones-PDP-Assets-Pink-1.jpg?v=1637336366', 'https://cdn.shopify.com/s/files/1/0467/0649/1556/products/Reddd.jpg?v=1637336366'], 'url': 'https://babycubby.com/products/tonies-headphones', 'agoraScore': 92, 'priceHistory': [{'price': 29.99, 'date': '2024-06-20T23:24:59.057Z', '_id': '6713d5706ca0a1804a53068e'}], 'discountVal': 0}, {'name': 'Sonic Headphones (Black)', 'storeName': 'TC Running Co', 'brand': 'Suunto', '_id': '677e58f7770698bbe86cf7d7', 'slug': 'sonic-headphones-black-3c874edc-b295-4213-9534-21d140662663-1736333559892', 'price': 150, 'isVerified': False, 'isBoosted': False, 'source': 'shopify', 'images': ['https://cdn.shopify.com/s/files/1/1804/7057/files/suunto-sonic-black-side-3-1280x1280px.webp?v=1717101867'], 'url': 'https://tcrunningco.com/products/sonic-headphones-black', 'agoraScore': 92, 'priceHistory': [{'price': 150, 'date': '2025-01-08T10:52:40.147Z', '_id': '677e5923770698bbe86d20cd'}], 'discountVal': 0}, {'name': '3.0 Stereo Bluetooth Wireless Headset/Headphones With Call Mic/Microphone', 'storeName': 'Search Reverse Phone Number', 'brand': 'AMAZON', '_id': '678a1f8705d6339444805087', 'slug': '3-0-stereo-bluetooth-wireless-headset-headphones-with-call-mic-microphone-1-b6ba2797-22e8-4566-a029-25a1372e38b4-1737105287582', 'price': 39.99, 'isVerified': False, 'isBoosted': False, 'source': 'shopify', 'images': ['https://cdn.shopify.com/s/files/1/0237/2750/5485/products/product-image-514582129.jpg?v=1571678450'], 'url': 'https://searchreversephonenumber.com/products/3-0-stereo-bluetooth-wireless-headset-headphones-with-call-mic-microphone-1', 'agoraScore': 86, 'priceHistory': [{'price': 39.99, 'date': '2025-01-17T09:14:47.721Z', '_id': '678a1f8805d633944480635e'}], 'averageRating': 4, 'discountVal': 0}, {'name': 'HEADPHONES', 'storeName': 'Stitched Icons', 'brand': 'stitchedicons', '_id': '678c2cb60205c9203b7f3ec2', 'slug': 'headphones-40389314-557a-48ee-a9d4-b436bad0f172-1737239734508', 'price': 19.99, 'isVerified': False, 'isBoosted': False, 'source': 'shopify', 'images': ['https://cdn.shopify.com/s/files/1/0250/0778/3998/products/Covers.jpg?v=1595618442', 'https://cdn.shopify.com/s/files/1/0250/0778/3998/products/White_shirt_black_Headphones.jpg?v=1595618442', 'https://cdn.shopify.com/s/files/1/0250/0778/3998/products/White_shirt_white_Headphones.jpg?v=1595618442', 'https://cdn.shopify.com/s/files/1/0250/0778/3998/products/White_shirt_green_Headphones.jpg?v=1595618442', 'https://cdn.shopify.com/s/files/1/0250/0778/3998/products/White_shirt_purple_Headphones.jpg?v=1595618442', 'https://cdn.shopify.com/s/files/1/0250/0778/3998/products/White_shirt_blue_Headphones.jpg?v=1595618442', 'https://cdn.shopify.com/s/files/1/0250/0778/3998/products/White_shirt_red_Headphones.jpg?v=1595618442', 'https://cdn.shopify.com/s/files/1/0250/0778/3998/products/White_shirt_orange_Headphones.jpg?v=1595618442', 'https://cdn.shopify.com/s/files/1/0250/0778/3998/products/White_shirt_Yellow_Headphones.jpg?v=1595618442', 'https://cdn.shopify.com/s/files/1/0250/0778/3998/products/White_shirt_grey_Headphones.jpg?v=1595618442', 'https://cdn.shopify.com/s/files/1/0250/0778/3998/products/white_shirt_neon_Headphones.jpg?v=1595618442', 'https://cdn.shopify.com/s/files/1/0250/0778/3998/products/Black_shirt_black_Headphones.jpg?v=1595618442', 'https://cdn.shopify.com/s/files/1/0250/0778/3998/products/Black_shirt_white_Headphones.jpg?v=1595618442', 'https://cdn.shopify.com/s/files/1/0250/0778/3998/products/Black_shirt_green_Headphones.jpg?v=1595618442', 'https://cdn.shopify.com/s/files/1/0250/0778/3998/products/Black_shirt_purple_Headphones.jpg?v=1595618442', 'https://cdn.shopify.com/s/files/1/0250/0778/3998/products/Black_shirt_blue_Headphones.jpg?v=1595618442', 'https://cdn.shopify.com/s/files/1/0250/0778/3998/products/Black_shirt_red_Headphones.jpg?v=1595618442', 'https://cdn.shopify.com/s/files/1/0250/0778/3998/products/Black_shirt_Orange_Headphones.jpg?v=1595618442', 'https://cdn.shopify.com/s/files/1/0250/0778/3998/products/Black_shirt_Yellow_Headphones.jpg?v=1595618442', 'https://cdn.shopify.com/s/files/1/0250/0778/3998/products/Black_shirt_Grey_Headphones.jpg?v=1595618442', 'https://cdn.shopify.com/s/files/1/0250/0778/3998/products/Black_shirt_neon_Headphones.jpg?v=1595618442', 'https://cdn.shopify.com/s/files/1/0250/0778/3998/products/Navy_shirt_Black_Headphones.jpg?v=1595618442', 'https://cdn.shopify.com/s/files/1/0250/0778/3998/products/Navy_shirt_white_Headphones.jpg?v=1595618442', 'https://cdn.shopify.com/s/files/1/0250/0778/3998/products/Navy_shirt_Green_Headphones.jpg?v=1595618442', 'https://cdn.shopify.com/s/files/1/0250/0778/3998/products/Navy_shirt_Purple_Headphones.jpg?v=1595618442', 'https://cdn.shopify.com/s/files/1/0250/0778/3998/products/Navy_shirt_Blue_Headphones.jpg?v=1595618442', 'https://cdn.shopify.com/s/files/1/0250/0778/3998/products/Navy_shirt_Red_Headphones.jpg?v=1595618442', 'https://cdn.shopify.com/s/files/1/0250/0778/3998/products/Navy_shirt_Orange_Headphones.jpg?v=1595618442', 'https://cdn.shopify.com/s/files/1/0250/0778/3998/products/Navy_shirt_Yellow_Headphones.jpg?v=1595618442', 'https://cdn.shopify.com/s/files/1/0250/0778/3998/products/Navy_shirt_Grey_Headphones.jpg?v=1595618442', 'https://cdn.shopify.com/s/files/1/0250/0778/3998/products/Navy_shirt_Neon_Headphones.jpg?v=1595618442', 'https://cdn.shopify.com/s/files/1/0250/0778/3998/products/Royal_shirt_black_Headphones.jpg?v=1595618442', 'https://cdn.shopify.com/s/files/1/0250/0778/3998/products/Royal_shirt_white_Headphones.jpg?v=1595618442', 'https://cdn.shopify.com/s/files/1/0250/0778/3998/products/Royal_shirt_green_Headphones.jpg?v=1595618442', 'https://cdn.shopify.com/s/files/1/0250/0778/3998/products/Royal_shirt_purple_Headphones.jpg?v=1595618442', 'https://cdn.shopify.com/s/files/1/0250/0778/3998/products/Royal_shirt_blue_Headphones.jpg?v=1595618442', 'https://cdn.shopify.com/s/files/1/0250/0778/3998/products/Royal_shirt_red_Headphones.jpg?v=1595618442', 'https://cdn.shopify.com/s/files/1/0250/0778/3998/products/Royal_shirt_orange_Headphones.jpg?v=1595618442', 'https://cdn.shopify.com/s/files/1/0250/0778/3998/products/Royal_shirt_yellow_Headphones.jpg?v=1595618442', 'https://cdn.shopify.com/s/files/1/0250/0778/3998/products/Royal_shirt_grey_Headphones.jpg?v=1595618442', 'https://cdn.shopify.com/s/files/1/0250/0778/3998/products/Royal_shirt_neon_Headphones.jpg?v=1595618442', 'https://cdn.shopify.com/s/files/1/0250/0778/3998/products/Red_shirt_black_Headphones.jpg?v=1595618442', 'https://cdn.shopify.com/s/files/1/0250/0778/3998/products/Red_shirt_white_Headphones.jpg?v=1595618442', 'https://cdn.shopify.com/s/files/1/0250/0778/3998/products/Red_shirt_green_Headphones.jpg?v=1595618442', 'https://cdn.shopify.com/s/files/1/0250/0778/3998/products/Red_shirt_Purple_Headphones.jpg?v=1595618442', 'https://cdn.shopify.com/s/files/1/0250/0778/3998/products/Red_shirt_blue_Headphones.jpg?v=1595618442', 'https://cdn.shopify.com/s/files/1/0250/0778/3998/products/Red_shirt_red_Headphones.jpg?v=1595618442', 'https://cdn.shopify.com/s/files/1/0250/0778/3998/products/Red_shirt_orange_Headphones.jpg?v=1595618442', 'https://cdn.shopify.com/s/files/1/0250/0778/3998/products/Red_shirt_yellow_Headphones.jpg?v=1595618442', 'https://cdn.shopify.com/s/files/1/0250/0778/3998/products/Red_shirt_grey_Headphones.jpg?v=1595618442', 'https://cdn.shopify.com/s/files/1/0250/0778/3998/products/Red_shirt_neon_Headphones.jpg?v=1595618442', 'https://cdn.shopify.com/s/files/1/0250/0778/3998/products/Grey_shirt_black_Headphones.jpg?v=1595618442', 'https://cdn.shopify.com/s/files/1/0250/0778/3998/products/Grey_shirt_white_Headphones.jpg?v=1595618442', 'https://cdn.shopify.com/s/files/1/0250/0778/3998/products/Grey_shirt_green_Headphones.jpg?v=1595618442', 'https://cdn.shopify.com/s/files/1/0250/0778/3998/products/Grey_shirt_purple_Headphones.jpg?v=1595618442', 'https://cdn.shopify.com/s/files/1/0250/0778/3998/products/Grey_shirt_blue_Headphones.jpg?v=1595618442', 'https://cdn.shopify.com/s/files/1/0250/0778/3998/products/Grey_shirt_red_Headphones.jpg?v=1595618442', 'https://cdn.shopify.com/s/files/1/0250/0778/3998/products/Grey_shirt_orange_Headphones.jpg?v=1595618442', 'https://cdn.shopify.com/s/files/1/0250/0778/3998/products/Grey_shirt_yellow_Headphones.jpg?v=1595618442', 'https://cdn.shopify.com/s/files/1/0250/0778/3998/products/Grey_shirt_Grey_Headphones.jpg?v=1595618442', 'https://cdn.shopify.com/s/files/1/0250/0778/3998/products/Grey_shirt_neon_Headphones.jpg?v=1595618442'], 'url': 'https://stitchedicons.com/products/headphones', 'agoraScore': 92, 'priceHistory': [{'price': 19.99, 'date': '2025-01-18T22:35:34.519Z', '_id': '678c2cb60205c9203b7f3ee3'}], 'discountVal': 0}, {'name': 'Stereo Headphones', 'storeName': 'Vivitar.com', 'brand': 'Vivitar.com', '_id': '678cd3dc356a36f784b60b60', 'slug': 'stereo-headphones-da023643-45da-43f6-97af-509b6615fa68-1737282524363', 'price': 19.99, 'isVerified': False, 'isBoosted': False, 'source': 'shopify', 'images': ['https://cdn.shopify.com/s/files/1/1569/9941/products/VPAS2001.jpg?v=1613800715', 'https://cdn.shopify.com/s/files/1/1569/9941/products/VPAS2001_2.jpg?v=1613800719', 'https://cdn.shopify.com/s/files/1/1569/9941/products/vpas2001pnk.jpg?v=1613800722'], 'url': 'https://vivitar.com/products/stereo-headphones', 'agoraScore': 100, 'priceHistory': [{'price': 19.99, 'date': '2025-01-19T10:28:44.381Z', '_id': '678cd3dc356a36f784b60c8d'}], 'discountVal': 0}]}\"}]},\n",
        " {'role': 'assistant',\n",
        "  'content': [TextBlock(citations=None, text='Based on your search for headphones in the $100-$200 price range, I found one product that matches your criteria. Here it is:', type='text'),\n",
        "   ToolUseBlock(id='toolu_01Xv98ZHEZRhirgMS1AjaR4L', input={'item': '{\"name\": \"Sonic Headphones (Black)\", \"storeName\": \"TC Running Co\", \"brand\": \"Suunto\", \"_id\": \"677e58f7770698bbe86cf7d7\", \"price\": 150, \"images\": [\"https://cdn.shopify.com/s/files/1/1804/7057/files/suunto-sonic-black-side-3-1280x1280px.webp?v=1717101867\"], \"agoraScore\": 92}'}, name='ProductCard', type='tool_use')]},\n",
        " {'role': 'user',\n",
        "  'content': [{'type': 'tool_result',\n",
        "    'tool_use_id': 'toolu_01Xv98ZHEZRhirgMS1AjaR4L',\n",
        "    'content': \"div((div((div((div((img((),{'src': 'https://cdn.shopify.com/s/files/1/1804/7057/files/suunto-sonic-black-side-3-1280x1280px.webp?v=1717101867', 'alt': 'Sonic Headphones (Black)', 'class': 'max-h-52 object-contain'}),),{}), div((h3(('Sonic Headphones (Black)',),{'class': 'uk-h3 '}), strong(('$150',),{'class': 'font-bold '}), div(('Brand: Suunto',),{}), div(('Store: TC Running Co',),{}), div(('Rating: 92/100',),{}), button(('View Details',),{'type': 'submit', 'id': 'view-677e58f7770698bbe86cf7d7', 'class': 'uk-btn uk-btn-default', 'name': 'view-677e58f7770698bbe86cf7d7'})),{'class': 'flex flex-col items-center space-y-4'})),{'class': 'flex flex-row items-center space-x-4'}),),{'class': 'uk-card-body space-y-6'}),),{'class': 'uk-card '})\"}]},\n",
        " {'role': 'assistant',\n",
        "  'content': [TextBlock(citations=None, text='I only found one headphone option within your specified price range of $100-$200:\\n\\n- Sonic Headphones (Black) by Suunto\\n- Price: $150\\n- Store: TC Running Co\\n- Rating: 92/100\\n\\nWould you like me to search for more headphone options with different price ranges, or would you like more information about this particular model?', type='text')]}]"
        ]
        },
        "execution_count": null,
        "metadata": {},
        "output_type": "execute_result"
        }
    ],
    "source": [
        "chat.h"
    ]
    },
    {
    "cell_type": "markdown",
    "metadata": {},
    "source": [
        "## Our own tool loop"
    ]
    },
    {
    "cell_type": "code",
    "execution_count": null,
    "metadata": {},
    "outputs": [
        {
        "data": {
        "text/markdown": [
        "No results yet"
        ],
        "text/plain": [
        "<claudette.core.Chat>"
        ]
        },
        "execution_count": null,
        "metadata": {},
        "output_type": "execute_result"
        }
    ],
    "source": [
        "from claudette.core import Chat, mk_toolres, mk_msg, mk_msgs, contents, call_func, mk_ns, find_block, ToolUseBlock\n",
        "\n",
        "# Define the model and system prompt\n",
        "model = 'claude-3-7-sonnet-20250219'\n",
        "sp = \"You are a product search assistant.\"\n",
        "\n",
        "# Assume search_products and render_product are already defined in our environment.\n",
        "# Initialize the Chat interface with our tools and a default continuation prompt.\n",
        "chat = Chat(model, sp=sp, tools=[search_trial, render_product], cont_pr=\"continue\")\n",
        "\n",
        "# Reset the conversation history.\n",
        "chat.h = []\n",
        "chat  # This will be printed automatically."
    ]
    },
    {
    "cell_type": "code",
    "execution_count": null,
    "metadata": {},
    "outputs": [
        {
        "data": {
        "text/markdown": [
        "I'll help you find Nike running shoes. Let me search for those for you right away.\n",
        "\n",
        "<details>\n",
        "\n",
        "- id: `msg_01UfwUNEQfUyLukaArEeE3Mx`\n",
        "- content: `[{'citations': None, 'text': \"I'll help you find Nike running shoes. Let me search for those for you right away.\", 'type': 'text'}, {'id': 'toolu_01GA4MQ1XrR4C6pQRcxx9Auk', 'input': {'query': 'Nike running shoes'}, 'name': 'search_trial', 'type': 'tool_use'}]`\n",
        "- model: `claude-3-7-sonnet-20250219`\n",
        "- role: `assistant`\n",
        "- stop_reason: `tool_use`\n",
        "- stop_sequence: `None`\n",
        "- type: `message`\n",
        "- usage: `{'cache_creation_input_tokens': 0, 'cache_read_input_tokens': 0, 'input_tokens': 830, 'output_tokens': 75}`\n",
        "\n",
        "</details>"
        ],
        "text/plain": [
        "Message(id='msg_01UfwUNEQfUyLukaArEeE3Mx', content=[TextBlock(citations=None, text=\"I'll help you find Nike running shoes. Let me search for those for you right away.\", type='text'), ToolUseBlock(id='toolu_01GA4MQ1XrR4C6pQRcxx9Auk', input={'query': 'Nike running shoes'}, name='search_trial', type='tool_use')], model='claude-3-7-sonnet-20250219', role='assistant', stop_reason='tool_use', stop_sequence=None, type='message', usage=In: 830; Out: 75; Cache create: 0; Cache read: 0; Total: 905)"
        ]
        },
        "execution_count": null,
        "metadata": {},
        "output_type": "execute_result"
        }
    ],
    "source": [
        "# Send the initial user prompt that should trigger a tool call.\n",
        "r = chat(\"Show me running shoes by Nike\")\n",
        "r  # This will display the assistant's response, likely containing a tool request."
    ]
    },
    {
    "cell_type": "code",
    "execution_count": null,
    "metadata": {},
    "outputs": [
        {
        "data": {
        "text/plain": [
        "[{'role': 'user', 'content': 'Show me running shoes by Nike'},\n",
        " {'role': 'assistant',\n",
        "  'content': [TextBlock(citations=None, text=\"I'll help you find Nike running shoes. Let me search for those for you right away.\", type='text'),\n",
        "   ToolUseBlock(id='toolu_01GA4MQ1XrR4C6pQRcxx9Auk', input={'query': 'Nike running shoes'}, name='search_trial', type='tool_use')]},\n",
        " {'role': 'user',\n",
        "  'content': [{'type': 'tool_result',\n",
        "    'tool_use_id': 'toolu_01GA4MQ1XrR4C6pQRcxx9Auk',\n",
        "    'content': \"{'status': 'success', 'Products': [{'name': 'Nike Running Shoes Sneakers CW3398-102 Womens Size 11 White Air Max Bella TR 4', 'storeName': 'Goodfair', 'brand': 'Nike', '_id': '6745d4c5ecd6d824cc57c98a', 'slug': 'nike-running-shoes-sneakers-cw3398-102-womens-size-11-white-air-max-bella-tr-4-29cd1d62-c9cf-4e08-91f6-0bd041500200-1732629701027', 'price': 41.99, 'isVerified': False, 'isBoosted': False, 'source': 'shopify', 'images': ['https://cdn.shopify.com/s/files/1/0077/1745/3881/products/57_8f6713b3-9859-4aff-9118-50541af25f47.jpg?v=1693248497', 'https://cdn.shopify.com/s/files/1/0077/1745/3881/products/57_3c1bbfe7-1fe9-4df1-8d55-1ddc48d3bd8d.jpg?v=1693248497', 'https://cdn.shopify.com/s/files/1/0077/1745/3881/products/57_ae1975b0-2b04-459e-8443-c178663631d7.jpg?v=1693248497', 'https://cdn.shopify.com/s/files/1/0077/1745/3881/products/57_846093bc-814d-4a4f-869f-da942285943d.jpg?v=1693248497', 'https://cdn.shopify.com/s/files/1/0077/1745/3881/products/57_7bec3532-a075-458e-bdf3-995fbc0ee317.jpg?v=1693248497', 'https://cdn.shopify.com/s/files/1/0077/1745/3881/products/57_2f9d6a73-2dc7-4a41-95e7-88d2225940f8.jpg?v=1693248497', 'https://cdn.shopify.com/s/files/1/0077/1745/3881/products/57_5d4a3443-86c5-431b-a14b-367681e5578c.jpg?v=1693248497', 'https://cdn.shopify.com/s/files/1/0077/1745/3881/products/57_196146b6-a080-42bb-a5c7-cbef731fc79f.jpg?v=1693248497', 'https://cdn.shopify.com/s/files/1/0077/1745/3881/products/57_1727d3c1-71d4-4d48-b225-e76ca5ce9940.jpg?v=1693248497'], 'url': 'https://goodfair.com/products/nike-running-shoes-sneakers-cw3398-102-womens-size-11-white-air-max-bella-tr-4', 'agoraScore': 92, 'priceHistory': [{'price': 41.99, 'date': '2024-11-26T14:01:42.579Z', '_id': '6745d4ceecd6d824cc58a4fc'}], 'discountVal': 0}, {'name': 'Nike Running Shoes Womens 10 Pink Gray Kyrie Flytrap Trail 512038-600 Sneaker', 'storeName': 'Goodfair', 'brand': 'Nike', '_id': '6745d4c5ecd6d824cc57cf71', 'slug': 'nike-running-shoes-womens-10-pink-gray-kyrie-flytrap-trail-512038-600-sneaker-40326ed8-df41-4ef5-afd7-093663a1720a-1732629701241', 'price': 41.99, 'isVerified': False, 'isBoosted': False, 'source': 'shopify', 'images': ['https://cdn.shopify.com/s/files/1/0077/1745/3881/products/57_614bf983-3980-46ff-a547-fabc3225cd70.jpg?v=1693207399', 'https://cdn.shopify.com/s/files/1/0077/1745/3881/products/57_c9d23569-88c8-4d64-95a6-f5dfa29a0ffd.jpg?v=1693207399', 'https://cdn.shopify.com/s/files/1/0077/1745/3881/products/57_3ccff3e2-2d24-4f4c-b13c-4296cbd0a8dd.jpg?v=1693207399', 'https://cdn.shopify.com/s/files/1/0077/1745/3881/products/57_d1a35daf-d8c2-423f-ab46-0bb675d75a57.jpg?v=1693207399', 'https://cdn.shopify.com/s/files/1/0077/1745/3881/products/57_f44df2cd-6dfe-4dff-b3e5-319ec2aa1044.jpg?v=1693207399', 'https://cdn.shopify.com/s/files/1/0077/1745/3881/products/57_98c47543-6079-473b-a311-41ca15dc9931.jpg?v=1693207399', 'https://cdn.shopify.com/s/files/1/0077/1745/3881/products/57_14d272e8-ab9f-4e77-a697-a5702cbcf7c7.jpg?v=1693207399', 'https://cdn.shopify.com/s/files/1/0077/1745/3881/products/57_886e34a3-f26b-4f6c-9c27-7ea15bf5058b.jpg?v=1693207399', 'https://cdn.shopify.com/s/files/1/0077/1745/3881/products/57_9c5ebfd7-fdd0-46b6-bf9d-60b9518922c3.jpg?v=1693207399'], 'url': 'https://goodfair.com/products/nike-running-shoes-womens-10-pink-gray-kyrie-flytrap-trail-512038-600-sneaker', 'agoraScore': 92, 'priceHistory': [{'price': 41.99, 'date': '2024-11-26T14:01:42.582Z', '_id': '6745d4cfecd6d824cc58b0ca'}], 'discountVal': 0}, {'name': 'NIKE Running Shoes - 7 US', 'storeName': 'LuxAnthropy', 'brand': 'NIKE', '_id': '678873c0841de148639ff4e3', 'slug': 'nike-free-barefoot-like-running-shoes-size-7-a35ed889-9df0-4eea-9ae3-279c10534c24-1736995776401', 'price': 30, 'isVerified': False, 'isBoosted': False, 'source': 'shopify', 'images': ['https://cdn.shopify.com/s/files/1/0737/6037/5060/files/1693484956-NikeFreeBarefootLikeRunningShoesSize7-8591339028756.jpg?v=1693484958', 'https://cdn.shopify.com/s/files/1/0737/6037/5060/files/1693484965-None-8591339028756.jpg?v=1693484966', 'https://cdn.shopify.com/s/files/1/0737/6037/5060/files/1693484958-None-8591339028756.jpg?v=1693484959', 'https://cdn.shopify.com/s/files/1/0737/6037/5060/files/1693484963-None-8591339028756.jpg?v=1693484964', 'https://cdn.shopify.com/s/files/1/0737/6037/5060/files/1693484959-None-8591339028756.jpg?v=1693484961', 'https://cdn.shopify.com/s/files/1/0737/6037/5060/files/1693484961-None-8591339028756.jpg?v=1693484963'], 'url': 'https://luxanthropy.com/products/nike-free-barefoot-like-running-shoes-size-7', 'agoraScore': 92, 'priceHistory': [{'price': 30, 'date': '2025-01-16T02:49:36.804Z', '_id': '678873c0841de148639ffe1f'}], 'averageRating': 0, 'discountVal': 0}, {'name': 'Infants Nike Running Shoes', 'storeName': 'Aimé Leon Dore', 'brand': 'Aimé Leon Dore', '_id': '666cbb3c01b1312ad493284c', 'slug': 'infants-nike-running-shoes-4b3b3aa4-1056-4749-88a0-7104dfb536a9-1718401852300', 'price': 100, 'isVerified': False, 'isBoosted': False, 'source': 'shopify', 'images': ['https://cdn.shopify.com/s/files/1/0302/7829/products/SQUARE_SHOES_0008_Aime_FW22_Vintage_AccesoriesR2_32copy.jpg?v=1674661280', 'https://cdn.shopify.com/s/files/1/0302/7829/products/4x5_SHOES_0008_Aime_FW22_Vintage_AccesoriesR2_32copy.jpg?v=1674661357', 'https://cdn.shopify.com/s/files/1/0302/7829/products/4x5_SHOES_0007_Aime_FW22_Vintage_AccesoriesR2_33copy.jpg?v=1674661357', 'https://cdn.shopify.com/s/files/1/0302/7829/products/4x5_SHOES_0000_Aime_FW22_Vintage_AccesoriesR2_34.jpg?v=1674835225'], 'url': 'https://aimeleondore.com/products/infants-nike-running-shoes', 'agoraScore': 100, 'priceHistory': [{'price': 100, 'date': '2024-06-14T22:23:17.973Z', '_id': '671437fb6ca0a1804a8ec364'}], 'discountVal': 0}, {'name': 'Nike Womens Lunarstelos Shoes 844736-005 Gray Black Running Sneaker Size US 9.5', 'storeName': 'Goodfair', 'brand': 'Nike', '_id': '6745d4c5ecd6d824cc57cb0c', 'slug': 'nike-womens-lunarstelos-shoes-844736-005-gray-black-running-sneaker-size-us-9-5-f52ebcee-822e-4ce3-9ba5-e2d0c48e2c83-1732629701080', 'price': 41.99, 'isVerified': False, 'isBoosted': False, 'source': 'shopify', 'images': ['https://cdn.shopify.com/s/files/1/0077/1745/3881/products/57_c42a9c04-34bf-4ed9-ad9b-ff81d05a15da.jpg?v=1693239941', 'https://cdn.shopify.com/s/files/1/0077/1745/3881/products/57_0bbabce6-5e37-49f8-9689-8913c2f6f6f4.jpg?v=1693239941', 'https://cdn.shopify.com/s/files/1/0077/1745/3881/products/57_fefc3085-3d5e-4a92-b8fb-36c91baf3824.jpg?v=1693239941', 'https://cdn.shopify.com/s/files/1/0077/1745/3881/products/57_6c5e0d37-12ae-412d-9594-774111f429f2.jpg?v=1693239942', 'https://cdn.shopify.com/s/files/1/0077/1745/3881/products/57_51e2e32e-5de8-4277-904f-99b8c8064050.jpg?v=1693239942', 'https://cdn.shopify.com/s/files/1/0077/1745/3881/products/57_fbe447e8-e8bc-4a4a-8d59-228ab05a5fc5.jpg?v=1693239942', 'https://cdn.shopify.com/s/files/1/0077/1745/3881/products/57_7cdb4bbc-5c8f-4163-a84c-040a55c2f69c.jpg?v=1693239942', 'https://cdn.shopify.com/s/files/1/0077/1745/3881/products/57_75dbea5d-f394-4b82-a932-4eb7fe43f9f4.jpg?v=1693239942'], 'url': 'https://goodfair.com/products/nike-womens-lunarstelos-shoes-844736-005-gray-black-running-sneaker-size-us-9-5', 'agoraScore': 92, 'priceHistory': [{'price': 41.99, 'date': '2024-11-26T14:01:42.579Z', '_id': '6745d4cfecd6d824cc58a800'}], 'discountVal': 0}]}\"}]}]"
        ]
        },
        "execution_count": null,
        "metadata": {},
        "output_type": "execute_result"
        }
    ],
    "source": [
        "chat.h"
    ]
    },
    {
    "cell_type": "code",
    "execution_count": null,
    "metadata": {},
    "outputs": [
        {
        "data": {
        "text/markdown": [
        "I'll help you find Nike running shoes. Let me search for those for you right away.\n",
        "\n",
        "<details>\n",
        "\n",
        "- id: `msg_01UfwUNEQfUyLukaArEeE3Mx`\n",
        "- content: `[{'citations': None, 'text': \"I'll help you find Nike running shoes. Let me search for those for you right away.\", 'type': 'text'}, {'id': 'toolu_01GA4MQ1XrR4C6pQRcxx9Auk', 'input': {'query': 'Nike running shoes'}, 'name': 'search_trial', 'type': 'tool_use'}]`\n",
        "- model: `claude-3-7-sonnet-20250219`\n",
        "- role: `assistant`\n",
        "- stop_reason: `tool_use`\n",
        "- stop_sequence: `None`\n",
        "- type: `message`\n",
        "- usage: `{'cache_creation_input_tokens': 0, 'cache_read_input_tokens': 0, 'input_tokens': 830, 'output_tokens': 75}`\n",
        "\n",
        "</details>"
        ],
        "text/plain": [
        "Message(id='msg_01UfwUNEQfUyLukaArEeE3Mx', content=[TextBlock(citations=None, text=\"I'll help you find Nike running shoes. Let me search for those for you right away.\", type='text'), ToolUseBlock(id='toolu_01GA4MQ1XrR4C6pQRcxx9Auk', input={'query': 'Nike running shoes'}, name='search_trial', type='tool_use')], model='claude-3-7-sonnet-20250219', role='assistant', stop_reason='tool_use', stop_sequence=None, type='message', usage=In: 830; Out: 75; Cache create: 0; Cache read: 0; Total: 905)"
        ]
        },
        "execution_count": null,
        "metadata": {},
        "output_type": "execute_result"
        }
    ],
    "source": [
        "r"
    ]
    },
    {
    "cell_type": "code",
    "execution_count": null,
    "metadata": {},
    "outputs": [
        {
        "data": {
        "text/plain": [
        "ToolUseBlock(id='toolu_01GA4MQ1XrR4C6pQRcxx9Auk', input={'query': 'Nike running shoes'}, name='search_trial', type='tool_use')"
        ]
        },
        "execution_count": null,
        "metadata": {},
        "output_type": "execute_result"
        }
    ],
    "source": [
        "# Look for a ToolUseBlock in the response.\n",
        "tool_req = None\n",
        "for block in r.content:\n",
        "    if isinstance(block, ToolUseBlock):\n",
        "        tool_req = block\n",
        "        break\n",
        "tool_req  # Should display the tool request details."
    ]
    },
    {
    "cell_type": "code",
    "execution_count": null,
    "metadata": {},
    "outputs": [
        {
        "data": {
        "text/plain": [
        "('search_trial',\n",
        " {'query': 'Nike running shoes'},\n",
        " 'toolu_01GA4MQ1XrR4C6pQRcxx9Auk')"
        ]
        },
        "execution_count": null,
        "metadata": {},
        "output_type": "execute_result"
        }
    ],
    "source": [
        "tc = first([o for o in r.content if isinstance(o, ToolUseBlock)])\n",
        "tc.name, tc.input, tc.id"
    ]
    },
    {
    "cell_type": "code",
    "execution_count": null,
    "metadata": {},
    "outputs": [
        {
        "data": {
        "text/plain": [
        "('tool_result',\n",
        " 'toolu_01GA4MQ1XrR4C6pQRcxx9Auk',\n",
        " \"{'status': 'success', 'Products': [{'name': 'Nike Running Shoes Sneakers CW3398-102 Womens Size 11 White Air Max Bella TR 4', 'storeName': 'Goodfair', 'brand': 'Nike', '_id': '6745d4c5ecd6d824cc57c98a', 'slug': 'nike-running-shoes-sneakers-cw3398-102-womens-size-11-white-air-max-bella-tr-4-29cd1d62-c9cf-4e08-91f6-0bd041500200-1732629701027', 'price': 41.99, 'isVerified': False, 'isBoosted': False, 'source': 'shopify', 'images': ['https://cdn.shopify.com/s/files/1/0077/1745/3881/products/57_8f6713b3-9859-4aff-9118-50541af25f47.jpg?v=1693248497', 'https://cdn.shopify.com/s/files/1/0077/1745/3881/products/57_3c1bbfe7-1fe9-4df1-8d55-1ddc48d3bd8d.jpg?v=1693248497', 'https://cdn.shopify.com/s/files/1/0077/1745/3881/products/57_ae1975b0-2b04-459e-8443-c178663631d7.jpg?v=1693248497', 'https://cdn.shopify.com/s/files/1/0077/1745/3881/products/57_846093bc-814d-4a4f-869f-da942285943d.jpg?v=1693248497', 'https://cdn.shopify.com/s/files/1/0077/1745/3881/products/57_7bec3532-a075-458e-bdf3-995fbc0ee317.jpg?v=1693248497', 'https://cdn.shopify.com/s/files/1/0077/1745/3881/products/57_2f9d6a73-2dc7-4a41-95e7-88d2225940f8.jpg?v=1693248497', 'https://cdn.shopify.com/s/files/1/0077/1745/3881/products/57_5d4a3443-86c5-431b-a14b-367681e5578c.jpg?v=1693248497', 'https://cdn.shopify.com/s/files/1/0077/1745/3881/products/57_196146b6-a080-42bb-a5c7-cbef731fc79f.jpg?v=1693248497', 'https://cdn.shopify.com/s/files/1/0077/1745/3881/products/57_1727d3c1-71d4-4d48-b225-e76ca5ce9940.jpg?v=1693248497'], 'url': 'https://goodfair.com/products/nike-running-shoes-sneakers-cw3398-102-womens-size-11-white-air-max-bella-tr-4', 'agoraScore': 92, 'priceHistory': [{'price': 41.99, 'date': '2024-11-26T14:01:42.579Z', '_id': '6745d4ceecd6d824cc58a4fc'}], 'discountVal': 0}, {'name': 'Nike Running Shoes Womens 10 Pink Gray Kyrie Flytrap Trail 512038-600 Sneaker', 'storeName': 'Goodfair', 'brand': 'Nike', '_id': '6745d4c5ecd6d824cc57cf71', 'slug': 'nike-running-shoes-womens-10-pink-gray-kyrie-flytrap-trail-512038-600-sneaker-40326ed8-df41-4ef5-afd7-093663a1720a-1732629701241', 'price': 41.99, 'isVerified': False, 'isBoosted': False, 'source': 'shopify', 'images': ['https://cdn.shopify.com/s/files/1/0077/1745/3881/products/57_614bf983-3980-46ff-a547-fabc3225cd70.jpg?v=1693207399', 'https://cdn.shopify.com/s/files/1/0077/1745/3881/products/57_c9d23569-88c8-4d64-95a6-f5dfa29a0ffd.jpg?v=1693207399', 'https://cdn.shopify.com/s/files/1/0077/1745/3881/products/57_3ccff3e2-2d24-4f4c-b13c-4296cbd0a8dd.jpg?v=1693207399', 'https://cdn.shopify.com/s/files/1/0077/1745/3881/products/57_d1a35daf-d8c2-423f-ab46-0bb675d75a57.jpg?v=1693207399', 'https://cdn.shopify.com/s/files/1/0077/1745/3881/products/57_f44df2cd-6dfe-4dff-b3e5-319ec2aa1044.jpg?v=1693207399', 'https://cdn.shopify.com/s/files/1/0077/1745/3881/products/57_98c47543-6079-473b-a311-41ca15dc9931.jpg?v=1693207399', 'https://cdn.shopify.com/s/files/1/0077/1745/3881/products/57_14d272e8-ab9f-4e77-a697-a5702cbcf7c7.jpg?v=1693207399', 'https://cdn.shopify.com/s/files/1/0077/1745/3881/products/57_886e34a3-f26b-4f6c-9c27-7ea15bf5058b.jpg?v=1693207399', 'https://cdn.shopify.com/s/files/1/0077/1745/3881/products/57_9c5ebfd7-fdd0-46b6-bf9d-60b9518922c3.jpg?v=1693207399'], 'url': 'https://goodfair.com/products/nike-running-shoes-womens-10-pink-gray-kyrie-flytrap-trail-512038-600-sneaker', 'agoraScore': 92, 'priceHistory': [{'price': 41.99, 'date': '2024-11-26T14:01:42.582Z', '_id': '6745d4cfecd6d824cc58b0ca'}], 'discountVal': 0}, {'name': 'NIKE Running Shoes - 7 US', 'storeName': 'LuxAnthropy', 'brand': 'NIKE', '_id': '678873c0841de148639ff4e3', 'slug': 'nike-free-barefoot-like-running-shoes-size-7-a35ed889-9df0-4eea-9ae3-279c10534c24-1736995776401', 'price': 30, 'isVerified': False, 'isBoosted': False, 'source': 'shopify', 'images': ['https://cdn.shopify.com/s/files/1/0737/6037/5060/files/1693484956-NikeFreeBarefootLikeRunningShoesSize7-8591339028756.jpg?v=1693484958', 'https://cdn.shopify.com/s/files/1/0737/6037/5060/files/1693484965-None-8591339028756.jpg?v=1693484966', 'https://cdn.shopify.com/s/files/1/0737/6037/5060/files/1693484958-None-8591339028756.jpg?v=1693484959', 'https://cdn.shopify.com/s/files/1/0737/6037/5060/files/1693484963-None-8591339028756.jpg?v=1693484964', 'https://cdn.shopify.com/s/files/1/0737/6037/5060/files/1693484959-None-8591339028756.jpg?v=1693484961', 'https://cdn.shopify.com/s/files/1/0737/6037/5060/files/1693484961-None-8591339028756.jpg?v=1693484963'], 'url': 'https://luxanthropy.com/products/nike-free-barefoot-like-running-shoes-size-7', 'agoraScore': 92, 'priceHistory': [{'price': 30, 'date': '2025-01-16T02:49:36.804Z', '_id': '678873c0841de148639ffe1f'}], 'averageRating': 0, 'discountVal': 0}, {'name': 'Infants Nike Running Shoes', 'storeName': 'Aimé Leon Dore', 'brand': 'Aimé Leon Dore', '_id': '666cbb3c01b1312ad493284c', 'slug': 'infants-nike-running-shoes-4b3b3aa4-1056-4749-88a0-7104dfb536a9-1718401852300', 'price': 100, 'isVerified': False, 'isBoosted': False, 'source': 'shopify', 'images': ['https://cdn.shopify.com/s/files/1/0302/7829/products/SQUARE_SHOES_0008_Aime_FW22_Vintage_AccesoriesR2_32copy.jpg?v=1674661280', 'https://cdn.shopify.com/s/files/1/0302/7829/products/4x5_SHOES_0008_Aime_FW22_Vintage_AccesoriesR2_32copy.jpg?v=1674661357', 'https://cdn.shopify.com/s/files/1/0302/7829/products/4x5_SHOES_0007_Aime_FW22_Vintage_AccesoriesR2_33copy.jpg?v=1674661357', 'https://cdn.shopify.com/s/files/1/0302/7829/products/4x5_SHOES_0000_Aime_FW22_Vintage_AccesoriesR2_34.jpg?v=1674835225'], 'url': 'https://aimeleondore.com/products/infants-nike-running-shoes', 'agoraScore': 100, 'priceHistory': [{'price': 100, 'date': '2024-06-14T22:23:17.973Z', '_id': '671437fb6ca0a1804a8ec364'}], 'discountVal': 0}, {'name': 'Nike Womens Lunarstelos Shoes 844736-005 Gray Black Running Sneaker Size US 9.5', 'storeName': 'Goodfair', 'brand': 'Nike', '_id': '6745d4c5ecd6d824cc57cb0c', 'slug': 'nike-womens-lunarstelos-shoes-844736-005-gray-black-running-sneaker-size-us-9-5-f52ebcee-822e-4ce3-9ba5-e2d0c48e2c83-1732629701080', 'price': 41.99, 'isVerified': False, 'isBoosted': False, 'source': 'shopify', 'images': ['https://cdn.shopify.com/s/files/1/0077/1745/3881/products/57_c42a9c04-34bf-4ed9-ad9b-ff81d05a15da.jpg?v=1693239941', 'https://cdn.shopify.com/s/files/1/0077/1745/3881/products/57_0bbabce6-5e37-49f8-9689-8913c2f6f6f4.jpg?v=1693239941', 'https://cdn.shopify.com/s/files/1/0077/1745/3881/products/57_fefc3085-3d5e-4a92-b8fb-36c91baf3824.jpg?v=1693239941', 'https://cdn.shopify.com/s/files/1/0077/1745/3881/products/57_6c5e0d37-12ae-412d-9594-774111f429f2.jpg?v=1693239942', 'https://cdn.shopify.com/s/files/1/0077/1745/3881/products/57_51e2e32e-5de8-4277-904f-99b8c8064050.jpg?v=1693239942', 'https://cdn.shopify.com/s/files/1/0077/1745/3881/products/57_fbe447e8-e8bc-4a4a-8d59-228ab05a5fc5.jpg?v=1693239942', 'https://cdn.shopify.com/s/files/1/0077/1745/3881/products/57_7cdb4bbc-5c8f-4163-a84c-040a55c2f69c.jpg?v=1693239942', 'https://cdn.shopify.com/s/files/1/0077/1745/3881/products/57_75dbea5d-f394-4b82-a932-4eb7fe43f9f4.jpg?v=1693239942'], 'url': 'https://goodfair.com/products/nike-womens-lunarstelos-shoes-844736-005-gray-black-running-sneaker-size-us-9-5', 'agoraScore': 92, 'priceHistory': [{'price': 41.99, 'date': '2024-11-26T14:01:42.579Z', '_id': '6745d4cfecd6d824cc58a800'}], 'discountVal': 0}]}\")"
        ]
        },
        "execution_count": null,
        "metadata": {},
        "output_type": "execute_result"
        }
    ],
    "source": [
        "tr = first(chat.h[-1].content)\n",
        "tr.type, tr.tool_use_id, tr.content"
    ]
    },
    {
    "cell_type": "code",
    "execution_count": null,
    "metadata": {},
    "outputs": [],
    "source": [
        "tr =  [tr for tr in chat.h[-1].content if tr.type == 'tool_result' and tr.tool_use_id == tc.id]\n",
        "assert len(tr) == 1"
    ]
    },
    {
    "cell_type": "code",
    "execution_count": null,
    "metadata": {},
    "outputs": [
        {
        "data": {
        "text/plain": [
        "\"{'status': 'success', 'Products': [{'name': 'Nike Running Shoes Sneakers CW3398-102 Womens Size 11 White Air Max Bella TR 4', 'storeName': 'Goodfair', 'brand': 'Nike', '_id': '6745d4c5ecd6d824cc57c98a', 'slug': 'nike-running-shoes-sneakers-cw3398-102-womens-size-11-white-air-max-bella-tr-4-29cd1d62-c9cf-4e08-91f6-0bd041500200-1732629701027', 'price': 41.99, 'isVerified': False, 'isBoosted': False, 'source': 'shopify', 'images': ['https://cdn.shopify.com/s/files/1/0077/1745/3881/products/57_8f6713b3-9859-4aff-9118-50541af25f47.jpg?v=1693248497', 'https://cdn.shopify.com/s/files/1/0077/1745/3881/products/57_3c1bbfe7-1fe9-4df1-8d55-1ddc48d3bd8d.jpg?v=1693248497', 'https://cdn.shopify.com/s/files/1/0077/1745/3881/products/57_ae1975b0-2b04-459e-8443-c178663631d7.jpg?v=1693248497', 'https://cdn.shopify.com/s/files/1/0077/1745/3881/products/57_846093bc-814d-4a4f-869f-da942285943d.jpg?v=1693248497', 'https://cdn.shopify.com/s/files/1/0077/1745/3881/products/57_7bec3532-a075-458e-bdf3-995fbc0ee317.jpg?v=1693248497', 'https://cdn.shopify.com/s/files/1/0077/1745/3881/products/57_2f9d6a73-2dc7-4a41-95e7-88d2225940f8.jpg?v=1693248497', 'https://cdn.shopify.com/s/files/1/0077/1745/3881/products/57_5d4a3443-86c5-431b-a14b-367681e5578c.jpg?v=1693248497', 'https://cdn.shopify.com/s/files/1/0077/1745/3881/products/57_196146b6-a080-42bb-a5c7-cbef731fc79f.jpg?v=1693248497', 'https://cdn.shopify.com/s/files/1/0077/1745/3881/products/57_1727d3c1-71d4-4d48-b225-e76ca5ce9940.jpg?v=1693248497'], 'url': 'https://goodfair.com/products/nike-running-shoes-sneakers-cw3398-102-womens-size-11-white-air-max-bella-tr-4', 'agoraScore': 92, 'priceHistory': [{'price': 41.99, 'date': '2024-11-26T14:01:42.579Z', '_id': '6745d4ceecd6d824cc58a4fc'}], 'discountVal': 0}, {'name': 'Nike Running Shoes Womens 10 Pink Gray Kyrie Flytrap Trail 512038-600 Sneaker', 'storeName': 'Goodfair', 'brand': 'Nike', '_id': '6745d4c5ecd6d824cc57cf71', 'slug': 'nike-running-shoes-womens-10-pink-gray-kyrie-flytrap-trail-512038-600-sneaker-40326ed8-df41-4ef5-afd7-093663a1720a-1732629701241', 'price': 41.99, 'isVerified': False, 'isBoosted': False, 'source': 'shopify', 'images': ['https://cdn.shopify.com/s/files/1/0077/1745/3881/products/57_614bf983-3980-46ff-a547-fabc3225cd70.jpg?v=1693207399', 'https://cdn.shopify.com/s/files/1/0077/1745/3881/products/57_c9d23569-88c8-4d64-95a6-f5dfa29a0ffd.jpg?v=1693207399', 'https://cdn.shopify.com/s/files/1/0077/1745/3881/products/57_3ccff3e2-2d24-4f4c-b13c-4296cbd0a8dd.jpg?v=1693207399', 'https://cdn.shopify.com/s/files/1/0077/1745/3881/products/57_d1a35daf-d8c2-423f-ab46-0bb675d75a57.jpg?v=1693207399', 'https://cdn.shopify.com/s/files/1/0077/1745/3881/products/57_f44df2cd-6dfe-4dff-b3e5-319ec2aa1044.jpg?v=1693207399', 'https://cdn.shopify.com/s/files/1/0077/1745/3881/products/57_98c47543-6079-473b-a311-41ca15dc9931.jpg?v=1693207399', 'https://cdn.shopify.com/s/files/1/0077/1745/3881/products/57_14d272e8-ab9f-4e77-a697-a5702cbcf7c7.jpg?v=1693207399', 'https://cdn.shopify.com/s/files/1/0077/1745/3881/products/57_886e34a3-f26b-4f6c-9c27-7ea15bf5058b.jpg?v=1693207399', 'https://cdn.shopify.com/s/files/1/0077/1745/3881/products/57_9c5ebfd7-fdd0-46b6-bf9d-60b9518922c3.jpg?v=1693207399'], 'url': 'https://goodfair.com/products/nike-running-shoes-womens-10-pink-gray-kyrie-flytrap-trail-512038-600-sneaker', 'agoraScore': 92, 'priceHistory': [{'price': 41.99, 'date': '2024-11-26T14:01:42.582Z', '_id': '6745d4cfecd6d824cc58b0ca'}], 'discountVal': 0}, {'name': 'NIKE Running Shoes - 7 US', 'storeName': 'LuxAnthropy', 'brand': 'NIKE', '_id': '678873c0841de148639ff4e3', 'slug': 'nike-free-barefoot-like-running-shoes-size-7-a35ed889-9df0-4eea-9ae3-279c10534c24-1736995776401', 'price': 30, 'isVerified': False, 'isBoosted': False, 'source': 'shopify', 'images': ['https://cdn.shopify.com/s/files/1/0737/6037/5060/files/1693484956-NikeFreeBarefootLikeRunningShoesSize7-8591339028756.jpg?v=1693484958', 'https://cdn.shopify.com/s/files/1/0737/6037/5060/files/1693484965-None-8591339028756.jpg?v=1693484966', 'https://cdn.shopify.com/s/files/1/0737/6037/5060/files/1693484958-None-8591339028756.jpg?v=1693484959', 'https://cdn.shopify.com/s/files/1/0737/6037/5060/files/1693484963-None-8591339028756.jpg?v=1693484964', 'https://cdn.shopify.com/s/files/1/0737/6037/5060/files/1693484959-None-8591339028756.jpg?v=1693484961', 'https://cdn.shopify.com/s/files/1/0737/6037/5060/files/1693484961-None-8591339028756.jpg?v=1693484963'], 'url': 'https://luxanthropy.com/products/nike-free-barefoot-like-running-shoes-size-7', 'agoraScore': 92, 'priceHistory': [{'price': 30, 'date': '2025-01-16T02:49:36.804Z', '_id': '678873c0841de148639ffe1f'}], 'averageRating': 0, 'discountVal': 0}, {'name': 'Infants Nike Running Shoes', 'storeName': 'Aimé Leon Dore', 'brand': 'Aimé Leon Dore', '_id': '666cbb3c01b1312ad493284c', 'slug': 'infants-nike-running-shoes-4b3b3aa4-1056-4749-88a0-7104dfb536a9-1718401852300', 'price': 100, 'isVerified': False, 'isBoosted': False, 'source': 'shopify', 'images': ['https://cdn.shopify.com/s/files/1/0302/7829/products/SQUARE_SHOES_0008_Aime_FW22_Vintage_AccesoriesR2_32copy.jpg?v=1674661280', 'https://cdn.shopify.com/s/files/1/0302/7829/products/4x5_SHOES_0008_Aime_FW22_Vintage_AccesoriesR2_32copy.jpg?v=1674661357', 'https://cdn.shopify.com/s/files/1/0302/7829/products/4x5_SHOES_0007_Aime_FW22_Vintage_AccesoriesR2_33copy.jpg?v=1674661357', 'https://cdn.shopify.com/s/files/1/0302/7829/products/4x5_SHOES_0000_Aime_FW22_Vintage_AccesoriesR2_34.jpg?v=1674835225'], 'url': 'https://aimeleondore.com/products/infants-nike-running-shoes', 'agoraScore': 100, 'priceHistory': [{'price': 100, 'date': '2024-06-14T22:23:17.973Z', '_id': '671437fb6ca0a1804a8ec364'}], 'discountVal': 0}, {'name': 'Nike Womens Lunarstelos Shoes 844736-005 Gray Black Running Sneaker Size US 9.5', 'storeName': 'Goodfair', 'brand': 'Nike', '_id': '6745d4c5ecd6d824cc57cb0c', 'slug': 'nike-womens-lunarstelos-shoes-844736-005-gray-black-running-sneaker-size-us-9-5-f52ebcee-822e-4ce3-9ba5-e2d0c48e2c83-1732629701080', 'price': 41.99, 'isVerified': False, 'isBoosted': False, 'source': 'shopify', 'images': ['https://cdn.shopify.com/s/files/1/0077/1745/3881/products/57_c42a9c04-34bf-4ed9-ad9b-ff81d05a15da.jpg?v=1693239941', 'https://cdn.shopify.com/s/files/1/0077/1745/3881/products/57_0bbabce6-5e37-49f8-9689-8913c2f6f6f4.jpg?v=1693239941', 'https://cdn.shopify.com/s/files/1/0077/1745/3881/products/57_fefc3085-3d5e-4a92-b8fb-36c91baf3824.jpg?v=1693239941', 'https://cdn.shopify.com/s/files/1/0077/1745/3881/products/57_6c5e0d37-12ae-412d-9594-774111f429f2.jpg?v=1693239942', 'https://cdn.shopify.com/s/files/1/0077/1745/3881/products/57_51e2e32e-5de8-4277-904f-99b8c8064050.jpg?v=1693239942', 'https://cdn.shopify.com/s/files/1/0077/1745/3881/products/57_fbe447e8-e8bc-4a4a-8d59-228ab05a5fc5.jpg?v=1693239942', 'https://cdn.shopify.com/s/files/1/0077/1745/3881/products/57_7cdb4bbc-5c8f-4163-a84c-040a55c2f69c.jpg?v=1693239942', 'https://cdn.shopify.com/s/files/1/0077/1745/3881/products/57_75dbea5d-f394-4b82-a932-4eb7fe43f9f4.jpg?v=1693239942'], 'url': 'https://goodfair.com/products/nike-womens-lunarstelos-shoes-844736-005-gray-black-running-sneaker-size-us-9-5', 'agoraScore': 92, 'priceHistory': [{'price': 41.99, 'date': '2024-11-26T14:01:42.579Z', '_id': '6745d4cfecd6d824cc58a800'}], 'discountVal': 0}]}\""
        ]
        },
        "execution_count": null,
        "metadata": {},
        "output_type": "execute_result"
        }
    ],
    "source": [
        "first(tr).content"
    ]
    },
    {
    "cell_type": "code",
    "execution_count": null,
    "metadata": {},
    "outputs": [
        {
        "ename": "NameError",
        "evalue": "name 'ToolResult' is not defined",
        "output_type": "error",
        "traceback": [
        "\u001b[31m---------------------------------------------------------------------------\u001b[39m",
        "\u001b[31mNameError\u001b[39m                                 Traceback (most recent call last)",
        "\u001b[36mCell\u001b[39m\u001b[36m \u001b[39m\u001b[32mIn[70]\u001b[39m\u001b[32m, line 1\u001b[39m\n\u001b[32m----> \u001b[39m\u001b[32m1\u001b[39m tc = first([o \u001b[38;5;28;01mfor\u001b[39;00m o \u001b[38;5;129;01min\u001b[39;00m chat.h[-\u001b[32m1\u001b[39m].content \u001b[38;5;28;01mif\u001b[39;00m \u001b[38;5;28misinstance\u001b[39m(o, \u001b[43mToolResult\u001b[49m)])\n",
        "\u001b[31mNameError\u001b[39m: name 'ToolResult' is not defined"
        ]
        }
    ],
    "source": [
        "tc = first([o for o in chat.h[-1].content if isinstance(o, ToolResult)])\n"
    ]
    },
    {
    "cell_type": "code",
    "execution_count": null,
    "metadata": {},
    "outputs": [
        {
        "data": {
        "text/plain": [
        "('search_trial', {'query': 'Nike running shoes'})"
        ]
        },
        "execution_count": null,
        "metadata": {},
        "output_type": "execute_result"
        }
    ],
    "source": [
        "tc = tool_calls[0]\n",
        "tc.name, tc.input"
    ]
    },
    {
    "cell_type": "code",
    "execution_count": null,
    "metadata": {},
    "outputs": [
        {
        "data": {
        "text/plain": [
        "[{'role': 'user', 'content': 'Show me running shoes by Nike'},\n",
        " {'role': 'assistant',\n",
        "  'content': [TextBlock(citations=None, text=\"I'll help you find Nike running shoes. Let me search for those for you right away.\", type='text'),\n",
        "   ToolUseBlock(id='toolu_01GA4MQ1XrR4C6pQRcxx9Auk', input={'query': 'Nike running shoes'}, name='search_trial', type='tool_use')]},\n",
        " {'role': 'user',\n",
        "  'content': [{'type': 'tool_result',\n",
        "    'tool_use_id': 'toolu_01GA4MQ1XrR4C6pQRcxx9Auk',\n",
        "    'content': \"{'status': 'success', 'Products': [{'name': 'Nike Running Shoes Sneakers CW3398-102 Womens Size 11 White Air Max Bella TR 4', 'storeName': 'Goodfair', 'brand': 'Nike', '_id': '6745d4c5ecd6d824cc57c98a', 'slug': 'nike-running-shoes-sneakers-cw3398-102-womens-size-11-white-air-max-bella-tr-4-29cd1d62-c9cf-4e08-91f6-0bd041500200-1732629701027', 'price': 41.99, 'isVerified': False, 'isBoosted': False, 'source': 'shopify', 'images': ['https://cdn.shopify.com/s/files/1/0077/1745/3881/products/57_8f6713b3-9859-4aff-9118-50541af25f47.jpg?v=1693248497', 'https://cdn.shopify.com/s/files/1/0077/1745/3881/products/57_3c1bbfe7-1fe9-4df1-8d55-1ddc48d3bd8d.jpg?v=1693248497', 'https://cdn.shopify.com/s/files/1/0077/1745/3881/products/57_ae1975b0-2b04-459e-8443-c178663631d7.jpg?v=1693248497', 'https://cdn.shopify.com/s/files/1/0077/1745/3881/products/57_846093bc-814d-4a4f-869f-da942285943d.jpg?v=1693248497', 'https://cdn.shopify.com/s/files/1/0077/1745/3881/products/57_7bec3532-a075-458e-bdf3-995fbc0ee317.jpg?v=1693248497', 'https://cdn.shopify.com/s/files/1/0077/1745/3881/products/57_2f9d6a73-2dc7-4a41-95e7-88d2225940f8.jpg?v=1693248497', 'https://cdn.shopify.com/s/files/1/0077/1745/3881/products/57_5d4a3443-86c5-431b-a14b-367681e5578c.jpg?v=1693248497', 'https://cdn.shopify.com/s/files/1/0077/1745/3881/products/57_196146b6-a080-42bb-a5c7-cbef731fc79f.jpg?v=1693248497', 'https://cdn.shopify.com/s/files/1/0077/1745/3881/products/57_1727d3c1-71d4-4d48-b225-e76ca5ce9940.jpg?v=1693248497'], 'url': 'https://goodfair.com/products/nike-running-shoes-sneakers-cw3398-102-womens-size-11-white-air-max-bella-tr-4', 'agoraScore': 92, 'priceHistory': [{'price': 41.99, 'date': '2024-11-26T14:01:42.579Z', '_id': '6745d4ceecd6d824cc58a4fc'}], 'discountVal': 0}, {'name': 'Nike Running Shoes Womens 10 Pink Gray Kyrie Flytrap Trail 512038-600 Sneaker', 'storeName': 'Goodfair', 'brand': 'Nike', '_id': '6745d4c5ecd6d824cc57cf71', 'slug': 'nike-running-shoes-womens-10-pink-gray-kyrie-flytrap-trail-512038-600-sneaker-40326ed8-df41-4ef5-afd7-093663a1720a-1732629701241', 'price': 41.99, 'isVerified': False, 'isBoosted': False, 'source': 'shopify', 'images': ['https://cdn.shopify.com/s/files/1/0077/1745/3881/products/57_614bf983-3980-46ff-a547-fabc3225cd70.jpg?v=1693207399', 'https://cdn.shopify.com/s/files/1/0077/1745/3881/products/57_c9d23569-88c8-4d64-95a6-f5dfa29a0ffd.jpg?v=1693207399', 'https://cdn.shopify.com/s/files/1/0077/1745/3881/products/57_3ccff3e2-2d24-4f4c-b13c-4296cbd0a8dd.jpg?v=1693207399', 'https://cdn.shopify.com/s/files/1/0077/1745/3881/products/57_d1a35daf-d8c2-423f-ab46-0bb675d75a57.jpg?v=1693207399', 'https://cdn.shopify.com/s/files/1/0077/1745/3881/products/57_f44df2cd-6dfe-4dff-b3e5-319ec2aa1044.jpg?v=1693207399', 'https://cdn.shopify.com/s/files/1/0077/1745/3881/products/57_98c47543-6079-473b-a311-41ca15dc9931.jpg?v=1693207399', 'https://cdn.shopify.com/s/files/1/0077/1745/3881/products/57_14d272e8-ab9f-4e77-a697-a5702cbcf7c7.jpg?v=1693207399', 'https://cdn.shopify.com/s/files/1/0077/1745/3881/products/57_886e34a3-f26b-4f6c-9c27-7ea15bf5058b.jpg?v=1693207399', 'https://cdn.shopify.com/s/files/1/0077/1745/3881/products/57_9c5ebfd7-fdd0-46b6-bf9d-60b9518922c3.jpg?v=1693207399'], 'url': 'https://goodfair.com/products/nike-running-shoes-womens-10-pink-gray-kyrie-flytrap-trail-512038-600-sneaker', 'agoraScore': 92, 'priceHistory': [{'price': 41.99, 'date': '2024-11-26T14:01:42.582Z', '_id': '6745d4cfecd6d824cc58b0ca'}], 'discountVal': 0}, {'name': 'NIKE Running Shoes - 7 US', 'storeName': 'LuxAnthropy', 'brand': 'NIKE', '_id': '678873c0841de148639ff4e3', 'slug': 'nike-free-barefoot-like-running-shoes-size-7-a35ed889-9df0-4eea-9ae3-279c10534c24-1736995776401', 'price': 30, 'isVerified': False, 'isBoosted': False, 'source': 'shopify', 'images': ['https://cdn.shopify.com/s/files/1/0737/6037/5060/files/1693484956-NikeFreeBarefootLikeRunningShoesSize7-8591339028756.jpg?v=1693484958', 'https://cdn.shopify.com/s/files/1/0737/6037/5060/files/1693484965-None-8591339028756.jpg?v=1693484966', 'https://cdn.shopify.com/s/files/1/0737/6037/5060/files/1693484958-None-8591339028756.jpg?v=1693484959', 'https://cdn.shopify.com/s/files/1/0737/6037/5060/files/1693484963-None-8591339028756.jpg?v=1693484964', 'https://cdn.shopify.com/s/files/1/0737/6037/5060/files/1693484959-None-8591339028756.jpg?v=1693484961', 'https://cdn.shopify.com/s/files/1/0737/6037/5060/files/1693484961-None-8591339028756.jpg?v=1693484963'], 'url': 'https://luxanthropy.com/products/nike-free-barefoot-like-running-shoes-size-7', 'agoraScore': 92, 'priceHistory': [{'price': 30, 'date': '2025-01-16T02:49:36.804Z', '_id': '678873c0841de148639ffe1f'}], 'averageRating': 0, 'discountVal': 0}, {'name': 'Infants Nike Running Shoes', 'storeName': 'Aimé Leon Dore', 'brand': 'Aimé Leon Dore', '_id': '666cbb3c01b1312ad493284c', 'slug': 'infants-nike-running-shoes-4b3b3aa4-1056-4749-88a0-7104dfb536a9-1718401852300', 'price': 100, 'isVerified': False, 'isBoosted': False, 'source': 'shopify', 'images': ['https://cdn.shopify.com/s/files/1/0302/7829/products/SQUARE_SHOES_0008_Aime_FW22_Vintage_AccesoriesR2_32copy.jpg?v=1674661280', 'https://cdn.shopify.com/s/files/1/0302/7829/products/4x5_SHOES_0008_Aime_FW22_Vintage_AccesoriesR2_32copy.jpg?v=1674661357', 'https://cdn.shopify.com/s/files/1/0302/7829/products/4x5_SHOES_0007_Aime_FW22_Vintage_AccesoriesR2_33copy.jpg?v=1674661357', 'https://cdn.shopify.com/s/files/1/0302/7829/products/4x5_SHOES_0000_Aime_FW22_Vintage_AccesoriesR2_34.jpg?v=1674835225'], 'url': 'https://aimeleondore.com/products/infants-nike-running-shoes', 'agoraScore': 100, 'priceHistory': [{'price': 100, 'date': '2024-06-14T22:23:17.973Z', '_id': '671437fb6ca0a1804a8ec364'}], 'discountVal': 0}, {'name': 'Nike Womens Lunarstelos Shoes 844736-005 Gray Black Running Sneaker Size US 9.5', 'storeName': 'Goodfair', 'brand': 'Nike', '_id': '6745d4c5ecd6d824cc57cb0c', 'slug': 'nike-womens-lunarstelos-shoes-844736-005-gray-black-running-sneaker-size-us-9-5-f52ebcee-822e-4ce3-9ba5-e2d0c48e2c83-1732629701080', 'price': 41.99, 'isVerified': False, 'isBoosted': False, 'source': 'shopify', 'images': ['https://cdn.shopify.com/s/files/1/0077/1745/3881/products/57_c42a9c04-34bf-4ed9-ad9b-ff81d05a15da.jpg?v=1693239941', 'https://cdn.shopify.com/s/files/1/0077/1745/3881/products/57_0bbabce6-5e37-49f8-9689-8913c2f6f6f4.jpg?v=1693239941', 'https://cdn.shopify.com/s/files/1/0077/1745/3881/products/57_fefc3085-3d5e-4a92-b8fb-36c91baf3824.jpg?v=1693239941', 'https://cdn.shopify.com/s/files/1/0077/1745/3881/products/57_6c5e0d37-12ae-412d-9594-774111f429f2.jpg?v=1693239942', 'https://cdn.shopify.com/s/files/1/0077/1745/3881/products/57_51e2e32e-5de8-4277-904f-99b8c8064050.jpg?v=1693239942', 'https://cdn.shopify.com/s/files/1/0077/1745/3881/products/57_fbe447e8-e8bc-4a4a-8d59-228ab05a5fc5.jpg?v=1693239942', 'https://cdn.shopify.com/s/files/1/0077/1745/3881/products/57_7cdb4bbc-5c8f-4163-a84c-040a55c2f69c.jpg?v=1693239942', 'https://cdn.shopify.com/s/files/1/0077/1745/3881/products/57_75dbea5d-f394-4b82-a932-4eb7fe43f9f4.jpg?v=1693239942'], 'url': 'https://goodfair.com/products/nike-womens-lunarstelos-shoes-844736-005-gray-black-running-sneaker-size-us-9-5', 'agoraScore': 92, 'priceHistory': [{'price': 41.99, 'date': '2024-11-26T14:01:42.579Z', '_id': '6745d4cfecd6d824cc58a800'}], 'discountVal': 0}]}\"}]}]"
        ]
        },
        "execution_count": null,
        "metadata": {},
        "output_type": "execute_result"
        }
    ],
    "source": []
    },
    {
    "cell_type": "code",
    "execution_count": null,
    "metadata": {},
    "outputs": [
        {
        "data": {
        "text/plain": [
        "{'status': 'success',\n",
        " 'Products': [{'name': 'Nike Running Shoes Sneakers CW3398-102 Womens Size 11 White Air Max Bella TR 4',\n",
        "   'storeName': 'Goodfair',\n",
        "   'brand': 'Nike',\n",
        "   '_id': '6745d4c5ecd6d824cc57c98a',\n",
        "   'slug': 'nike-running-shoes-sneakers-cw3398-102-womens-size-11-white-air-max-bella-tr-4-29cd1d62-c9cf-4e08-91f6-0bd041500200-1732629701027',\n",
        "   'price': 41.99,\n",
        "   'isVerified': False,\n",
        "   'isBoosted': False,\n",
        "   'source': 'shopify',\n",
        "   'images': ['https://cdn.shopify.com/s/files/1/0077/1745/3881/products/57_8f6713b3-9859-4aff-9118-50541af25f47.jpg?v=1693248497',\n",
        "    'https://cdn.shopify.com/s/files/1/0077/1745/3881/products/57_3c1bbfe7-1fe9-4df1-8d55-1ddc48d3bd8d.jpg?v=1693248497',\n",
        "    'https://cdn.shopify.com/s/files/1/0077/1745/3881/products/57_ae1975b0-2b04-459e-8443-c178663631d7.jpg?v=1693248497',\n",
        "    'https://cdn.shopify.com/s/files/1/0077/1745/3881/products/57_846093bc-814d-4a4f-869f-da942285943d.jpg?v=1693248497',\n",
        "    'https://cdn.shopify.com/s/files/1/0077/1745/3881/products/57_7bec3532-a075-458e-bdf3-995fbc0ee317.jpg?v=1693248497',\n",
        "    'https://cdn.shopify.com/s/files/1/0077/1745/3881/products/57_2f9d6a73-2dc7-4a41-95e7-88d2225940f8.jpg?v=1693248497',\n",
        "    'https://cdn.shopify.com/s/files/1/0077/1745/3881/products/57_5d4a3443-86c5-431b-a14b-367681e5578c.jpg?v=1693248497',\n",
        "    'https://cdn.shopify.com/s/files/1/0077/1745/3881/products/57_196146b6-a080-42bb-a5c7-cbef731fc79f.jpg?v=1693248497',\n",
        "    'https://cdn.shopify.com/s/files/1/0077/1745/3881/products/57_1727d3c1-71d4-4d48-b225-e76ca5ce9940.jpg?v=1693248497'],\n",
        "   'url': 'https://goodfair.com/products/nike-running-shoes-sneakers-cw3398-102-womens-size-11-white-air-max-bella-tr-4',\n",
        "   'agoraScore': 92,\n",
        "   'priceHistory': [{'price': 41.99,\n",
        "     'date': '2024-11-26T14:01:42.579Z',\n",
        "     '_id': '6745d4ceecd6d824cc58a4fc'}],\n",
        "   'discountVal': 0},\n",
        "  {'name': 'Nike Running Shoes Womens 10 Pink Gray Kyrie Flytrap Trail 512038-600 Sneaker',\n",
        "   'storeName': 'Goodfair',\n",
        "   'brand': 'Nike',\n",
        "   '_id': '6745d4c5ecd6d824cc57cf71',\n",
        "   'slug': 'nike-running-shoes-womens-10-pink-gray-kyrie-flytrap-trail-512038-600-sneaker-40326ed8-df41-4ef5-afd7-093663a1720a-1732629701241',\n",
        "   'price': 41.99,\n",
        "   'isVerified': False,\n",
        "   'isBoosted': False,\n",
        "   'source': 'shopify',\n",
        "   'images': ['https://cdn.shopify.com/s/files/1/0077/1745/3881/products/57_614bf983-3980-46ff-a547-fabc3225cd70.jpg?v=1693207399',\n",
        "    'https://cdn.shopify.com/s/files/1/0077/1745/3881/products/57_c9d23569-88c8-4d64-95a6-f5dfa29a0ffd.jpg?v=1693207399',\n",
        "    'https://cdn.shopify.com/s/files/1/0077/1745/3881/products/57_3ccff3e2-2d24-4f4c-b13c-4296cbd0a8dd.jpg?v=1693207399',\n",
        "    'https://cdn.shopify.com/s/files/1/0077/1745/3881/products/57_d1a35daf-d8c2-423f-ab46-0bb675d75a57.jpg?v=1693207399',\n",
        "    'https://cdn.shopify.com/s/files/1/0077/1745/3881/products/57_f44df2cd-6dfe-4dff-b3e5-319ec2aa1044.jpg?v=1693207399',\n",
        "    'https://cdn.shopify.com/s/files/1/0077/1745/3881/products/57_98c47543-6079-473b-a311-41ca15dc9931.jpg?v=1693207399',\n",
        "    'https://cdn.shopify.com/s/files/1/0077/1745/3881/products/57_14d272e8-ab9f-4e77-a697-a5702cbcf7c7.jpg?v=1693207399',\n",
        "    'https://cdn.shopify.com/s/files/1/0077/1745/3881/products/57_886e34a3-f26b-4f6c-9c27-7ea15bf5058b.jpg?v=1693207399',\n",
        "    'https://cdn.shopify.com/s/files/1/0077/1745/3881/products/57_9c5ebfd7-fdd0-46b6-bf9d-60b9518922c3.jpg?v=1693207399'],\n",
        "   'url': 'https://goodfair.com/products/nike-running-shoes-womens-10-pink-gray-kyrie-flytrap-trail-512038-600-sneaker',\n",
        "   'agoraScore': 92,\n",
        "   'priceHistory': [{'price': 41.99,\n",
        "     'date': '2024-11-26T14:01:42.582Z',\n",
        "     '_id': '6745d4cfecd6d824cc58b0ca'}],\n",
        "   'discountVal': 0},\n",
        "  {'name': 'NIKE Running Shoes - 7 US',\n",
        "   'storeName': 'LuxAnthropy',\n",
        "   'brand': 'NIKE',\n",
        "   '_id': '678873c0841de148639ff4e3',\n",
        "   'slug': 'nike-free-barefoot-like-running-shoes-size-7-a35ed889-9df0-4eea-9ae3-279c10534c24-1736995776401',\n",
        "   'price': 30,\n",
        "   'isVerified': False,\n",
        "   'isBoosted': False,\n",
        "   'source': 'shopify',\n",
        "   'images': ['https://cdn.shopify.com/s/files/1/0737/6037/5060/files/1693484956-NikeFreeBarefootLikeRunningShoesSize7-8591339028756.jpg?v=1693484958',\n",
        "    'https://cdn.shopify.com/s/files/1/0737/6037/5060/files/1693484965-None-8591339028756.jpg?v=1693484966',\n",
        "    'https://cdn.shopify.com/s/files/1/0737/6037/5060/files/1693484958-None-8591339028756.jpg?v=1693484959',\n",
        "    'https://cdn.shopify.com/s/files/1/0737/6037/5060/files/1693484963-None-8591339028756.jpg?v=1693484964',\n",
        "    'https://cdn.shopify.com/s/files/1/0737/6037/5060/files/1693484959-None-8591339028756.jpg?v=1693484961',\n",
        "    'https://cdn.shopify.com/s/files/1/0737/6037/5060/files/1693484961-None-8591339028756.jpg?v=1693484963'],\n",
        "   'url': 'https://luxanthropy.com/products/nike-free-barefoot-like-running-shoes-size-7',\n",
        "   'agoraScore': 92,\n",
        "   'priceHistory': [{'price': 30,\n",
        "     'date': '2025-01-16T02:49:36.804Z',\n",
        "     '_id': '678873c0841de148639ffe1f'}],\n",
        "   'averageRating': 0,\n",
        "   'discountVal': 0},\n",
        "  {'name': 'Infants Nike Running Shoes',\n",
        "   'storeName': 'Aimé Leon Dore',\n",
        "   'brand': 'Aimé Leon Dore',\n",
        "   '_id': '666cbb3c01b1312ad493284c',\n",
        "   'slug': 'infants-nike-running-shoes-4b3b3aa4-1056-4749-88a0-7104dfb536a9-1718401852300',\n",
        "   'price': 100,\n",
        "   'isVerified': False,\n",
        "   'isBoosted': False,\n",
        "   'source': 'shopify',\n",
        "   'images': ['https://cdn.shopify.com/s/files/1/0302/7829/products/SQUARE_SHOES_0008_Aime_FW22_Vintage_AccesoriesR2_32copy.jpg?v=1674661280',\n",
        "    'https://cdn.shopify.com/s/files/1/0302/7829/products/4x5_SHOES_0008_Aime_FW22_Vintage_AccesoriesR2_32copy.jpg?v=1674661357',\n",
        "    'https://cdn.shopify.com/s/files/1/0302/7829/products/4x5_SHOES_0007_Aime_FW22_Vintage_AccesoriesR2_33copy.jpg?v=1674661357',\n",
        "    'https://cdn.shopify.com/s/files/1/0302/7829/products/4x5_SHOES_0000_Aime_FW22_Vintage_AccesoriesR2_34.jpg?v=1674835225'],\n",
        "   'url': 'https://aimeleondore.com/products/infants-nike-running-shoes',\n",
        "   'agoraScore': 100,\n",
        "   'priceHistory': [{'price': 100,\n",
        "     'date': '2024-06-14T22:23:17.973Z',\n",
        "     '_id': '671437fb6ca0a1804a8ec364'}],\n",
        "   'discountVal': 0},\n",
        "  {'name': 'Nike Womens Lunarstelos Shoes 844736-005 Gray Black Running Sneaker Size US 9.5',\n",
        "   'storeName': 'Goodfair',\n",
        "   'brand': 'Nike',\n",
        "   '_id': '6745d4c5ecd6d824cc57cb0c',\n",
        "   'slug': 'nike-womens-lunarstelos-shoes-844736-005-gray-black-running-sneaker-size-us-9-5-f52ebcee-822e-4ce3-9ba5-e2d0c48e2c83-1732629701080',\n",
        "   'price': 41.99,\n",
        "   'isVerified': False,\n",
        "   'isBoosted': False,\n",
        "   'source': 'shopify',\n",
        "   'images': ['https://cdn.shopify.com/s/files/1/0077/1745/3881/products/57_c42a9c04-34bf-4ed9-ad9b-ff81d05a15da.jpg?v=1693239941',\n",
        "    'https://cdn.shopify.com/s/files/1/0077/1745/3881/products/57_0bbabce6-5e37-49f8-9689-8913c2f6f6f4.jpg?v=1693239941',\n",
        "    'https://cdn.shopify.com/s/files/1/0077/1745/3881/products/57_fefc3085-3d5e-4a92-b8fb-36c91baf3824.jpg?v=1693239941',\n",
        "    'https://cdn.shopify.com/s/files/1/0077/1745/3881/products/57_6c5e0d37-12ae-412d-9594-774111f429f2.jpg?v=1693239942',\n",
        "    'https://cdn.shopify.com/s/files/1/0077/1745/3881/products/57_51e2e32e-5de8-4277-904f-99b8c8064050.jpg?v=1693239942',\n",
        "    'https://cdn.shopify.com/s/files/1/0077/1745/3881/products/57_fbe447e8-e8bc-4a4a-8d59-228ab05a5fc5.jpg?v=1693239942',\n",
        "    'https://cdn.shopify.com/s/files/1/0077/1745/3881/products/57_7cdb4bbc-5c8f-4163-a84c-040a55c2f69c.jpg?v=1693239942',\n",
        "    'https://cdn.shopify.com/s/files/1/0077/1745/3881/products/57_75dbea5d-f394-4b82-a932-4eb7fe43f9f4.jpg?v=1693239942'],\n",
        "   'url': 'https://goodfair.com/products/nike-womens-lunarstelos-shoes-844736-005-gray-black-running-sneaker-size-us-9-5',\n",
        "   'agoraScore': 92,\n",
        "   'priceHistory': [{'price': 41.99,\n",
        "     'date': '2024-11-26T14:01:42.579Z',\n",
        "     '_id': '6745d4cfecd6d824cc58a800'}],\n",
        "   'discountVal': 0}]}"
        ]
        },
        "execution_count": null,
        "metadata": {},
        "output_type": "execute_result"
        }
    ],
    "source": [
        "# Build a namespace including our tools.\n",
        "ns = mk_ns(search_trial, render_product)\n",
        "# Use call_func to execute the tool function requested.\n",
        "tool_result = call_func(tool_req.name, tool_req.input, ns)\n",
        "tool_result  # This should print the result from search_products."
    ]
    },
    {
    "cell_type": "code",
    "execution_count": null,
    "metadata": {},
    "outputs": [
        {
        "data": {
        "text/plain": [
        "{'type': 'tool_result',\n",
        " 'tool_use_id': 'toolu_01DUyj6gpXq6xE69T2exP8sp',\n",
        " 'content': \"{'status': 'success', 'Products': [{'name': 'Nike Running Shoes Sneakers CW3398-102 Womens Size 11 White Air Max Bella TR 4', 'storeName': 'Goodfair', 'brand': 'Nike', '_id': '6745d4c5ecd6d824cc57c98a', 'slug': 'nike-running-shoes-sneakers-cw3398-102-womens-size-11-white-air-max-bella-tr-4-29cd1d62-c9cf-4e08-91f6-0bd041500200-1732629701027', 'price': 41.99, 'isVerified': False, 'isBoosted': False, 'source': 'shopify', 'images': ['https://cdn.shopify.com/s/files/1/0077/1745/3881/products/57_8f6713b3-9859-4aff-9118-50541af25f47.jpg?v=1693248497', 'https://cdn.shopify.com/s/files/1/0077/1745/3881/products/57_3c1bbfe7-1fe9-4df1-8d55-1ddc48d3bd8d.jpg?v=1693248497', 'https://cdn.shopify.com/s/files/1/0077/1745/3881/products/57_ae1975b0-2b04-459e-8443-c178663631d7.jpg?v=1693248497', 'https://cdn.shopify.com/s/files/1/0077/1745/3881/products/57_846093bc-814d-4a4f-869f-da942285943d.jpg?v=1693248497', 'https://cdn.shopify.com/s/files/1/0077/1745/3881/products/57_7bec3532-a075-458e-bdf3-995fbc0ee317.jpg?v=1693248497', 'https://cdn.shopify.com/s/files/1/0077/1745/3881/products/57_2f9d6a73-2dc7-4a41-95e7-88d2225940f8.jpg?v=1693248497', 'https://cdn.shopify.com/s/files/1/0077/1745/3881/products/57_5d4a3443-86c5-431b-a14b-367681e5578c.jpg?v=1693248497', 'https://cdn.shopify.com/s/files/1/0077/1745/3881/products/57_196146b6-a080-42bb-a5c7-cbef731fc79f.jpg?v=1693248497', 'https://cdn.shopify.com/s/files/1/0077/1745/3881/products/57_1727d3c1-71d4-4d48-b225-e76ca5ce9940.jpg?v=1693248497'], 'url': 'https://goodfair.com/products/nike-running-shoes-sneakers-cw3398-102-womens-size-11-white-air-max-bella-tr-4', 'agoraScore': 92, 'priceHistory': [{'price': 41.99, 'date': '2024-11-26T14:01:42.579Z', '_id': '6745d4ceecd6d824cc58a4fc'}], 'discountVal': 0}, {'name': 'Nike Running Shoes Womens 10 Pink Gray Kyrie Flytrap Trail 512038-600 Sneaker', 'storeName': 'Goodfair', 'brand': 'Nike', '_id': '6745d4c5ecd6d824cc57cf71', 'slug': 'nike-running-shoes-womens-10-pink-gray-kyrie-flytrap-trail-512038-600-sneaker-40326ed8-df41-4ef5-afd7-093663a1720a-1732629701241', 'price': 41.99, 'isVerified': False, 'isBoosted': False, 'source': 'shopify', 'images': ['https://cdn.shopify.com/s/files/1/0077/1745/3881/products/57_614bf983-3980-46ff-a547-fabc3225cd70.jpg?v=1693207399', 'https://cdn.shopify.com/s/files/1/0077/1745/3881/products/57_c9d23569-88c8-4d64-95a6-f5dfa29a0ffd.jpg?v=1693207399', 'https://cdn.shopify.com/s/files/1/0077/1745/3881/products/57_3ccff3e2-2d24-4f4c-b13c-4296cbd0a8dd.jpg?v=1693207399', 'https://cdn.shopify.com/s/files/1/0077/1745/3881/products/57_d1a35daf-d8c2-423f-ab46-0bb675d75a57.jpg?v=1693207399', 'https://cdn.shopify.com/s/files/1/0077/1745/3881/products/57_f44df2cd-6dfe-4dff-b3e5-319ec2aa1044.jpg?v=1693207399', 'https://cdn.shopify.com/s/files/1/0077/1745/3881/products/57_98c47543-6079-473b-a311-41ca15dc9931.jpg?v=1693207399', 'https://cdn.shopify.com/s/files/1/0077/1745/3881/products/57_14d272e8-ab9f-4e77-a697-a5702cbcf7c7.jpg?v=1693207399', 'https://cdn.shopify.com/s/files/1/0077/1745/3881/products/57_886e34a3-f26b-4f6c-9c27-7ea15bf5058b.jpg?v=1693207399', 'https://cdn.shopify.com/s/files/1/0077/1745/3881/products/57_9c5ebfd7-fdd0-46b6-bf9d-60b9518922c3.jpg?v=1693207399'], 'url': 'https://goodfair.com/products/nike-running-shoes-womens-10-pink-gray-kyrie-flytrap-trail-512038-600-sneaker', 'agoraScore': 92, 'priceHistory': [{'price': 41.99, 'date': '2024-11-26T14:01:42.582Z', '_id': '6745d4cfecd6d824cc58b0ca'}], 'discountVal': 0}, {'name': 'NIKE Running Shoes - 7 US', 'storeName': 'LuxAnthropy', 'brand': 'NIKE', '_id': '678873c0841de148639ff4e3', 'slug': 'nike-free-barefoot-like-running-shoes-size-7-a35ed889-9df0-4eea-9ae3-279c10534c24-1736995776401', 'price': 30, 'isVerified': False, 'isBoosted': False, 'source': 'shopify', 'images': ['https://cdn.shopify.com/s/files/1/0737/6037/5060/files/1693484956-NikeFreeBarefootLikeRunningShoesSize7-8591339028756.jpg?v=1693484958', 'https://cdn.shopify.com/s/files/1/0737/6037/5060/files/1693484965-None-8591339028756.jpg?v=1693484966', 'https://cdn.shopify.com/s/files/1/0737/6037/5060/files/1693484958-None-8591339028756.jpg?v=1693484959', 'https://cdn.shopify.com/s/files/1/0737/6037/5060/files/1693484963-None-8591339028756.jpg?v=1693484964', 'https://cdn.shopify.com/s/files/1/0737/6037/5060/files/1693484959-None-8591339028756.jpg?v=1693484961', 'https://cdn.shopify.com/s/files/1/0737/6037/5060/files/1693484961-None-8591339028756.jpg?v=1693484963'], 'url': 'https://luxanthropy.com/products/nike-free-barefoot-like-running-shoes-size-7', 'agoraScore': 92, 'priceHistory': [{'price': 30, 'date': '2025-01-16T02:49:36.804Z', '_id': '678873c0841de148639ffe1f'}], 'averageRating': 0, 'discountVal': 0}, {'name': 'Infants Nike Running Shoes', 'storeName': 'Aimé Leon Dore', 'brand': 'Aimé Leon Dore', '_id': '666cbb3c01b1312ad493284c', 'slug': 'infants-nike-running-shoes-4b3b3aa4-1056-4749-88a0-7104dfb536a9-1718401852300', 'price': 100, 'isVerified': False, 'isBoosted': False, 'source': 'shopify', 'images': ['https://cdn.shopify.com/s/files/1/0302/7829/products/SQUARE_SHOES_0008_Aime_FW22_Vintage_AccesoriesR2_32copy.jpg?v=1674661280', 'https://cdn.shopify.com/s/files/1/0302/7829/products/4x5_SHOES_0008_Aime_FW22_Vintage_AccesoriesR2_32copy.jpg?v=1674661357', 'https://cdn.shopify.com/s/files/1/0302/7829/products/4x5_SHOES_0007_Aime_FW22_Vintage_AccesoriesR2_33copy.jpg?v=1674661357', 'https://cdn.shopify.com/s/files/1/0302/7829/products/4x5_SHOES_0000_Aime_FW22_Vintage_AccesoriesR2_34.jpg?v=1674835225'], 'url': 'https://aimeleondore.com/products/infants-nike-running-shoes', 'agoraScore': 100, 'priceHistory': [{'price': 100, 'date': '2024-06-14T22:23:17.973Z', '_id': '671437fb6ca0a1804a8ec364'}], 'discountVal': 0}, {'name': 'Nike Womens Lunarstelos Shoes 844736-005 Gray Black Running Sneaker Size US 9.5', 'storeName': 'Goodfair', 'brand': 'Nike', '_id': '6745d4c5ecd6d824cc57cb0c', 'slug': 'nike-womens-lunarstelos-shoes-844736-005-gray-black-running-sneaker-size-us-9-5-f52ebcee-822e-4ce3-9ba5-e2d0c48e2c83-1732629701080', 'price': 41.99, 'isVerified': False, 'isBoosted': False, 'source': 'shopify', 'images': ['https://cdn.shopify.com/s/files/1/0077/1745/3881/products/57_c42a9c04-34bf-4ed9-ad9b-ff81d05a15da.jpg?v=1693239941', 'https://cdn.shopify.com/s/files/1/0077/1745/3881/products/57_0bbabce6-5e37-49f8-9689-8913c2f6f6f4.jpg?v=1693239941', 'https://cdn.shopify.com/s/files/1/0077/1745/3881/products/57_fefc3085-3d5e-4a92-b8fb-36c91baf3824.jpg?v=1693239941', 'https://cdn.shopify.com/s/files/1/0077/1745/3881/products/57_6c5e0d37-12ae-412d-9594-774111f429f2.jpg?v=1693239942', 'https://cdn.shopify.com/s/files/1/0077/1745/3881/products/57_51e2e32e-5de8-4277-904f-99b8c8064050.jpg?v=1693239942', 'https://cdn.shopify.com/s/files/1/0077/1745/3881/products/57_fbe447e8-e8bc-4a4a-8d59-228ab05a5fc5.jpg?v=1693239942', 'https://cdn.shopify.com/s/files/1/0077/1745/3881/products/57_7cdb4bbc-5c8f-4163-a84c-040a55c2f69c.jpg?v=1693239942', 'https://cdn.shopify.com/s/files/1/0077/1745/3881/products/57_75dbea5d-f394-4b82-a932-4eb7fe43f9f4.jpg?v=1693239942'], 'url': 'https://goodfair.com/products/nike-womens-lunarstelos-shoes-844736-005-gray-black-running-sneaker-size-us-9-5', 'agoraScore': 92, 'priceHistory': [{'price': 41.99, 'date': '2024-11-26T14:01:42.579Z', '_id': '6745d4cfecd6d824cc58a800'}], 'discountVal': 0}]}\"}"
        ]
        },
        "execution_count": null,
        "metadata": {},
        "output_type": "execute_result"
        }
    ],
    "source": [
        "# Create a tool_result message using mk_funcres.\n",
        "tool_result_msg = mk_funcres(tool_req.id, tool_result)\n",
        "tool_result_msg  # This prints the tool_result message dictionary."
    ]
    },
    {
    "cell_type": "code",
    "execution_count": null,
    "metadata": {},
    "outputs": [
        {
        "name": "stdout",
        "output_type": "stream",
        "text": [
        "Render product !!!!\n"
        ]
        },
        {
        "data": {
        "text/markdown": [
        "Here are some Nike running shoes I found for you:\n",
        "\n",
        "<details>\n",
        "\n",
        "- id: `msg_01ECPd6FDW4ihbEsmuwT3Usm`\n",
        "- content: `[{'citations': None, 'text': 'Here are some Nike running shoes I found for you:', 'type': 'text'}, {'id': 'toolu_01EznZMHPK4Y5Z638R3XsB1x', 'input': {'item': '{\"name\": \"Nike Running Shoes Sneakers CW3398-102 Womens Size 11 White Air Max Bella TR 4\", \"storeName\": \"Goodfair\", \"brand\": \"Nike\", \"_id\": \"6745d4c5ecd6d824cc57c98a\", \"price\": 41.99, \"agoraScore\": 92, \"images\": [\"https://cdn.shopify.com/s/files/1/0077/1745/3881/products/57_8f6713b3-9859-4aff-9118-50541af25f47.jpg?v=1693248497\", \"https://cdn.shopify.com/s/files/1/0077/1745/3881/products/57_3c1bbfe7-1fe9-4df1-8d55-1ddc48d3bd8d.jpg?v=1693248497\", \"https://cdn.shopify.com/s/files/1/0077/1745/3881/products/57_ae1975b0-2b04-459e-8443-c178663631d7.jpg?v=1693248497\", \"https://cdn.shopify.com/s/files/1/0077/1745/3881/products/57_846093bc-814d-4a4f-869f-da942285943d.jpg?v=1693248497\", \"https://cdn.shopify.com/s/files/1/0077/1745/3881/products/57_7bec3532-a075-458e-bdf3-995fbc0ee317.jpg?v=1693248497\", \"https://cdn.shopify.com/s/files/1/0077/1745/3881/products/57_2f9d6a73-2dc7-4a41-95e7-88d2225940f8.jpg?v=1693248497\", \"https://cdn.shopify.com/s/files/1/0077/1745/3881/products/57_5d4a3443-86c5-431b-a14b-367681e5578c.jpg?v=1693248497\", \"https://cdn.shopify.com/s/files/1/0077/1745/3881/products/57_196146b6-a080-42bb-a5c7-cbef731fc79f.jpg?v=1693248497\", \"https://cdn.shopify.com/s/files/1/0077/1745/3881/products/57_1727d3c1-71d4-4d48-b225-e76ca5ce9940.jpg?v=1693248497\"]}'}, 'name': 'render_product', 'type': 'tool_use'}]`\n",
        "- model: `claude-3-7-sonnet-20250219`\n",
        "- role: `assistant`\n",
        "- stop_reason: `tool_use`\n",
        "- stop_sequence: `None`\n",
        "- type: `message`\n",
        "- usage: `{'cache_creation_input_tokens': 0, 'cache_read_input_tokens': 0, 'input_tokens': 4610, 'output_tokens': 720}`\n",
        "\n",
        "</details>"
        ],
        "text/plain": [
        "Message(id='msg_01ECPd6FDW4ihbEsmuwT3Usm', content=[TextBlock(citations=None, text='Here are some Nike running shoes I found for you:', type='text'), ToolUseBlock(id='toolu_01EznZMHPK4Y5Z638R3XsB1x', input={'item': '{\"name\": \"Nike Running Shoes Sneakers CW3398-102 Womens Size 11 White Air Max Bella TR 4\", \"storeName\": \"Goodfair\", \"brand\": \"Nike\", \"_id\": \"6745d4c5ecd6d824cc57c98a\", \"price\": 41.99, \"agoraScore\": 92, \"images\": [\"https://cdn.shopify.com/s/files/1/0077/1745/3881/products/57_8f6713b3-9859-4aff-9118-50541af25f47.jpg?v=1693248497\", \"https://cdn.shopify.com/s/files/1/0077/1745/3881/products/57_3c1bbfe7-1fe9-4df1-8d55-1ddc48d3bd8d.jpg?v=1693248497\", \"https://cdn.shopify.com/s/files/1/0077/1745/3881/products/57_ae1975b0-2b04-459e-8443-c178663631d7.jpg?v=1693248497\", \"https://cdn.shopify.com/s/files/1/0077/1745/3881/products/57_846093bc-814d-4a4f-869f-da942285943d.jpg?v=1693248497\", \"https://cdn.shopify.com/s/files/1/0077/1745/3881/products/57_7bec3532-a075-458e-bdf3-995fbc0ee317.jpg?v=1693248497\", \"https://cdn.shopify.com/s/files/1/0077/1745/3881/products/57_2f9d6a73-2dc7-4a41-95e7-88d2225940f8.jpg?v=1693248497\", \"https://cdn.shopify.com/s/files/1/0077/1745/3881/products/57_5d4a3443-86c5-431b-a14b-367681e5578c.jpg?v=1693248497\", \"https://cdn.shopify.com/s/files/1/0077/1745/3881/products/57_196146b6-a080-42bb-a5c7-cbef731fc79f.jpg?v=1693248497\", \"https://cdn.shopify.com/s/files/1/0077/1745/3881/products/57_1727d3c1-71d4-4d48-b225-e76ca5ce9940.jpg?v=1693248497\"]}'}, name='render_product', type='tool_use')], model='claude-3-7-sonnet-20250219', role='assistant', stop_reason='tool_use', stop_sequence=None, type='message', usage=In: 4610; Out: 720; Cache create: 0; Cache read: 0; Total: 5330)"
        ]
        },
        "execution_count": null,
        "metadata": {},
        "output_type": "execute_result"
        }
    ],
    "source": [
        "# Call the chat without a new prompt so that the tool_result message is sent,\n",
        "# and the conversation continues.\n",
        "r2 = chat()\n",
        "r2  # This should produce the updated assistant response incorporating the tool result."
    ]
    },
    {
    "cell_type": "markdown",
    "metadata": {},
    "source": [
        "## Trials"
    ]
    },
    {
    "cell_type": "code",
    "execution_count": null,
    "metadata": {},
    "outputs": [],
    "source": [
        "def ProductCard(\n",
        "    item: str # JSON string containing product details (`name`, `price`, `brand`, `storeName`, `agoraScore`, `images`, `_id`)\n",
        "):\n",
        "    \"\"\"\n",
        "    Renders a product card UI component displaying product details clearly and attractively.\n",
        "    Expects `item` as a JSON-formatted string with these keys:\n",
        "    - `name`: Product name (str)\n",
        "    - `price`: Product price (float or str)\n",
        "    - `brand`: Brand name (str)\n",
        "    - `storeName`: Store name (str)\n",
        "    - `agoraScore`: Product rating score out of 100 (int or float)\n",
        "    - `images`: List of image URLs (list[str]), first image used as main display\n",
        "    - `_id`: Unique identifier for the product (str)\n",
        "    \"\"\"\n",
        "    item = dict2obj(json.loads(item))\n",
        "    return to_xml(\n",
        "        Card(\n",
        "            DivHStacked(\n",
        "                # Left column with image\n",
        "                Div(\n",
        "                    Img(src=item.images[0], alt=item.name, cls=\"max-h-52 object-contain\")\n",
        "                ),\n",
        "                # Right column with product details\n",
        "                DivVStacked(\n",
        "                    H3(item.name),\n",
        "                    Strong(f\"${item.price}\"),\n",
        "                    Div(f\"Brand: {item.brand}\"),\n",
        "                    Div(f\"Store: {item.storeName}\"),\n",
        "                    Div(f\"Rating: {item.agoraScore}/100\"),\n",
        "                    Button(\"View Details\", id=f\"view-{item._id}\")\n",
        "                )\n",
        "            )\n",
        "        )\n",
        "    )"
    ]
    },
    {
    "cell_type": "code",
    "execution_count": null,
    "metadata": {},
    "outputs": [
        {
        "data": {
        "text/html": [
        "\n",
        "<script>\n",
        "document.body.addEventListener('htmx:configRequest', (event) => {\n",
        "    if(event.detail.path.includes('://')) return;\n",
        "    htmx.config.selfRequestsOnly=false;\n",
        "    event.detail.path = `${location.protocol}//${location.hostname}:8001${event.detail.path}`;\n",
        "});\n",
        "</script>"
        ],
        "text/plain": [
        "<IPython.core.display.HTML object>"
        ]
        },
        "metadata": {},
        "output_type": "display_data"
        }
    ],
    "source": [
        "from fastcore.utils import *\n",
        "from fasthtml.common import *\n",
        "import fasthtml.common as fh\n",
        "from functools import partial\n",
        "import re\n",
        "from ghapi.all import GhApi\n",
        "\n",
        "#| hide\n",
        "#| eval: false\n",
        "from fasthtml.jupyter import *\n",
        "\n",
        "# App Setup\n",
        "if 'server' in globals(): server.stop()\n",
        "\n",
        "#| export\n",
        "custom_styling = (\n",
        "    Style(':root { --gunmetal-dark: #1C2329; --text-light: #E0E0E0; }'),\n",
        "    Style('body { padding-top: 80px; background: var(--gunmetal-dark); color: var(--text-light); }'),\n",
        "    Style('''\n",
        "        .floating-navbar {\n",
        "            position: fixed;\n",
        "            top: 20px;\n",
        "            left: 50%;\n",
        "            transform: translateX(-50%);\n",
        "            width: 95%;\n",
        "            max-width: 1200px;\n",
        "            z-index: 1000;\n",
        "        }\n",
        "    '''),\n",
        "    Style('''\n",
        "        .floating-navbar-container:not(.uk-navbar-transparent) {\n",
        "            background: var(--gunmetal-dark);\n",
        "            border-radius: 15px;\n",
        "            box-shadow: 0 4px 10px rgba(255,255,255,0.1);\n",
        "            padding: 10px 0;\n",
        "        }\n",
        "    '''),\n",
        "    Style('.uk-navbar-nav > li > a { color: var(--text-light); min-height: 50px; }'),\n",
        "    Style('.uk-navbar-nav > li:hover > a { color: white; }'),\n",
        "    Style('.active { text-decoration: underline !important; font-weight: bold; }'),\n",
        ")\n",
        "\n",
        "# Application Initialization\n",
        "#| export\n",
        "app, rt = fast_app(pico=False, hdrs=Theme.blue.headers())\n",
        "\n",
        "server = JupyUvi(app, port=8001)\n",
        "Show = partial(HTMX, app=app, link=True)"
    ]
    },
    {
    "cell_type": "code",
    "execution_count": null,
    "metadata": {},
    "outputs": [
        {
        "data": {
        "text/html": [
        "<a href=\"http://localhost:8000/_rxa_oCMbR7uAtj2mQMdyww\" target=\"_blank\">Open in new tab</a>"
        ],
        "text/plain": [
        "<IPython.core.display.HTML object>"
        ]
        },
        "metadata": {},
        "output_type": "display_data"
        },
        {
        "data": {
        "text/html": [
        "<a href=\"http://localhost:8000/_VgJKbWYKR6a-bdFuSdGMXg\" target=\"_blank\">Open in new tab</a>"
        ],
        "text/plain": [
        "<IPython.core.display.HTML object>"
        ]
        },
        "metadata": {},
        "output_type": "display_data"
        },
        {
        "data": {
        "text/html": [
        "<a href=\"http://localhost:8000/_b-NcMc4DSCanWhmrHJh7EA\" target=\"_blank\">Open in new tab</a>"
        ],
        "text/plain": [
        "<IPython.core.display.HTML object>"
        ]
        },
        "metadata": {},
        "output_type": "display_data"
        },
        {
        "data": {
        "text/html": [
        "<a href=\"http://localhost:8000/_ImbW54ccQxW7YinMT4eanQ\" target=\"_blank\">Open in new tab</a>"
        ],
        "text/plain": [
        "<IPython.core.display.HTML object>"
        ]
        },
        "metadata": {},
        "output_type": "display_data"
        }
    ],
    "source": [
        "data = search_trial('headphones')\n",
        "for p in data['Products'][:4]:\n",
        "    Show(ProductCard(json.dumps(p)))"
    ]
    }
 ],
 "metadata": {
  "language_info": {
   "name": "python"
  }
 },
 "nbformat": 4,
 "nbformat_minor": 2
}
