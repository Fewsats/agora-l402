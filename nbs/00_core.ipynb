{
 "cells": [
  {
   "cell_type": "markdown",
   "metadata": {},
   "source": [
    "# agora_api\n",
    "\n",
    "> SDK to interact with Agora private api"
   ]
  },
  {
   "cell_type": "code",
   "execution_count": 1,
   "metadata": {},
   "outputs": [],
   "source": [
    "#| default_exp core"
   ]
  },
  {
   "cell_type": "code",
   "execution_count": 2,
   "metadata": {},
   "outputs": [],
   "source": [
    "#| hide\n",
    "from nbdev.showdoc import *"
   ]
  },
  {
   "cell_type": "code",
   "execution_count": 3,
   "metadata": {},
   "outputs": [],
   "source": [
    "#| export\n",
    "from fastcore.utils import *\n",
    "from fastcore.xtras import dict2obj\n",
    "from httpx import get as xget, post as xpost, put as xput\n",
    "from fasthtml.common import *\n",
    "from monsterui.core import *\n"
   ]
  },
  {
   "cell_type": "code",
   "execution_count": 4,
   "metadata": {},
   "outputs": [],
   "source": [
    "#| export\n",
    "\n",
    "base_url = 'https://zues.searchagora.com/api/v1'"
   ]
  },
  {
   "cell_type": "code",
   "execution_count": 5,
   "metadata": {},
   "outputs": [],
   "source": [
    "#| export\n",
    "\n",
    "def search_trial(query: str, # Search query text\n",
    "                 price_range: List[int] = None, # Price range filter [min_price, max_price]\n",
    "                 sort: str = None, # Sorting field: price:relevance\n",
    "                 order: str = None): # Sorting order: asc or desc\n",
    "    \"\"\"\n",
    "    Search for products using the trial endpoint.\n",
    "    \n",
    "    Args:\n",
    "        query (str): Search query text\n",
    "        price_range (list, optional): Price range filter [min_price, max_price]\n",
    "        sort (str, optional): Sorting field: price:relevance\n",
    "        order (str, optional): Sorting order: asc or desc\n",
    "        \n",
    "    Returns:\n",
    "        dict: Search results with products matching the query\n",
    "    \n",
    "    Example:\n",
    "        search_trial(\"shoes\", [100, 1000], \"price:relevance\", \"desc\")\n",
    "    \"\"\"\n",
    "    endpoint = f'{base_url}/search/trial'\n",
    "    \n",
    "    # Build query parameters\n",
    "    params = {'q': query}\n",
    "    \n",
    "    if price_range: params['priceRange'] = price_range\n",
    "    if sort: params['sort'] = sort\n",
    "    if order: params['order'] = order\n",
    "    \n",
    "    # Make the request\n",
    "    r = xget(endpoint, params=params)\n",
    "    \n",
    "    # Return parsed JSON response\n",
    "    return r.json()"
   ]
  },
  {
   "cell_type": "code",
   "execution_count": 6,
   "metadata": {},
   "outputs": [
    {
     "data": {
      "text/plain": [
       "{'name': 'Headphones',\n",
       " 'storeName': 'The Baby Cubby',\n",
       " 'brand': 'Tonies',\n",
       " '_id': '6674b4aab49534201189688d',\n",
       " 'slug': 'tonies-headphones-08c2c9a1-b3af-4883-aebf-2a283a1fc0fd-1718924458056',\n",
       " 'price': 29.99,\n",
       " 'isVerified': False,\n",
       " 'isBoosted': False,\n",
       " 'source': 'shopify',\n",
       " 'images': ['https://cdn.shopify.com/s/files/1/0467/0649/1556/products/Heaphones-PDP-Assets-Gray-1.jpg?v=1637054130',\n",
       "  'https://cdn.shopify.com/s/files/1/0467/0649/1556/products/Heaphones-PDP-Assets-Gray-2.jpg?v=1637054132',\n",
       "  'https://cdn.shopify.com/s/files/1/0467/0649/1556/products/Heaphones-PDP-Assets-Gray-3.jpg?v=1637054134',\n",
       "  'https://cdn.shopify.com/s/files/1/0467/0649/1556/products/blue_8b41cdb7-1f12-4b3d-b43c-8aac607377f3.jpg?v=1637336366',\n",
       "  'https://cdn.shopify.com/s/files/1/0467/0649/1556/products/Heaphones-PDP-Assets-Pink-1.jpg?v=1637336366',\n",
       "  'https://cdn.shopify.com/s/files/1/0467/0649/1556/products/Reddd.jpg?v=1637336366'],\n",
       " 'url': 'https://babycubby.com/products/tonies-headphones',\n",
       " 'agoraScore': 92,\n",
       " 'priceHistory': [{'price': 29.99,\n",
       "   'date': '2024-06-20T23:24:59.057Z',\n",
       "   '_id': '6713d5706ca0a1804a53068e'}],\n",
       " 'discountVal': 0}"
      ]
     },
     "execution_count": 6,
     "metadata": {},
     "output_type": "execute_result"
    }
   ],
   "source": [
    "\n",
    "p = search_trial('headphones')['Products'][0]\n",
    "p"
   ]
  },
  {
   "cell_type": "code",
   "execution_count": 7,
   "metadata": {},
   "outputs": [],
   "source": [
    "#| export\n",
    "\n",
    "def text_search(token, query, count=20, page=1, price_range=None, sort=None, order=None, image_id=None):\n",
    "    \"\"\"\n",
    "    Search for products with full functionality.\n",
    "    \n",
    "    Args:\n",
    "        token (str): Authentication token for API access\n",
    "        query (str): Search query text\n",
    "        count (int, optional): Number of products per page (default: 20, max: 250)\n",
    "        page (int, optional): Page number for pagination (default: 1)\n",
    "        price_range (list, optional): Price range filter [min_price, max_price]\n",
    "        sort (str, optional): Sorting field: price:relevance\n",
    "        order (str, optional): Sorting order: asc or desc\n",
    "        image_id (str, optional): Image search identifier\n",
    "        \n",
    "    Returns:\n",
    "        dict: Search results with products matching the query\n",
    "    \n",
    "    Example:\n",
    "        text_search(\"your_token\", \"red shoes\", count=10, page=1, \n",
    "                   price_range=[50, 200], sort=\"price\", order=\"asc\")\n",
    "    \"\"\"\n",
    "    endpoint = f'{base_url}/search'\n",
    "    \n",
    "    # Build query parameters\n",
    "    params = {'q': query, 'count': count, 'page': page}\n",
    "    \n",
    "    if price_range: params['priceRange'] = price_range\n",
    "    if sort: params['sort'] = sort\n",
    "    if order: params['order'] = order\n",
    "    if image_id: params['imageId'] = image_id\n",
    "    \n",
    "    # Set authorization header\n",
    "    headers = {'Authorization': f'Bearer {token}'}\n",
    "    \n",
    "    # Make the request\n",
    "    r = xget(endpoint, params=params, headers=headers)\n",
    "    \n",
    "    # Return parsed JSON response\n",
    "    return dict2obj(r.json())"
   ]
  },
  {
   "cell_type": "code",
   "execution_count": 8,
   "metadata": {},
   "outputs": [],
   "source": [
    "#| export\n",
    "\n",
    "def get_product_detail(token, slug):\n",
    "    \"\"\"\n",
    "    Retrieve detailed information about a specific product.\n",
    "    \n",
    "    Args:\n",
    "        token (str): Authentication token for API access\n",
    "        slug (str): The unique identifier of the product to retrieve\n",
    "        \n",
    "    Returns:\n",
    "        dict: Detailed information about the requested product\n",
    "    \n",
    "    Example:\n",
    "        get_product_detail(\"your_token\", \"calzuro-without-pistachio-eb12f468-48a2-48af-9f5e-3fda5f6c135c-1708446961787\")\n",
    "    \"\"\"\n",
    "    endpoint = f'{base_url}/product-detail'\n",
    "    \n",
    "    # Build query parameters\n",
    "    params = {'slug': slug}\n",
    "    \n",
    "    # Set authorization header\n",
    "    headers = {'Authorization': f'Bearer {token}'}\n",
    "    \n",
    "    # Make the request\n",
    "    r = xget(endpoint, params=params, headers=headers)\n",
    "    \n",
    "    # Return parsed JSON response\n",
    "    return dict2obj(r.json())\n"
   ]
  },
  {
   "cell_type": "code",
   "execution_count": 9,
   "metadata": {},
   "outputs": [],
   "source": [
    "\n",
    "# get_product_detail(token, p.slug)"
   ]
  },
  {
   "cell_type": "code",
   "execution_count": 10,
   "metadata": {},
   "outputs": [],
   "source": [
    "#| export\n",
    "\n",
    "def create_cart(token, custom_user_id=None, items=None):\n",
    "    \"\"\"\n",
    "    Create a new cart for a user.\n",
    "    \n",
    "    Args:\n",
    "        token (str): Authentication token for API access\n",
    "        custom_user_id (str, optional): Unique identifier for the user\n",
    "        items (list, optional): List of items to add to the cart\n",
    "            Each item should be a dict with:\n",
    "            - variantId (int): Variant ID of the product\n",
    "            - product (int/str): Product ID\n",
    "            - quantity (int): Quantity of the product\n",
    "            \n",
    "    Returns:\n",
    "        dict: Response with cart creation status\n",
    "    \n",
    "    Example:\n",
    "        create_cart(\"your_token\", \"user123\", [\n",
    "            {\"variantId\": 123, \"product\": \"678f71a9356a36f784ee2e88\", \"quantity\": 1}\n",
    "        ])\n",
    "    \"\"\"\n",
    "    url = f'{base_url}/cart'\n",
    "    \n",
    "    # Set headers\n",
    "    headers = {\n",
    "        'Authorization': f'Bearer {token}',\n",
    "        'Content-Type': 'application/json'\n",
    "    }\n",
    "    \n",
    "    # Add custom user ID if provided\n",
    "    if custom_user_id:\n",
    "        headers['customuserid'] = custom_user_id\n",
    "    \n",
    "    # Prepare request body\n",
    "    data = {}\n",
    "    if items:\n",
    "        data['items'] = items\n",
    "    \n",
    "    # Make the request\n",
    "    r = xpost(url, headers=headers, json=data)\n",
    "    \n",
    "    # Return parsed JSON response\n",
    "    return dict2obj(r.json())"
   ]
  },
  {
   "cell_type": "code",
   "execution_count": 11,
   "metadata": {},
   "outputs": [],
   "source": [
    "#| export\n",
    "\n",
    "def add_to_cart(token, product_id, variant_id, quantity=1, custom_user_id=None):\n",
    "    \"\"\"\n",
    "    Add a product to an existing cart.\n",
    "    \n",
    "    Args:\n",
    "        token (str): Authentication token for API access\n",
    "        product_id (str/int): ID of the product to add\n",
    "        variant_id (str/int): Variant ID of the product\n",
    "        quantity (int, optional): Quantity of the product (default: 1)\n",
    "        custom_user_id (str, optional): Unique identifier for the user\n",
    "        \n",
    "    Returns:\n",
    "        dict: Response with cart update status\n",
    "    \n",
    "    Example:\n",
    "        add_to_cart(\"your_token\", \"678f71a9356a36f784ee2e88\", \"2061038485517\", 2, \"user123\")\n",
    "    \"\"\"\n",
    "    url = f'{base_url}/cart'\n",
    "    \n",
    "    # Set headers\n",
    "    headers = {\n",
    "        'Authorization': f'Bearer {token}',\n",
    "        'Content-Type': 'application/json'\n",
    "    }\n",
    "    \n",
    "    # Add custom user ID if provided\n",
    "    if custom_user_id:\n",
    "        headers['customuserid'] = custom_user_id\n",
    "    \n",
    "    # Prepare request body\n",
    "    data = {\n",
    "        \"product\": {\n",
    "            \"product\": product_id,\n",
    "            \"variantId\": variant_id,\n",
    "            \"quantity\": quantity\n",
    "        }\n",
    "    }\n",
    "    \n",
    "    # Make the PUT request\n",
    "    r = xput(url, headers=headers, json=data)\n",
    "    \n",
    "    # Return parsed JSON response\n",
    "    return dict2obj(r.json())"
   ]
  },
  {
   "cell_type": "code",
   "execution_count": 12,
   "metadata": {},
   "outputs": [],
   "source": [
    "#| export\n",
    "def create_order(token, encrypted_payment_info, shipping_address, current_user):\n",
    "    \"\"\"\n",
    "    Create a new order from cart items.\n",
    "    \n",
    "    Args:\n",
    "        token (str): Authentication token for API access\n",
    "        encrypted_payment_info (str): Encrypted payment information\n",
    "        shipping_address (dict): Dictionary containing shipping address details:\n",
    "            - addressFirst (str): Street address\n",
    "            - city (str): City name\n",
    "            - state (str): State/province\n",
    "            - country (str): Country name\n",
    "            - addressName (str): Name associated with address\n",
    "            - zipCode (str): Postal/ZIP code\n",
    "        current_user (dict): Dictionary containing user information:\n",
    "            - firstname (str): User's first name\n",
    "            - lastname (str): User's last name\n",
    "            - email (str): User's email address\n",
    "            - _id (str): User's ID\n",
    "            \n",
    "    Returns:\n",
    "        dict: Order creation response with success status and order ID\n",
    "    \n",
    "    Example:\n",
    "        create_order(\n",
    "            \"your_token\",\n",
    "            \"encrypted_data\",\n",
    "            {\n",
    "                \"addressFirst\": \"123 Main St\",\n",
    "                \"city\": \"New York\",\n",
    "                \"state\": \"NY\",\n",
    "                \"country\": \"US\",\n",
    "                \"addressName\": \"Home\",\n",
    "                \"zipCode\": \"10001\"\n",
    "            },\n",
    "            {\n",
    "                \"firstname\": \"John\",\n",
    "                \"lastname\": \"Doe\",\n",
    "                \"email\": \"john@example.com\",\n",
    "                \"_id\": \"user123\"\n",
    "            }\n",
    "        )\n",
    "    \"\"\"\n",
    "    url = f'{base_url}/order'\n",
    "    \n",
    "    # Set headers\n",
    "    headers = {\n",
    "        'Authorization': f'Bearer {token}',\n",
    "        'Content-Type': 'application/json'\n",
    "    }\n",
    "    \n",
    "    # Prepare request body\n",
    "    data = {\n",
    "        \"encryptedPaymentInfo\": encrypted_payment_info,\n",
    "        \"shippingAddress\": shipping_address,\n",
    "        \"currentUser\": current_user\n",
    "    }\n",
    "    \n",
    "    # Make the POST request\n",
    "    r = xpost(url, headers=headers, json=data)\n",
    "    \n",
    "    # Return parsed JSON response\n",
    "    return dict2obj(r.json())"
   ]
  },
  {
   "cell_type": "code",
   "execution_count": 13,
   "metadata": {},
   "outputs": [],
   "source": [
    "#| export\n",
    "\n",
    "def track_order(token, order_id):\n",
    "    \"\"\"\n",
    "    Track an existing order by its ID.\n",
    "    \n",
    "    Args:\n",
    "        token (str): Authentication token for API access\n",
    "        order_id (str): Unique identifier of the order to track\n",
    "        \n",
    "    Returns:\n",
    "        dict: Detailed order information including items, status, and shipping details\n",
    "    \n",
    "    Example:\n",
    "        track_order(\"your_token\", \"67c8577b3e370f07d12c7722\")\n",
    "    \"\"\"\n",
    "    url = f'{base_url}/order-tracking/{order_id}'\n",
    "    \n",
    "    # Set headers\n",
    "    headers = {\n",
    "        'Authorization': f'Bearer {token}',\n",
    "        'Content-Type': 'application/json'\n",
    "    }\n",
    "    \n",
    "    # Make the GET request\n",
    "    r = xget(url, headers=headers)\n",
    "    \n",
    "    # Return parsed JSON response\n",
    "    return dict2obj(r.json())"
   ]
  },
  {
   "cell_type": "code",
   "execution_count": 14,
   "metadata": {},
   "outputs": [],
   "source": [
    "#| export \n",
    "\n",
    "def refresh_token(refresh_token_str):\n",
    "    \"\"\"\n",
    "    Refresh API key and token by providing a valid refresh token.\n",
    "    \n",
    "    Args:\n",
    "        refresh_token_str (str): The refresh token to validate and retrieve\n",
    "                                 a new API key and refresh token\n",
    "        \n",
    "    Returns:\n",
    "        dict: Object containing new API key, refresh token, and expiration time\n",
    "              with the following structure:\n",
    "              {\n",
    "                \"status\": \"success\",\n",
    "                \"data\": {\n",
    "                  \"apiKey\": \"...\",\n",
    "                  \"refreshToken\": \"...\",\n",
    "                  \"expiresAt\": \"...\"\n",
    "                }\n",
    "              }\n",
    "    \n",
    "    Raises:\n",
    "        ValueError: If the refresh token is invalid or missing\n",
    "    \"\"\"\n",
    "    endpoint = f'{base_url}/refresh-token'\n",
    "    \n",
    "    # Prepare request body\n",
    "    data = {\"refreshToken\": refresh_token_str}\n",
    "    \n",
    "    # Make the POST request\n",
    "    r = xpost(endpoint, json=data)\n",
    "    response = dict2obj(r.json())\n",
    "    \n",
    "    # Check for errors\n",
    "    if r.status_code != 200 or response.status == \"error\":\n",
    "        raise ValueError(response.message)\n",
    "        \n",
    "    return response\n"
   ]
  },
  {
   "cell_type": "markdown",
   "metadata": {},
   "source": [
    "## AI Agent"
   ]
  },
  {
   "cell_type": "code",
   "execution_count": 15,
   "metadata": {},
   "outputs": [],
   "source": [
    "from claudette import *\n",
    "os.environ['ANTHROPIC_LOG'] = 'debug'\n"
   ]
  },
  {
   "cell_type": "code",
   "execution_count": 16,
   "metadata": {},
   "outputs": [],
   "source": [
    "chat = Chat(models[1], sp='You are a helpful assistant that can search for products in a store',\n",
    "             tools=[search_trial])\n",
    "# chat.toolloop('can you search for headp`hones in the price range of 100 to 200', trace_func=print)"
   ]
  },
  {
   "cell_type": "code",
   "execution_count": 17,
   "metadata": {},
   "outputs": [],
   "source": [
    "import json\n",
    "from fasthtml.common import *\n",
    "from monsterui.all import *\n",
    "from fasthtml.jupyter import *"
   ]
  },
  {
   "cell_type": "code",
   "execution_count": 18,
   "metadata": {},
   "outputs": [],
   "source": [
    "#| export\n",
    "\n",
    "def ProductCard(\n",
    "    item: str # JSON string containing product details (`name`, `price`, `brand`, `storeName`, `agoraScore`, `images`, `_id`)\n",
    "):\n",
    "    \"\"\"\n",
    "    Renders a product card UI component displaying product details clearly and attractively.\n",
    "    Expects `item` as a JSON-formatted string with these keys:\n",
    "    - `name`: Product name (str)\n",
    "    - `price`: Product price (float or str)\n",
    "    - `brand`: Brand name (str)\n",
    "    - `storeName`: Store name (str)\n",
    "    - `agoraScore`: Product rating score out of 100 (int or float)\n",
    "    - `images`: List of image URLs (list[str]), first image used as main display\n",
    "    - `_id`: Unique identifier for the product (str)\n",
    "    \"\"\"\n",
    "    item = dict2obj(json.loads(item))\n",
    "    return Card(\n",
    "        DivHStacked(\n",
    "            # Left column with image\n",
    "            Div(\n",
    "                Img(src=item.images[0], alt=item.name, cls=\"max-h-52 object-contain\")\n",
    "            ),\n",
    "            # Right column with product details\n",
    "            DivVStacked(\n",
    "                H3(item.name),\n",
    "                Strong(f\"${item.price}\"),\n",
    "                Div(f\"Brand: {item.brand}\"),\n",
    "                Div(f\"Store: {item.storeName}\"),\n",
    "                Div(f\"Rating: {item.agoraScore}/100\"),\n",
    "                Button(\"View Details\", id=f\"view-{item._id}\")\n",
    "            )\n",
    "        )\n",
    "    )\n"
   ]
  },
  {
   "cell_type": "code",
   "execution_count": 19,
   "metadata": {},
   "outputs": [
    {
     "data": {
      "text/html": [
       "\n",
       "<script>\n",
       "document.body.addEventListener('htmx:configRequest', (event) => {\n",
       "    if(event.detail.path.includes('://')) return;\n",
       "    htmx.config.selfRequestsOnly=false;\n",
       "    event.detail.path = `${location.protocol}//${location.hostname}:8001${event.detail.path}`;\n",
       "});\n",
       "</script>"
      ],
      "text/plain": [
       "<IPython.core.display.HTML object>"
      ]
     },
     "metadata": {},
     "output_type": "display_data"
    },
    {
     "data": {
      "text/markdown": [
       "```html\n",
       "<div class=\"uk-card \">\n",
       "  <div class=\"uk-card-body space-y-6\">\n",
       "    <div class=\"flex flex-row items-center space-x-4\">\n",
       "      <div>\n",
       "<img src=\"https://cdn.shopify.com/s/files/1/0467/0649/1556/products/Heaphones-PDP-Assets-Gray-1.jpg?v=1637054130\" alt=\"Headphones\" class=\"max-h-52 object-contain\">      </div>\n",
       "      <div class=\"flex flex-col items-center space-y-4\">\n",
       "        <h3 class=\"uk-h3 \">Headphones</h3>\n",
       "<strong class=\"font-bold \">$29.99</strong>        <div>Brand: Tonies</div>\n",
       "        <div>Store: The Baby Cubby</div>\n",
       "        <div>Rating: 92/100</div>\n",
       "<button type=\"submit\" id=\"view-6674b4aab49534201189688d\" class=\"uk-btn uk-btn-default\" name=\"view-6674b4aab49534201189688d\">View Details</button>      </div>\n",
       "    </div>\n",
       "  </div>\n",
       "</div>\n",
       "\n",
       "```"
      ],
      "text/plain": [
       "div((div((div((div((img((),{'src': 'https://cdn.shopify.com/s/files/1/0467/0649/1556/products/Heaphones-PDP-Assets-Gray-1.jpg?v=1637054130', 'alt': 'Headphones', 'class': 'max-h-52 object-contain'}),),{}), div((h3(('Headphones',),{'class': 'uk-h3 '}), strong(('$29.99',),{'class': 'font-bold '}), div(('Brand: Tonies',),{}), div(('Store: The Baby Cubby',),{}), div(('Rating: 92/100',),{}), button(('View Details',),{'type': 'submit', 'id': 'view-6674b4aab49534201189688d', 'class': 'uk-btn uk-btn-default', 'name': 'view-6674b4aab49534201189688d'})),{'class': 'flex flex-col items-center space-y-4'})),{'class': 'flex flex-row items-center space-x-4'}),),{'class': 'uk-card-body space-y-6'}),),{'class': 'uk-card '})"
      ]
     },
     "execution_count": 19,
     "metadata": {},
     "output_type": "execute_result"
    }
   ],
   "source": [
    "from functools import partial\n",
    "app, rt = fast_app(hdrs=Theme.blue.headers())\n",
    "Show = partial(HTMX, app=app, link=True)\n",
    "server = JupyUvi(app, port=8001)\n",
    "data = search_trial('headphones', price_range=[100, 200])\n",
    "item = data['Products'][0]\n",
    "ProductCard(json.dumps(item))"
   ]
  },
  {
   "cell_type": "code",
   "execution_count": 20,
   "metadata": {},
   "outputs": [
    {
     "data": {
      "text/html": [
       "<a href=\"http://localhost:8000/_sJF6Y2C0SziIPa_TFulIKw\" target=\"_blank\">Open in new tab</a>"
      ],
      "text/plain": [
       "<IPython.core.display.HTML object>"
      ]
     },
     "metadata": {},
     "output_type": "display_data"
    },
    {
     "data": {
      "text/html": [
       "<iframe src=\"http://localhost:8000/_sJF6Y2C0SziIPa_TFulIKw\" style=\"width: 100%; height: auto; border: none;\" onload=\"{\n",
       "        let frame = this;\n",
       "        window.addEventListener('message', function(e) {\n",
       "            if (e.source !== frame.contentWindow) return; // Only proceed if the message is from this iframe\n",
       "            if (e.data.height) frame.style.height = (e.data.height+1) + 'px';\n",
       "        }, false);\n",
       "    }\" allow=\"accelerometer; autoplay; camera; clipboard-read; clipboard-write; display-capture; encrypted-media; fullscreen; gamepad; geolocation; gyroscope; hid; identity-credentials-get; idle-detection; magnetometer; microphone; midi; payment; picture-in-picture; publickey-credentials-get; screen-wake-lock; serial; usb; web-share; xr-spatial-tracking\"></iframe> "
      ],
      "text/plain": [
       "<IPython.core.display.HTML object>"
      ]
     },
     "execution_count": 20,
     "metadata": {},
     "output_type": "execute_result"
    }
   ],
   "source": [
    "Show(ProductCard(json.dumps(item)))"
   ]
  },
  {
   "cell_type": "code",
   "execution_count": 21,
   "metadata": {},
   "outputs": [
    {
     "name": "stdout",
     "output_type": "stream",
     "text": [
      "[{'role': 'user', 'content': 'can you search for headphones in the price range of 100 to 200'}, {'role': 'assistant', 'content': [TextBlock(citations=None, text=\"I'll search for headphones in the price range of $100 to $200 for you.\", type='text'), ToolUseBlock(id='toolu_01PyPi77BGYsWt8B7ugdpNUN', input={'query': 'headphones', 'price_range': [100, 200]}, name='search_trial', type='tool_use')]}, {'role': 'user', 'content': [{'type': 'tool_result', 'tool_use_id': 'toolu_01PyPi77BGYsWt8B7ugdpNUN', 'content': \"{'status': 'success', 'Products': [{'name': 'Headphones', 'storeName': 'The Baby Cubby', 'brand': 'Tonies', '_id': '6674b4aab49534201189688d', 'slug': 'tonies-headphones-08c2c9a1-b3af-4883-aebf-2a283a1fc0fd-1718924458056', 'price': 29.99, 'isVerified': False, 'isBoosted': False, 'source': 'shopify', 'images': ['https://cdn.shopify.com/s/files/1/0467/0649/1556/products/Heaphones-PDP-Assets-Gray-1.jpg?v=1637054130', 'https://cdn.shopify.com/s/files/1/0467/0649/1556/products/Heaphones-PDP-Assets-Gray-2.jpg?v=1637054132', 'https://cdn.shopify.com/s/files/1/0467/0649/1556/products/Heaphones-PDP-Assets-Gray-3.jpg?v=1637054134', 'https://cdn.shopify.com/s/files/1/0467/0649/1556/products/blue_8b41cdb7-1f12-4b3d-b43c-8aac607377f3.jpg?v=1637336366', 'https://cdn.shopify.com/s/files/1/0467/0649/1556/products/Heaphones-PDP-Assets-Pink-1.jpg?v=1637336366', 'https://cdn.shopify.com/s/files/1/0467/0649/1556/products/Reddd.jpg?v=1637336366'], 'url': 'https://babycubby.com/products/tonies-headphones', 'agoraScore': 92, 'priceHistory': [{'price': 29.99, 'date': '2024-06-20T23:24:59.057Z', '_id': '6713d5706ca0a1804a53068e'}], 'discountVal': 0}, {'name': 'Sonic Headphones (Black)', 'storeName': 'TC Running Co', 'brand': 'Suunto', '_id': '677e58f7770698bbe86cf7d7', 'slug': 'sonic-headphones-black-3c874edc-b295-4213-9534-21d140662663-1736333559892', 'price': 150, 'isVerified': False, 'isBoosted': False, 'source': 'shopify', 'images': ['https://cdn.shopify.com/s/files/1/1804/7057/files/suunto-sonic-black-side-3-1280x1280px.webp?v=1717101867'], 'url': 'https://tcrunningco.com/products/sonic-headphones-black', 'agoraScore': 92, 'priceHistory': [{'price': 150, 'date': '2025-01-08T10:52:40.147Z', '_id': '677e5923770698bbe86d20cd'}], 'discountVal': 0}, {'name': '3.0 Stereo Bluetooth Wireless Headset/Headphones With Call Mic/Microphone', 'storeName': 'Search Reverse Phone Number', 'brand': 'AMAZON', '_id': '678a1f8705d6339444805087', 'slug': '3-0-stereo-bluetooth-wireless-headset-headphones-with-call-mic-microphone-1-b6ba2797-22e8-4566-a029-25a1372e38b4-1737105287582', 'price': 39.99, 'isVerified': False, 'isBoosted': False, 'source': 'shopify', 'images': ['https://cdn.shopify.com/s/files/1/0237/2750/5485/products/product-image-514582129.jpg?v=1571678450'], 'url': 'https://searchreversephonenumber.com/products/3-0-stereo-bluetooth-wireless-headset-headphones-with-call-mic-microphone-1', 'agoraScore': 86, 'priceHistory': [{'price': 39.99, 'date': '2025-01-17T09:14:47.721Z', '_id': '678a1f8805d633944480635e'}], 'averageRating': 4, 'discountVal': 0}, {'name': 'HEADPHONES', 'storeName': 'Stitched Icons', 'brand': 'stitchedicons', '_id': '678c2cb60205c9203b7f3ec2', 'slug': 'headphones-40389314-557a-48ee-a9d4-b436bad0f172-1737239734508', 'price': 19.99, 'isVerified': False, 'isBoosted': False, 'source': 'shopify', 'images': ['https://cdn.shopify.com/s/files/1/0250/0778/3998/products/Covers.jpg?v=1595618442', 'https://cdn.shopify.com/s/files/1/0250/0778/3998/products/White_shirt_black_Headphones.jpg?v=1595618442', 'https://cdn.shopify.com/s/files/1/0250/0778/3998/products/White_shirt_white_Headphones.jpg?v=1595618442', 'https://cdn.shopify.com/s/files/1/0250/0778/3998/products/White_shirt_green_Headphones.jpg?v=1595618442', 'https://cdn.shopify.com/s/files/1/0250/0778/3998/products/White_shirt_purple_Headphones.jpg?v=1595618442', 'https://cdn.shopify.com/s/files/1/0250/0778/3998/products/White_shirt_blue_Headphones.jpg?v=1595618442', 'https://cdn.shopify.com/s/files/1/0250/0778/3998/products/White_shirt_red_Headphones.jpg?v=1595618442', 'https://cdn.shopify.com/s/files/1/0250/0778/3998/products/White_shirt_orange_Headphones.jpg?v=1595618442', 'https://cdn.shopify.com/s/files/1/0250/0778/3998/products/White_shirt_Yellow_Headphones.jpg?v=1595618442', 'https://cdn.shopify.com/s/files/1/0250/0778/3998/products/White_shirt_grey_Headphones.jpg?v=1595618442', 'https://cdn.shopify.com/s/files/1/0250/0778/3998/products/white_shirt_neon_Headphones.jpg?v=1595618442', 'https://cdn.shopify.com/s/files/1/0250/0778/3998/products/Black_shirt_black_Headphones.jpg?v=1595618442', 'https://cdn.shopify.com/s/files/1/0250/0778/3998/products/Black_shirt_white_Headphones.jpg?v=1595618442', 'https://cdn.shopify.com/s/files/1/0250/0778/3998/products/Black_shirt_green_Headphones.jpg?v=1595618442', 'https://cdn.shopify.com/s/files/1/0250/0778/3998/products/Black_shirt_purple_Headphones.jpg?v=1595618442', 'https://cdn.shopify.com/s/files/1/0250/0778/3998/products/Black_shirt_blue_Headphones.jpg?v=1595618442', 'https://cdn.shopify.com/s/files/1/0250/0778/3998/products/Black_shirt_red_Headphones.jpg?v=1595618442', 'https://cdn.shopify.com/s/files/1/0250/0778/3998/products/Black_shirt_Orange_Headphones.jpg?v=1595618442', 'https://cdn.shopify.com/s/files/1/0250/0778/3998/products/Black_shirt_Yellow_Headphones.jpg?v=1595618442', 'https://cdn.shopify.com/s/files/1/0250/0778/3998/products/Black_shirt_Grey_Headphones.jpg?v=1595618442', 'https://cdn.shopify.com/s/files/1/0250/0778/3998/products/Black_shirt_neon_Headphones.jpg?v=1595618442', 'https://cdn.shopify.com/s/files/1/0250/0778/3998/products/Navy_shirt_Black_Headphones.jpg?v=1595618442', 'https://cdn.shopify.com/s/files/1/0250/0778/3998/products/Navy_shirt_white_Headphones.jpg?v=1595618442', 'https://cdn.shopify.com/s/files/1/0250/0778/3998/products/Navy_shirt_Green_Headphones.jpg?v=1595618442', 'https://cdn.shopify.com/s/files/1/0250/0778/3998/products/Navy_shirt_Purple_Headphones.jpg?v=1595618442', 'https://cdn.shopify.com/s/files/1/0250/0778/3998/products/Navy_shirt_Blue_Headphones.jpg?v=1595618442', 'https://cdn.shopify.com/s/files/1/0250/0778/3998/products/Navy_shirt_Red_Headphones.jpg?v=1595618442', 'https://cdn.shopify.com/s/files/1/0250/0778/3998/products/Navy_shirt_Orange_Headphones.jpg?v=1595618442', 'https://cdn.shopify.com/s/files/1/0250/0778/3998/products/Navy_shirt_Yellow_Headphones.jpg?v=1595618442', 'https://cdn.shopify.com/s/files/1/0250/0778/3998/products/Navy_shirt_Grey_Headphones.jpg?v=1595618442', 'https://cdn.shopify.com/s/files/1/0250/0778/3998/products/Navy_shirt_Neon_Headphones.jpg?v=1595618442', 'https://cdn.shopify.com/s/files/1/0250/0778/3998/products/Royal_shirt_black_Headphones.jpg?v=1595618442', 'https://cdn.shopify.com/s/files/1/0250/0778/3998/products/Royal_shirt_white_Headphones.jpg?v=1595618442', 'https://cdn.shopify.com/s/files/1/0250/0778/3998/products/Royal_shirt_green_Headphones.jpg?v=1595618442', 'https://cdn.shopify.com/s/files/1/0250/0778/3998/products/Royal_shirt_purple_Headphones.jpg?v=1595618442', 'https://cdn.shopify.com/s/files/1/0250/0778/3998/products/Royal_shirt_blue_Headphones.jpg?v=1595618442', 'https://cdn.shopify.com/s/files/1/0250/0778/3998/products/Royal_shirt_red_Headphones.jpg?v=1595618442', 'https://cdn.shopify.com/s/files/1/0250/0778/3998/products/Royal_shirt_orange_Headphones.jpg?v=1595618442', 'https://cdn.shopify.com/s/files/1/0250/0778/3998/products/Royal_shirt_yellow_Headphones.jpg?v=1595618442', 'https://cdn.shopify.com/s/files/1/0250/0778/3998/products/Royal_shirt_grey_Headphones.jpg?v=1595618442', 'https://cdn.shopify.com/s/files/1/0250/0778/3998/products/Royal_shirt_neon_Headphones.jpg?v=1595618442', 'https://cdn.shopify.com/s/files/1/0250/0778/3998/products/Red_shirt_black_Headphones.jpg?v=1595618442', 'https://cdn.shopify.com/s/files/1/0250/0778/3998/products/Red_shirt_white_Headphones.jpg?v=1595618442', 'https://cdn.shopify.com/s/files/1/0250/0778/3998/products/Red_shirt_green_Headphones.jpg?v=1595618442', 'https://cdn.shopify.com/s/files/1/0250/0778/3998/products/Red_shirt_Purple_Headphones.jpg?v=1595618442', 'https://cdn.shopify.com/s/files/1/0250/0778/3998/products/Red_shirt_blue_Headphones.jpg?v=1595618442', 'https://cdn.shopify.com/s/files/1/0250/0778/3998/products/Red_shirt_red_Headphones.jpg?v=1595618442', 'https://cdn.shopify.com/s/files/1/0250/0778/3998/products/Red_shirt_orange_Headphones.jpg?v=1595618442', 'https://cdn.shopify.com/s/files/1/0250/0778/3998/products/Red_shirt_yellow_Headphones.jpg?v=1595618442', 'https://cdn.shopify.com/s/files/1/0250/0778/3998/products/Red_shirt_grey_Headphones.jpg?v=1595618442', 'https://cdn.shopify.com/s/files/1/0250/0778/3998/products/Red_shirt_neon_Headphones.jpg?v=1595618442', 'https://cdn.shopify.com/s/files/1/0250/0778/3998/products/Grey_shirt_black_Headphones.jpg?v=1595618442', 'https://cdn.shopify.com/s/files/1/0250/0778/3998/products/Grey_shirt_white_Headphones.jpg?v=1595618442', 'https://cdn.shopify.com/s/files/1/0250/0778/3998/products/Grey_shirt_green_Headphones.jpg?v=1595618442', 'https://cdn.shopify.com/s/files/1/0250/0778/3998/products/Grey_shirt_purple_Headphones.jpg?v=1595618442', 'https://cdn.shopify.com/s/files/1/0250/0778/3998/products/Grey_shirt_blue_Headphones.jpg?v=1595618442', 'https://cdn.shopify.com/s/files/1/0250/0778/3998/products/Grey_shirt_red_Headphones.jpg?v=1595618442', 'https://cdn.shopify.com/s/files/1/0250/0778/3998/products/Grey_shirt_orange_Headphones.jpg?v=1595618442', 'https://cdn.shopify.com/s/files/1/0250/0778/3998/products/Grey_shirt_yellow_Headphones.jpg?v=1595618442', 'https://cdn.shopify.com/s/files/1/0250/0778/3998/products/Grey_shirt_Grey_Headphones.jpg?v=1595618442', 'https://cdn.shopify.com/s/files/1/0250/0778/3998/products/Grey_shirt_neon_Headphones.jpg?v=1595618442'], 'url': 'https://stitchedicons.com/products/headphones', 'agoraScore': 92, 'priceHistory': [{'price': 19.99, 'date': '2025-01-18T22:35:34.519Z', '_id': '678c2cb60205c9203b7f3ee3'}], 'discountVal': 0}, {'name': 'Stereo Headphones', 'storeName': 'Vivitar.com', 'brand': 'Vivitar.com', '_id': '678cd3dc356a36f784b60b60', 'slug': 'stereo-headphones-da023643-45da-43f6-97af-509b6615fa68-1737282524363', 'price': 19.99, 'isVerified': False, 'isBoosted': False, 'source': 'shopify', 'images': ['https://cdn.shopify.com/s/files/1/1569/9941/products/VPAS2001.jpg?v=1613800715', 'https://cdn.shopify.com/s/files/1/1569/9941/products/VPAS2001_2.jpg?v=1613800719', 'https://cdn.shopify.com/s/files/1/1569/9941/products/vpas2001pnk.jpg?v=1613800722'], 'url': 'https://vivitar.com/products/stereo-headphones', 'agoraScore': 100, 'priceHistory': [{'price': 19.99, 'date': '2025-01-19T10:28:44.381Z', '_id': '678cd3dc356a36f784b60c8d'}], 'discountVal': 0}]}\"}]}]\n",
      "[{'role': 'assistant', 'content': [TextBlock(citations=None, text='Based on your search for headphones in the $100-$200 price range, I found one product that matches your criteria. Here it is:', type='text'), ToolUseBlock(id='toolu_01Xv98ZHEZRhirgMS1AjaR4L', input={'item': '{\"name\": \"Sonic Headphones (Black)\", \"storeName\": \"TC Running Co\", \"brand\": \"Suunto\", \"_id\": \"677e58f7770698bbe86cf7d7\", \"price\": 150, \"images\": [\"https://cdn.shopify.com/s/files/1/1804/7057/files/suunto-sonic-black-side-3-1280x1280px.webp?v=1717101867\"], \"agoraScore\": 92}'}, name='ProductCard', type='tool_use')]}, {'role': 'user', 'content': [{'type': 'tool_result', 'tool_use_id': 'toolu_01Xv98ZHEZRhirgMS1AjaR4L', 'content': \"div((div((div((div((img((),{'src': 'https://cdn.shopify.com/s/files/1/1804/7057/files/suunto-sonic-black-side-3-1280x1280px.webp?v=1717101867', 'alt': 'Sonic Headphones (Black)', 'class': 'max-h-52 object-contain'}),),{}), div((h3(('Sonic Headphones (Black)',),{'class': 'uk-h3 '}), strong(('$150',),{'class': 'font-bold '}), div(('Brand: Suunto',),{}), div(('Store: TC Running Co',),{}), div(('Rating: 92/100',),{}), button(('View Details',),{'type': 'submit', 'id': 'view-677e58f7770698bbe86cf7d7', 'class': 'uk-btn uk-btn-default', 'name': 'view-677e58f7770698bbe86cf7d7'})),{'class': 'flex flex-col items-center space-y-4'})),{'class': 'flex flex-row items-center space-x-4'}),),{'class': 'uk-card-body space-y-6'}),),{'class': 'uk-card '})\"}]}]\n",
      "[{'role': 'assistant', 'content': [TextBlock(citations=None, text='I only found one headphone option within your specified price range of $100-$200:\\n\\n- Sonic Headphones (Black) by Suunto\\n- Price: $150\\n- Store: TC Running Co\\n- Rating: 92/100\\n\\nWould you like me to search for more headphone options with different price ranges, or would you like more information about this particular model?', type='text')]}]\n"
     ]
    },
    {
     "data": {
      "text/markdown": [
       "I only found one headphone option within your specified price range of &#36;100-&#36;200:\n",
       "\n",
       "- Sonic Headphones (Black) by Suunto\n",
       "- Price: &#36;150\n",
       "- Store: TC Running Co\n",
       "- Rating: 92/100\n",
       "\n",
       "Would you like me to search for more headphone options with different price ranges, or would you like more information about this particular model?\n",
       "\n",
       "<details>\n",
       "\n",
       "- id: `msg_01G79UST3iu3kJj4h91ankYk`\n",
       "- content: `[{'citations': None, 'text': 'I only found one headphone option within your specified price range of $100-$200:\\n\\n- Sonic Headphones (Black) by Suunto\\n- Price: $150\\n- Store: TC Running Co\\n- Rating: 92/100\\n\\nWould you like me to search for more headphone options with different price ranges, or would you like more information about this particular model?', 'type': 'text'}]`\n",
       "- model: `claude-3-7-sonnet-20250219`\n",
       "- role: `assistant`\n",
       "- stop_reason: `end_turn`\n",
       "- stop_sequence: `None`\n",
       "- type: `message`\n",
       "- usage: `{'cache_creation_input_tokens': 0, 'cache_read_input_tokens': 0, 'input_tokens': 6167, 'output_tokens': 86}`\n",
       "\n",
       "</details>"
      ],
      "text/plain": [
       "Message(id='msg_01G79UST3iu3kJj4h91ankYk', content=[TextBlock(citations=None, text='I only found one headphone option within your specified price range of $100-$200:\\n\\n- Sonic Headphones (Black) by Suunto\\n- Price: $150\\n- Store: TC Running Co\\n- Rating: 92/100\\n\\nWould you like me to search for more headphone options with different price ranges, or would you like more information about this particular model?', type='text')], model='claude-3-7-sonnet-20250219', role='assistant', stop_reason='end_turn', stop_sequence=None, type='message', usage=In: 6167; Out: 86; Cache create: 0; Cache read: 0; Total: 6253)"
      ]
     },
     "execution_count": 21,
     "metadata": {},
     "output_type": "execute_result"
    }
   ],
   "source": [
    "chat = Chat(models[1], sp='''You are a helpful assistant that can search for products in a store. \n",
    "            Whenever you need to display a product, use the ProductCard tool.''',\n",
    "             tools=[search_trial, ProductCard])\n",
    "chat.toolloop('can you search for headphones in the price range of 100 to 200', trace_func=print)"
   ]
  },
  {
   "cell_type": "code",
   "execution_count": 22,
   "metadata": {},
   "outputs": [
    {
     "data": {
      "text/plain": [
       "[{'role': 'user',\n",
       "  'content': 'can you search for headphones in the price range of 100 to 200'},\n",
       " {'role': 'assistant',\n",
       "  'content': [TextBlock(citations=None, text=\"I'll search for headphones in the price range of $100 to $200 for you.\", type='text'),\n",
       "   ToolUseBlock(id='toolu_01PyPi77BGYsWt8B7ugdpNUN', input={'query': 'headphones', 'price_range': [100, 200]}, name='search_trial', type='tool_use')]},\n",
       " {'role': 'user',\n",
       "  'content': [{'type': 'tool_result',\n",
       "    'tool_use_id': 'toolu_01PyPi77BGYsWt8B7ugdpNUN',\n",
       "    'content': \"{'status': 'success', 'Products': [{'name': 'Headphones', 'storeName': 'The Baby Cubby', 'brand': 'Tonies', '_id': '6674b4aab49534201189688d', 'slug': 'tonies-headphones-08c2c9a1-b3af-4883-aebf-2a283a1fc0fd-1718924458056', 'price': 29.99, 'isVerified': False, 'isBoosted': False, 'source': 'shopify', 'images': ['https://cdn.shopify.com/s/files/1/0467/0649/1556/products/Heaphones-PDP-Assets-Gray-1.jpg?v=1637054130', 'https://cdn.shopify.com/s/files/1/0467/0649/1556/products/Heaphones-PDP-Assets-Gray-2.jpg?v=1637054132', 'https://cdn.shopify.com/s/files/1/0467/0649/1556/products/Heaphones-PDP-Assets-Gray-3.jpg?v=1637054134', 'https://cdn.shopify.com/s/files/1/0467/0649/1556/products/blue_8b41cdb7-1f12-4b3d-b43c-8aac607377f3.jpg?v=1637336366', 'https://cdn.shopify.com/s/files/1/0467/0649/1556/products/Heaphones-PDP-Assets-Pink-1.jpg?v=1637336366', 'https://cdn.shopify.com/s/files/1/0467/0649/1556/products/Reddd.jpg?v=1637336366'], 'url': 'https://babycubby.com/products/tonies-headphones', 'agoraScore': 92, 'priceHistory': [{'price': 29.99, 'date': '2024-06-20T23:24:59.057Z', '_id': '6713d5706ca0a1804a53068e'}], 'discountVal': 0}, {'name': 'Sonic Headphones (Black)', 'storeName': 'TC Running Co', 'brand': 'Suunto', '_id': '677e58f7770698bbe86cf7d7', 'slug': 'sonic-headphones-black-3c874edc-b295-4213-9534-21d140662663-1736333559892', 'price': 150, 'isVerified': False, 'isBoosted': False, 'source': 'shopify', 'images': ['https://cdn.shopify.com/s/files/1/1804/7057/files/suunto-sonic-black-side-3-1280x1280px.webp?v=1717101867'], 'url': 'https://tcrunningco.com/products/sonic-headphones-black', 'agoraScore': 92, 'priceHistory': [{'price': 150, 'date': '2025-01-08T10:52:40.147Z', '_id': '677e5923770698bbe86d20cd'}], 'discountVal': 0}, {'name': '3.0 Stereo Bluetooth Wireless Headset/Headphones With Call Mic/Microphone', 'storeName': 'Search Reverse Phone Number', 'brand': 'AMAZON', '_id': '678a1f8705d6339444805087', 'slug': '3-0-stereo-bluetooth-wireless-headset-headphones-with-call-mic-microphone-1-b6ba2797-22e8-4566-a029-25a1372e38b4-1737105287582', 'price': 39.99, 'isVerified': False, 'isBoosted': False, 'source': 'shopify', 'images': ['https://cdn.shopify.com/s/files/1/0237/2750/5485/products/product-image-514582129.jpg?v=1571678450'], 'url': 'https://searchreversephonenumber.com/products/3-0-stereo-bluetooth-wireless-headset-headphones-with-call-mic-microphone-1', 'agoraScore': 86, 'priceHistory': [{'price': 39.99, 'date': '2025-01-17T09:14:47.721Z', '_id': '678a1f8805d633944480635e'}], 'averageRating': 4, 'discountVal': 0}, {'name': 'HEADPHONES', 'storeName': 'Stitched Icons', 'brand': 'stitchedicons', '_id': '678c2cb60205c9203b7f3ec2', 'slug': 'headphones-40389314-557a-48ee-a9d4-b436bad0f172-1737239734508', 'price': 19.99, 'isVerified': False, 'isBoosted': False, 'source': 'shopify', 'images': ['https://cdn.shopify.com/s/files/1/0250/0778/3998/products/Covers.jpg?v=1595618442', 'https://cdn.shopify.com/s/files/1/0250/0778/3998/products/White_shirt_black_Headphones.jpg?v=1595618442', 'https://cdn.shopify.com/s/files/1/0250/0778/3998/products/White_shirt_white_Headphones.jpg?v=1595618442', 'https://cdn.shopify.com/s/files/1/0250/0778/3998/products/White_shirt_green_Headphones.jpg?v=1595618442', 'https://cdn.shopify.com/s/files/1/0250/0778/3998/products/White_shirt_purple_Headphones.jpg?v=1595618442', 'https://cdn.shopify.com/s/files/1/0250/0778/3998/products/White_shirt_blue_Headphones.jpg?v=1595618442', 'https://cdn.shopify.com/s/files/1/0250/0778/3998/products/White_shirt_red_Headphones.jpg?v=1595618442', 'https://cdn.shopify.com/s/files/1/0250/0778/3998/products/White_shirt_orange_Headphones.jpg?v=1595618442', 'https://cdn.shopify.com/s/files/1/0250/0778/3998/products/White_shirt_Yellow_Headphones.jpg?v=1595618442', 'https://cdn.shopify.com/s/files/1/0250/0778/3998/products/White_shirt_grey_Headphones.jpg?v=1595618442', 'https://cdn.shopify.com/s/files/1/0250/0778/3998/products/white_shirt_neon_Headphones.jpg?v=1595618442', 'https://cdn.shopify.com/s/files/1/0250/0778/3998/products/Black_shirt_black_Headphones.jpg?v=1595618442', 'https://cdn.shopify.com/s/files/1/0250/0778/3998/products/Black_shirt_white_Headphones.jpg?v=1595618442', 'https://cdn.shopify.com/s/files/1/0250/0778/3998/products/Black_shirt_green_Headphones.jpg?v=1595618442', 'https://cdn.shopify.com/s/files/1/0250/0778/3998/products/Black_shirt_purple_Headphones.jpg?v=1595618442', 'https://cdn.shopify.com/s/files/1/0250/0778/3998/products/Black_shirt_blue_Headphones.jpg?v=1595618442', 'https://cdn.shopify.com/s/files/1/0250/0778/3998/products/Black_shirt_red_Headphones.jpg?v=1595618442', 'https://cdn.shopify.com/s/files/1/0250/0778/3998/products/Black_shirt_Orange_Headphones.jpg?v=1595618442', 'https://cdn.shopify.com/s/files/1/0250/0778/3998/products/Black_shirt_Yellow_Headphones.jpg?v=1595618442', 'https://cdn.shopify.com/s/files/1/0250/0778/3998/products/Black_shirt_Grey_Headphones.jpg?v=1595618442', 'https://cdn.shopify.com/s/files/1/0250/0778/3998/products/Black_shirt_neon_Headphones.jpg?v=1595618442', 'https://cdn.shopify.com/s/files/1/0250/0778/3998/products/Navy_shirt_Black_Headphones.jpg?v=1595618442', 'https://cdn.shopify.com/s/files/1/0250/0778/3998/products/Navy_shirt_white_Headphones.jpg?v=1595618442', 'https://cdn.shopify.com/s/files/1/0250/0778/3998/products/Navy_shirt_Green_Headphones.jpg?v=1595618442', 'https://cdn.shopify.com/s/files/1/0250/0778/3998/products/Navy_shirt_Purple_Headphones.jpg?v=1595618442', 'https://cdn.shopify.com/s/files/1/0250/0778/3998/products/Navy_shirt_Blue_Headphones.jpg?v=1595618442', 'https://cdn.shopify.com/s/files/1/0250/0778/3998/products/Navy_shirt_Red_Headphones.jpg?v=1595618442', 'https://cdn.shopify.com/s/files/1/0250/0778/3998/products/Navy_shirt_Orange_Headphones.jpg?v=1595618442', 'https://cdn.shopify.com/s/files/1/0250/0778/3998/products/Navy_shirt_Yellow_Headphones.jpg?v=1595618442', 'https://cdn.shopify.com/s/files/1/0250/0778/3998/products/Navy_shirt_Grey_Headphones.jpg?v=1595618442', 'https://cdn.shopify.com/s/files/1/0250/0778/3998/products/Navy_shirt_Neon_Headphones.jpg?v=1595618442', 'https://cdn.shopify.com/s/files/1/0250/0778/3998/products/Royal_shirt_black_Headphones.jpg?v=1595618442', 'https://cdn.shopify.com/s/files/1/0250/0778/3998/products/Royal_shirt_white_Headphones.jpg?v=1595618442', 'https://cdn.shopify.com/s/files/1/0250/0778/3998/products/Royal_shirt_green_Headphones.jpg?v=1595618442', 'https://cdn.shopify.com/s/files/1/0250/0778/3998/products/Royal_shirt_purple_Headphones.jpg?v=1595618442', 'https://cdn.shopify.com/s/files/1/0250/0778/3998/products/Royal_shirt_blue_Headphones.jpg?v=1595618442', 'https://cdn.shopify.com/s/files/1/0250/0778/3998/products/Royal_shirt_red_Headphones.jpg?v=1595618442', 'https://cdn.shopify.com/s/files/1/0250/0778/3998/products/Royal_shirt_orange_Headphones.jpg?v=1595618442', 'https://cdn.shopify.com/s/files/1/0250/0778/3998/products/Royal_shirt_yellow_Headphones.jpg?v=1595618442', 'https://cdn.shopify.com/s/files/1/0250/0778/3998/products/Royal_shirt_grey_Headphones.jpg?v=1595618442', 'https://cdn.shopify.com/s/files/1/0250/0778/3998/products/Royal_shirt_neon_Headphones.jpg?v=1595618442', 'https://cdn.shopify.com/s/files/1/0250/0778/3998/products/Red_shirt_black_Headphones.jpg?v=1595618442', 'https://cdn.shopify.com/s/files/1/0250/0778/3998/products/Red_shirt_white_Headphones.jpg?v=1595618442', 'https://cdn.shopify.com/s/files/1/0250/0778/3998/products/Red_shirt_green_Headphones.jpg?v=1595618442', 'https://cdn.shopify.com/s/files/1/0250/0778/3998/products/Red_shirt_Purple_Headphones.jpg?v=1595618442', 'https://cdn.shopify.com/s/files/1/0250/0778/3998/products/Red_shirt_blue_Headphones.jpg?v=1595618442', 'https://cdn.shopify.com/s/files/1/0250/0778/3998/products/Red_shirt_red_Headphones.jpg?v=1595618442', 'https://cdn.shopify.com/s/files/1/0250/0778/3998/products/Red_shirt_orange_Headphones.jpg?v=1595618442', 'https://cdn.shopify.com/s/files/1/0250/0778/3998/products/Red_shirt_yellow_Headphones.jpg?v=1595618442', 'https://cdn.shopify.com/s/files/1/0250/0778/3998/products/Red_shirt_grey_Headphones.jpg?v=1595618442', 'https://cdn.shopify.com/s/files/1/0250/0778/3998/products/Red_shirt_neon_Headphones.jpg?v=1595618442', 'https://cdn.shopify.com/s/files/1/0250/0778/3998/products/Grey_shirt_black_Headphones.jpg?v=1595618442', 'https://cdn.shopify.com/s/files/1/0250/0778/3998/products/Grey_shirt_white_Headphones.jpg?v=1595618442', 'https://cdn.shopify.com/s/files/1/0250/0778/3998/products/Grey_shirt_green_Headphones.jpg?v=1595618442', 'https://cdn.shopify.com/s/files/1/0250/0778/3998/products/Grey_shirt_purple_Headphones.jpg?v=1595618442', 'https://cdn.shopify.com/s/files/1/0250/0778/3998/products/Grey_shirt_blue_Headphones.jpg?v=1595618442', 'https://cdn.shopify.com/s/files/1/0250/0778/3998/products/Grey_shirt_red_Headphones.jpg?v=1595618442', 'https://cdn.shopify.com/s/files/1/0250/0778/3998/products/Grey_shirt_orange_Headphones.jpg?v=1595618442', 'https://cdn.shopify.com/s/files/1/0250/0778/3998/products/Grey_shirt_yellow_Headphones.jpg?v=1595618442', 'https://cdn.shopify.com/s/files/1/0250/0778/3998/products/Grey_shirt_Grey_Headphones.jpg?v=1595618442', 'https://cdn.shopify.com/s/files/1/0250/0778/3998/products/Grey_shirt_neon_Headphones.jpg?v=1595618442'], 'url': 'https://stitchedicons.com/products/headphones', 'agoraScore': 92, 'priceHistory': [{'price': 19.99, 'date': '2025-01-18T22:35:34.519Z', '_id': '678c2cb60205c9203b7f3ee3'}], 'discountVal': 0}, {'name': 'Stereo Headphones', 'storeName': 'Vivitar.com', 'brand': 'Vivitar.com', '_id': '678cd3dc356a36f784b60b60', 'slug': 'stereo-headphones-da023643-45da-43f6-97af-509b6615fa68-1737282524363', 'price': 19.99, 'isVerified': False, 'isBoosted': False, 'source': 'shopify', 'images': ['https://cdn.shopify.com/s/files/1/1569/9941/products/VPAS2001.jpg?v=1613800715', 'https://cdn.shopify.com/s/files/1/1569/9941/products/VPAS2001_2.jpg?v=1613800719', 'https://cdn.shopify.com/s/files/1/1569/9941/products/vpas2001pnk.jpg?v=1613800722'], 'url': 'https://vivitar.com/products/stereo-headphones', 'agoraScore': 100, 'priceHistory': [{'price': 19.99, 'date': '2025-01-19T10:28:44.381Z', '_id': '678cd3dc356a36f784b60c8d'}], 'discountVal': 0}]}\"}]},\n",
       " {'role': 'assistant',\n",
       "  'content': [TextBlock(citations=None, text='Based on your search for headphones in the $100-$200 price range, I found one product that matches your criteria. Here it is:', type='text'),\n",
       "   ToolUseBlock(id='toolu_01Xv98ZHEZRhirgMS1AjaR4L', input={'item': '{\"name\": \"Sonic Headphones (Black)\", \"storeName\": \"TC Running Co\", \"brand\": \"Suunto\", \"_id\": \"677e58f7770698bbe86cf7d7\", \"price\": 150, \"images\": [\"https://cdn.shopify.com/s/files/1/1804/7057/files/suunto-sonic-black-side-3-1280x1280px.webp?v=1717101867\"], \"agoraScore\": 92}'}, name='ProductCard', type='tool_use')]},\n",
       " {'role': 'user',\n",
       "  'content': [{'type': 'tool_result',\n",
       "    'tool_use_id': 'toolu_01Xv98ZHEZRhirgMS1AjaR4L',\n",
       "    'content': \"div((div((div((div((img((),{'src': 'https://cdn.shopify.com/s/files/1/1804/7057/files/suunto-sonic-black-side-3-1280x1280px.webp?v=1717101867', 'alt': 'Sonic Headphones (Black)', 'class': 'max-h-52 object-contain'}),),{}), div((h3(('Sonic Headphones (Black)',),{'class': 'uk-h3 '}), strong(('$150',),{'class': 'font-bold '}), div(('Brand: Suunto',),{}), div(('Store: TC Running Co',),{}), div(('Rating: 92/100',),{}), button(('View Details',),{'type': 'submit', 'id': 'view-677e58f7770698bbe86cf7d7', 'class': 'uk-btn uk-btn-default', 'name': 'view-677e58f7770698bbe86cf7d7'})),{'class': 'flex flex-col items-center space-y-4'})),{'class': 'flex flex-row items-center space-x-4'}),),{'class': 'uk-card-body space-y-6'}),),{'class': 'uk-card '})\"}]},\n",
       " {'role': 'assistant',\n",
       "  'content': [TextBlock(citations=None, text='I only found one headphone option within your specified price range of $100-$200:\\n\\n- Sonic Headphones (Black) by Suunto\\n- Price: $150\\n- Store: TC Running Co\\n- Rating: 92/100\\n\\nWould you like me to search for more headphone options with different price ranges, or would you like more information about this particular model?', type='text')]}]"
      ]
     },
     "execution_count": 22,
     "metadata": {},
     "output_type": "execute_result"
    }
   ],
   "source": [
    "chat.h"
   ]
  },
  {
   "cell_type": "code",
   "execution_count": null,
   "metadata": {},
   "outputs": [],
   "source": []
  },
  {
   "cell_type": "code",
   "execution_count": 23,
   "metadata": {},
   "outputs": [],
   "source": [
    "#| hide\n",
    "import nbdev; nbdev.nbdev_export()"
   ]
  }
 ],
 "metadata": {
  "kernelspec": {
   "display_name": ".venv",
   "language": "python",
   "name": "python3"
  },
  "language_info": {
   "codemirror_mode": {
    "name": "ipython",
    "version": 3
   },
   "file_extension": ".py",
   "mimetype": "text/x-python",
   "name": "python",
   "nbconvert_exporter": "python",
   "pygments_lexer": "ipython3",
   "version": "3.12.3"
  }
 },
 "nbformat": 4,
 "nbformat_minor": 4
}
